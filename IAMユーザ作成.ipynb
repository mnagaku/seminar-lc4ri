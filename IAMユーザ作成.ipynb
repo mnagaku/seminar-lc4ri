{
 "cells": [
  {
   "cell_type": "markdown",
   "metadata": {
    "lc_cell_meme": {
     "current": "ad97e6f8-bd87-11e9-897b-0242ac130003",
     "next": "b8ce77f0-bd80-11e9-897b-0242ac130003",
     "previous": null
    }
   },
   "source": [
    "# IAM_GROUPとユーザ名のprefixを指定して、IAMユーザを一括作成\n",
    "\n",
    "このNotebookを動かすためには、iamの生成/削除権限がある状態でawsコマンドが使えることが前提になる\n",
    "\n",
    "ログインパスワードは持たせないで、AccessKeyIdとSecretAccessKeyを発行し、API経由の操作だけできるようにする"
   ]
  },
  {
   "cell_type": "code",
   "execution_count": null,
   "metadata": {
    "lc_cell_meme": {
     "current": "b8ce77f0-bd80-11e9-897b-0242ac130003",
     "history": [
      {
       "current": "b8ce77f0-bd80-11e9-897b-0242ac130003",
       "next": "b8ce7a0c-bd80-11e9-897b-0242ac130003",
       "previous": null
      }
     ],
     "next": "b8ce7a0c-bd80-11e9-897b-0242ac130003",
     "previous": "ad97e6f8-bd87-11e9-897b-0242ac130003"
    },
    "lc_wrapper": {
     "log_history": [
      "/home/jovyan/data/notebooks/mnagaku/seminar-lc4ri/.log/20190813/20190813-124726-0472.log",
      "/home/jovyan/data/notebooks/mnagaku/seminar-lc4ri/.log/20190813/20190813-124825-0714.log",
      "/home/jovyan/data/notebooks/mnagaku/seminar-lc4ri/.log/20190821/20190821-165729-0763.log"
     ]
    }
   },
   "outputs": [],
   "source": [
    "iam_group = 'seminar_lc4ri'"
   ]
  },
  {
   "cell_type": "code",
   "execution_count": null,
   "metadata": {
    "lc_cell_meme": {
     "current": "b8ce7a0c-bd80-11e9-897b-0242ac130003",
     "next": "b8ce7b1a-bd80-11e9-897b-0242ac130003",
     "previous": "b8ce77f0-bd80-11e9-897b-0242ac130003"
    },
    "lc_wrapper": {
     "log_history": [
      "/home/jovyan/data/notebooks/mnagaku/seminar-lc4ri/.log/20190813/20190813-124821-0017.log",
      "/home/jovyan/data/notebooks/mnagaku/seminar-lc4ri/.log/20190821/20190821-165730-0879.log"
     ]
    }
   },
   "outputs": [],
   "source": [
    "user_prefix = 'lc4ri'"
   ]
  },
  {
   "cell_type": "code",
   "execution_count": null,
   "metadata": {
    "lc_cell_meme": {
     "current": "b8ce7b1a-bd80-11e9-897b-0242ac130003",
     "next": "b8ce7c0a-bd80-11e9-897b-0242ac130003",
     "previous": "b8ce7a0c-bd80-11e9-897b-0242ac130003"
    },
    "lc_wrapper": {
     "log_history": [
      "/home/jovyan/data/notebooks/mnagaku/seminar-lc4ri/.log/20190813/20190813-125717-0312.log",
      "/home/jovyan/data/notebooks/mnagaku/seminar-lc4ri/.log/20190813/20190813-125748-0568.log",
      "/home/jovyan/data/notebooks/mnagaku/seminar-lc4ri/.log/20190813/20190813-130112-0710.log",
      "/home/jovyan/data/notebooks/mnagaku/seminar-lc4ri/.log/20190813/20190813-131943-0079.log",
      "/home/jovyan/data/notebooks/mnagaku/seminar-lc4ri/.log/20190813/20190813-132021-0255.log",
      "/home/jovyan/data/notebooks/mnagaku/seminar-lc4ri/.log/20190813/20190813-132058-0435.log",
      "/home/jovyan/data/notebooks/mnagaku/seminar-lc4ri/.log/20190813/20190813-133745-0254.log",
      "/home/jovyan/data/notebooks/mnagaku/seminar-lc4ri/.log/20190813/20190813-133826-0666.log",
      "/home/jovyan/data/notebooks/mnagaku/seminar-lc4ri/.log/20190813/20190813-134847-0422.log",
      "/home/jovyan/data/notebooks/mnagaku/seminar-lc4ri/.log/20190813/20190813-134945-0278.log",
      "/home/jovyan/data/notebooks/mnagaku/seminar-lc4ri/.log/20190813/20190813-135027-0470.log",
      "/home/jovyan/data/notebooks/mnagaku/seminar-lc4ri/.log/20190813/20190813-135127-0493.log",
      "/home/jovyan/data/notebooks/mnagaku/seminar-lc4ri/.log/20190813/20190813-135216-0301.log",
      "/home/jovyan/data/notebooks/mnagaku/seminar-lc4ri/.log/20190821/20190821-165734-0314.log"
     ]
    }
   },
   "outputs": [],
   "source": [
    "num = 30\n",
    "\n",
    "import json\n",
    "\n",
    "commands = []\n",
    "\n",
    "for n in range(num):\n",
    "    username = user_prefix + str(n).zfill(3)\n",
    "    ret = !aws iam create-user --user-name {username}\n",
    "    ret = !aws iam add-user-to-group --user-name {username} --group-name {iam_group}\n",
    "    row = !aws iam create-access-key --user-name {username}\n",
    "    k = json.loads(''.join(row))\n",
    "    commands.append(\"aws iam delete-access-key --user-name '\" + username + \"' --access-key-id '\" + k[\"AccessKey\"][\"AccessKeyId\"] + \"'\")\n",
    "    print('------------------------------------')\n",
    "    print(username)\n",
    "    print(k[\"AccessKey\"][\"AccessKeyId\"])\n",
    "    print(k[\"AccessKey\"][\"SecretAccessKey\"])\n"
   ]
  },
  {
   "cell_type": "code",
   "execution_count": null,
   "metadata": {
    "lc_cell_meme": {
     "current": "b8ce7c0a-bd80-11e9-897b-0242ac130003",
     "next": "b8ce7ce6-bd80-11e9-897b-0242ac130003",
     "previous": "b8ce7b1a-bd80-11e9-897b-0242ac130003"
    },
    "lc_wrapper": {
     "log_history": [
      "/home/jovyan/data/notebooks/mnagaku/seminar-lc4ri/.log/20190813/20190813-130322-0959.log",
      "/home/jovyan/data/notebooks/mnagaku/seminar-lc4ri/.log/20190813/20190813-130518-0257.log",
      "/home/jovyan/data/notebooks/mnagaku/seminar-lc4ri/.log/20190813/20190813-130738-0273.log",
      "/home/jovyan/data/notebooks/mnagaku/seminar-lc4ri/.log/20190813/20190813-130904-0855.log",
      "/home/jovyan/data/notebooks/mnagaku/seminar-lc4ri/.log/20190813/20190813-134259-0081.log",
      "/home/jovyan/data/notebooks/mnagaku/seminar-lc4ri/.log/20190813/20190813-134327-0811.log",
      "/home/jovyan/data/notebooks/mnagaku/seminar-lc4ri/.log/20190813/20190813-134420-0889.log",
      "/home/jovyan/data/notebooks/mnagaku/seminar-lc4ri/.log/20190813/20190813-135145-0926.log",
      "/home/jovyan/data/notebooks/mnagaku/seminar-lc4ri/.log/20190813/20190813-135253-0767.log"
     ]
    }
   },
   "outputs": [],
   "source": [
    "import os\n",
    "\n",
    "n = 0\n",
    "for c in commands:\n",
    "    os.system(c)\n",
    "    username = user_prefix + str(n).zfill(3)\n",
    "    !aws iam remove-user-from-group --user-name {username} --group-name {iam_group}\n",
    "    !aws iam delete-user --user-name {username}\n",
    "    n += 1\n"
   ]
  },
  {
   "cell_type": "markdown",
   "metadata": {
    "lc_cell_meme": {
     "current": "b8ce7ce6-bd80-11e9-897b-0242ac130003",
     "history": [
      {
       "current": "b8ce7ce6-bd80-11e9-897b-0242ac130003",
       "next": null,
       "previous": "b8ce7c0a-bd80-11e9-897b-0242ac130003"
      }
     ],
     "next": null,
     "previous": "b8ce7c0a-bd80-11e9-897b-0242ac130003"
    }
   },
   "source": [
    "作ったユーザを即座に消せるようにしているが、ダッシュボード上からフィルタかけて選択して削除でも簡単に消せるので、実務上はダッシュボード使って消す想定"
   ]
  }
 ],
 "metadata": {
  "kernelspec": {
   "display_name": "Python 3",
   "language": "python",
   "name": "python3"
  },
  "language_info": {
   "file_extension": ".py",
   "mimetype": "text/x-python",
   "name": "python",
   "nbconvert_exporter": "python",
   "pygments_lexer": "ipython3",
   "version": "3.7.3"
  },
  "lc_notebook_meme": {
   "current": "6a655e90-b74e-11e9-99cd-0242ac140003",
   "lc_server_signature": {
    "current": {
     "notebook_dir": "/home/jovyan",
     "notebook_path": "/data/notebooks/mnagaku/seminar-lc4ri",
     "server_url": "http://localhost:8888/",
     "signature_id": "60d2da1a-c3e2-11e9-a49b-0242ac130003"
    },
    "history": [
     {
      "notebook_dir": "/home/jovyan",
      "notebook_path": "/data/notebooks/mnagaku/nii20190909",
      "server_url": "http://localhost:8888/",
      "signature_id": "a2539f90-b74b-11e9-99cd-0242ac140003"
     },
     {
      "notebook_dir": "/home/jovyan",
      "notebook_path": "/data/notebooks/mnagaku/seminar-lc4ri",
      "server_url": "http://localhost:8888/",
      "signature_id": "2aeac838-bd78-11e9-897b-0242ac130003"
     },
     {
      "notebook_dir": "/home/jovyan",
      "notebook_path": "/data/notebooks/mnagaku/seminar-lc4ri",
      "server_url": "http://localhost:8888/",
      "signature_id": "ff9db736-c3d9-11e9-9868-0242ac120003"
     }
    ]
   }
  },
  "toc": {
   "base_numbering": 1,
   "nav_menu": {},
   "number_sections": true,
   "sideBar": true,
   "skip_h1_title": false,
   "title_cell": "Table of Contents",
   "title_sidebar": "Contents",
   "toc_cell": false,
   "toc_position": {},
   "toc_section_display": true,
   "toc_window_display": true
  }
 },
 "nbformat": 4,
 "nbformat_minor": 2
}
