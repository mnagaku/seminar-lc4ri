{
 "cells": [
  {
   "cell_type": "markdown",
   "metadata": {
    "lc_cell_meme": {
     "current": "fd1fc1be-bd78-11e9-897b-0242ac130003",
     "history": [
      {
       "current": "fd1fc1be-bd78-11e9-897b-0242ac130003",
       "next": "fd1fc524-bd78-11e9-897b-0242ac130003",
       "previous": null
      }
     ],
     "next": "19374dd2-bd9b-11e9-897b-0242ac130003",
     "previous": null
    }
   },
   "source": [
    "# トレーニング用イメージ作成\n"
   ]
  },
  {
   "cell_type": "code",
   "execution_count": null,
   "metadata": {
    "lc_cell_meme": {
     "current": "19374dd2-bd9b-11e9-897b-0242ac130003",
     "next": "fd1fc1be-bd78-11e9-897b-0242ac130003",
     "previous": "fd1fc1be-bd78-11e9-897b-0242ac130003"
    },
    "lc_wrapper": {
     "log_history": [
      "/home/jovyan/data/notebooks/mnagaku/seminar-lc4ri/.log/20190813/20190813-164011-0376.log",
      "/home/jovyan/data/notebooks/mnagaku/seminar-lc4ri/.log/20190814/20190814-101858-0834.log",
      "/home/jovyan/data/notebooks/mnagaku/seminar-lc4ri/.log/20190819/20190819-111343-0446.log",
      "/home/jovyan/data/notebooks/mnagaku/seminar-lc4ri/.log/20190819/20190819-121503-0194.log",
      "/home/jovyan/data/notebooks/mnagaku/seminar-lc4ri/.log/20190819/20190819-175205-0169.log",
      "/home/jovyan/data/notebooks/mnagaku/seminar-lc4ri/.log/20190820/20190820-140836-0438.log",
      "/home/jovyan/data/notebooks/mnagaku/seminar-lc4ri/.log/20190820/20190820-171654-0270.log",
      "/home/jovyan/data/notebooks/mnagaku/seminar-lc4ri/.log/20190821/20190821-162300-0555.log",
      "/home/jovyan/data/notebooks/mnagaku/seminar-lc4ri/.log/20190821/20190821-165809-0818.log",
      "/home/jovyan/data/notebooks/mnagaku/seminar-lc4ri/.log/20190829/20190829-224037-0723.log",
      "/home/jovyan/data/notebooks/mnagaku/seminar-lc4ri/.log/20190830/20190830-125925-0833.log",
      "/home/jovyan/data/notebooks/mnagaku/seminar-lc4ri/.log/20190830/20190830-183944-0868.log",
      "/home/jovyan/data/notebooks/mnagaku/seminar-lc4ri/.log/20190831/20190831-141206-0680.log",
      "/home/jovyan/data/notebooks/mnagaku/seminar-lc4ri/.log/20190831/20190831-170354-0131.log"
     ]
    }
   },
   "outputs": [],
   "source": [
    "username = 'lc4ri099'"
   ]
  },
  {
   "cell_type": "markdown",
   "metadata": {
    "lc_cell_meme": {
     "current": "fd1fc1be-bd78-11e9-897b-0242ac130003",
     "history": [
      {
       "current": "fd1fc1be-bd78-11e9-897b-0242ac130003",
       "next": "fd1fc524-bd78-11e9-897b-0242ac130003",
       "previous": null
      }
     ],
     "next": "fd1fc524-bd78-11e9-897b-0242ac130003",
     "previous": "19374dd2-bd9b-11e9-897b-0242ac130003"
    }
   },
   "source": [
    "## awscliの準備\n",
    "\n",
    "### インストール"
   ]
  },
  {
   "cell_type": "code",
   "execution_count": null,
   "metadata": {
    "lc_cell_meme": {
     "current": "fd1fc524-bd78-11e9-897b-0242ac130003",
     "next": "fd1fc786-bd78-11e9-897b-0242ac130003",
     "previous": "fd1fc1be-bd78-11e9-897b-0242ac130003"
    },
    "lc_wrapper": {
     "log_history": [
      "/home/jovyan/data/notebooks/mnagaku/seminar-lc4ri/.log/20190814/20190814-101902-0012.log",
      "/home/jovyan/data/notebooks/mnagaku/seminar-lc4ri/.log/20190814/20190814-102006-0030.log",
      "/home/jovyan/data/notebooks/mnagaku/seminar-lc4ri/.log/20190814/20190814-102053-0174.log",
      "/home/jovyan/data/notebooks/mnagaku/seminar-lc4ri/.log/20190819/20190819-111347-0631.log",
      "/home/jovyan/data/notebooks/mnagaku/seminar-lc4ri/.log/20190819/20190819-121507-0067.log",
      "/home/jovyan/data/notebooks/mnagaku/seminar-lc4ri/.log/20190820/20190820-140837-0813.log",
      "/home/jovyan/data/notebooks/mnagaku/seminar-lc4ri/.log/20190820/20190820-171655-0008.log",
      "/home/jovyan/data/notebooks/mnagaku/seminar-lc4ri/.log/20190821/20190821-162301-0773.log",
      "/home/jovyan/data/notebooks/mnagaku/seminar-lc4ri/.log/20190829/20190829-224039-0770.log",
      "/home/jovyan/data/notebooks/mnagaku/seminar-lc4ri/.log/20190830/20190830-125928-0288.log",
      "/home/jovyan/data/notebooks/mnagaku/seminar-lc4ri/.log/20190830/20190830-183946-0165.log",
      "/home/jovyan/data/notebooks/mnagaku/seminar-lc4ri/.log/20190831/20190831-141207-0712.log",
      "/home/jovyan/data/notebooks/mnagaku/seminar-lc4ri/.log/20190831/20190831-170354-0891.log"
     ]
    }
   },
   "outputs": [],
   "source": [
    "!sudo apt-get update && sudo apt-get upgrade -y && sudo apt-get install -y awscli"
   ]
  },
  {
   "cell_type": "code",
   "execution_count": null,
   "metadata": {
    "lc_cell_meme": {
     "current": "fd1fc786-bd78-11e9-897b-0242ac130003",
     "history": [
      {
       "current": "fd1fc786-bd78-11e9-897b-0242ac130003",
       "next": "fd1fcb00-bd78-11e9-897b-0242ac130003",
       "previous": "fd1fc524-bd78-11e9-897b-0242ac130003"
      }
     ],
     "next": "1937505c-bd9b-11e9-897b-0242ac130003",
     "previous": "fd1fc524-bd78-11e9-897b-0242ac130003"
    },
    "lc_wrapper": {
     "log_history": [
      "/home/jovyan/data/notebooks/mnagaku/seminar-lc4ri/.log/20190814/20190814-102235-0212.log",
      "/home/jovyan/data/notebooks/mnagaku/seminar-lc4ri/.log/20190819/20190819-111445-0288.log",
      "/home/jovyan/data/notebooks/mnagaku/seminar-lc4ri/.log/20190819/20190819-121518-0052.log",
      "/home/jovyan/data/notebooks/mnagaku/seminar-lc4ri/.log/20190820/20190820-140933-0284.log",
      "/home/jovyan/data/notebooks/mnagaku/seminar-lc4ri/.log/20190820/20190820-171702-0363.log",
      "/home/jovyan/data/notebooks/mnagaku/seminar-lc4ri/.log/20190821/20190821-162419-0951.log",
      "/home/jovyan/data/notebooks/mnagaku/seminar-lc4ri/.log/20190829/20190829-224159-0110.log",
      "/home/jovyan/data/notebooks/mnagaku/seminar-lc4ri/.log/20190830/20190830-130343-0700.log",
      "/home/jovyan/data/notebooks/mnagaku/seminar-lc4ri/.log/20190830/20190830-184043-0596.log",
      "/home/jovyan/data/notebooks/mnagaku/seminar-lc4ri/.log/20190831/20190831-141320-0003.log",
      "/home/jovyan/data/notebooks/mnagaku/seminar-lc4ri/.log/20190831/20190831-170402-0479.log"
     ]
    }
   },
   "outputs": [],
   "source": [
    "!aws --version"
   ]
  },
  {
   "cell_type": "markdown",
   "metadata": {
    "lc_cell_meme": {
     "current": "1937505c-bd9b-11e9-897b-0242ac130003",
     "next": "fd1fcb00-bd78-11e9-897b-0242ac130003",
     "previous": "fd1fc786-bd78-11e9-897b-0242ac130003"
    }
   },
   "source": [
    "### 設定"
   ]
  },
  {
   "cell_type": "code",
   "execution_count": null,
   "metadata": {
    "lc_cell_meme": {
     "current": "fd1fcb00-bd78-11e9-897b-0242ac130003",
     "history": [
      {
       "current": "fd1fcb00-bd78-11e9-897b-0242ac130003",
       "next": null,
       "previous": "fd1fc786-bd78-11e9-897b-0242ac130003"
      },
      {
       "current": "fd1fcb00-bd78-11e9-897b-0242ac130003",
       "next": "443279ac-bd79-11e9-897b-0242ac130003",
       "previous": "fd1fc786-bd78-11e9-897b-0242ac130003"
      }
     ],
     "next": "443279ac-bd79-11e9-897b-0242ac130003",
     "previous": "1937505c-bd9b-11e9-897b-0242ac130003"
    },
    "lc_wrapper": {
     "log_history": [
      "/home/jovyan/data/notebooks/mnagaku/seminar-lc4ri/.log/20190813/20190813-121931-0775.log",
      "/home/jovyan/data/notebooks/mnagaku/seminar-lc4ri/.log/20190814/20190814-102241-0727.log",
      "/home/jovyan/data/notebooks/mnagaku/seminar-lc4ri/.log/20190819/20190819-111450-0333.log",
      "/home/jovyan/data/notebooks/mnagaku/seminar-lc4ri/.log/20190819/20190819-121521-0211.log",
      "/home/jovyan/data/notebooks/mnagaku/seminar-lc4ri/.log/20190819/20190819-175209-0328.log",
      "/home/jovyan/data/notebooks/mnagaku/seminar-lc4ri/.log/20190820/20190820-140934-0180.log",
      "/home/jovyan/data/notebooks/mnagaku/seminar-lc4ri/.log/20190820/20190820-171703-0238.log",
      "/home/jovyan/data/notebooks/mnagaku/seminar-lc4ri/.log/20190821/20190821-162427-0578.log",
      "/home/jovyan/data/notebooks/mnagaku/seminar-lc4ri/.log/20190829/20190829-224204-0974.log",
      "/home/jovyan/data/notebooks/mnagaku/seminar-lc4ri/.log/20190830/20190830-132603-0825.log",
      "/home/jovyan/data/notebooks/mnagaku/seminar-lc4ri/.log/20190830/20190830-184044-0516.log",
      "/home/jovyan/data/notebooks/mnagaku/seminar-lc4ri/.log/20190831/20190831-141320-0881.log",
      "/home/jovyan/data/notebooks/mnagaku/seminar-lc4ri/.log/20190831/20190831-170406-0806.log"
     ]
    }
   },
   "outputs": [],
   "source": [
    "target_region = 'ap-northeast-1'\n",
    "!aws configure set default.region {target_region}\n",
    "!aws configure set default.output json"
   ]
  },
  {
   "cell_type": "markdown",
   "metadata": {
    "lc_cell_meme": {
     "current": "443279ac-bd79-11e9-897b-0242ac130003",
     "history": [
      {
       "current": "443279ac-bd79-11e9-897b-0242ac130003",
       "next": null,
       "previous": "fd1fcb00-bd78-11e9-897b-0242ac130003"
      },
      {
       "current": "443279ac-bd79-11e9-897b-0242ac130003",
       "next": "8c2ca728-bd79-11e9-897b-0242ac130003",
       "previous": "fd1fcb00-bd78-11e9-897b-0242ac130003"
      }
     ],
     "next": "19375192-bd9b-11e9-897b-0242ac130003",
     "previous": "fd1fcb00-bd78-11e9-897b-0242ac130003"
    }
   },
   "source": [
    "認証情報としてAccessKeyIdとSecretAccessKeyを設定します。\n",
    "\n",
    "コマンドに対する対話的な操作が必要ですから、JupyterのTerminal(treeページの[New] - [Terminal]から選択できます)から、 `aws configure` を実施してください。\n",
    "\n",
    "`aws configure` の実施例:\n",
    "\n",
    "```\n",
    "$ aws configure\n",
    "AWS Access Key ID [None]: (自身のアカウントのアクセスキー)\n",
    "AWS Secret Access Key [None]: (自身のアカウントのシークレットアクセスキー)\n",
    "Default region name [ap-northeast-1]: (Enter)\n",
    "Default output format [json]: (Enter)\n",
    "```\n",
    "\n",
    "### boto3ライブラリの追加\n",
    "\n",
    "ansibleからawsを触るために、ライブラリを追加しておきます。"
   ]
  },
  {
   "cell_type": "code",
   "execution_count": null,
   "metadata": {
    "lc_cell_meme": {
     "current": "19375192-bd9b-11e9-897b-0242ac130003",
     "next": "193752a0-bd9b-11e9-897b-0242ac130003",
     "previous": "443279ac-bd79-11e9-897b-0242ac130003"
    },
    "lc_wrapper": {
     "log_history": [
      "/home/jovyan/data/notebooks/mnagaku/seminar-lc4ri/.log/20190813/20190813-153450-0306.log",
      "/home/jovyan/data/notebooks/mnagaku/seminar-lc4ri/.log/20190813/20190813-154001-0282.log",
      "/home/jovyan/data/notebooks/mnagaku/seminar-lc4ri/.log/20190813/20190813-171304-0185.log",
      "/home/jovyan/data/notebooks/mnagaku/seminar-lc4ri/.log/20190814/20190814-102256-0712.log",
      "/home/jovyan/data/notebooks/mnagaku/seminar-lc4ri/.log/20190819/20190819-111553-0572.log",
      "/home/jovyan/data/notebooks/mnagaku/seminar-lc4ri/.log/20190819/20190819-121525-0742.log",
      "/home/jovyan/data/notebooks/mnagaku/seminar-lc4ri/.log/20190820/20190820-141038-0393.log",
      "/home/jovyan/data/notebooks/mnagaku/seminar-lc4ri/.log/20190820/20190820-171704-0923.log",
      "/home/jovyan/data/notebooks/mnagaku/seminar-lc4ri/.log/20190821/20190821-162558-0596.log",
      "/home/jovyan/data/notebooks/mnagaku/seminar-lc4ri/.log/20190829/20190829-224303-0116.log",
      "/home/jovyan/data/notebooks/mnagaku/seminar-lc4ri/.log/20190830/20190830-134136-0487.log",
      "/home/jovyan/data/notebooks/mnagaku/seminar-lc4ri/.log/20190830/20190830-184237-0680.log",
      "/home/jovyan/data/notebooks/mnagaku/seminar-lc4ri/.log/20190831/20190831-141410-0205.log",
      "/home/jovyan/data/notebooks/mnagaku/seminar-lc4ri/.log/20190831/20190831-170414-0003.log"
     ]
    }
   },
   "outputs": [],
   "source": [
    "!conda install -y boto3 boto"
   ]
  },
  {
   "cell_type": "markdown",
   "metadata": {
    "lc_cell_meme": {
     "current": "193752a0-bd9b-11e9-897b-0242ac130003",
     "next": "193753ae-bd9b-11e9-897b-0242ac130003",
     "previous": "19375192-bd9b-11e9-897b-0242ac130003"
    }
   },
   "source": [
    "## keypairの作成\n",
    "\n",
    "クラウド上でLinuxマシンを起動する前に、ssh接続に必要となるkeypairを作成します。"
   ]
  },
  {
   "cell_type": "code",
   "execution_count": null,
   "metadata": {
    "lc_cell_meme": {
     "current": "193753ae-bd9b-11e9-897b-0242ac130003",
     "history": [
      {
       "current": "193753ae-bd9b-11e9-897b-0242ac130003",
       "next": "193754b2-bd9b-11e9-897b-0242ac130003",
       "previous": "193752a0-bd9b-11e9-897b-0242ac130003"
      },
      {
       "current": "193753ae-bd9b-11e9-897b-0242ac130003",
       "next": "193755c0-bd9b-11e9-897b-0242ac130003",
       "previous": "193752a0-bd9b-11e9-897b-0242ac130003"
      }
     ],
     "next": "8c2ca728-bd79-11e9-897b-0242ac130003",
     "previous": "193752a0-bd9b-11e9-897b-0242ac130003"
    },
    "lc_wrapper": {
     "log_history": [
      "/home/jovyan/data/notebooks/mnagaku/seminar-lc4ri/.log/20190813/20190813-151159-0540.log",
      "/home/jovyan/data/notebooks/mnagaku/seminar-lc4ri/.log/20190813/20190813-151939-0912.log",
      "/home/jovyan/data/notebooks/mnagaku/seminar-lc4ri/.log/20190813/20190813-152159-0990.log",
      "/home/jovyan/data/notebooks/mnagaku/seminar-lc4ri/.log/20190813/20190813-163747-0651.log",
      "/home/jovyan/data/notebooks/mnagaku/seminar-lc4ri/.log/20190813/20190813-163931-0166.log",
      "/home/jovyan/data/notebooks/mnagaku/seminar-lc4ri/.log/20190813/20190813-163942-0604.log",
      "/home/jovyan/data/notebooks/mnagaku/seminar-lc4ri/.log/20190813/20190813-164015-0355.log",
      "/home/jovyan/data/notebooks/mnagaku/seminar-lc4ri/.log/20190813/20190813-164221-0038.log",
      "/home/jovyan/data/notebooks/mnagaku/seminar-lc4ri/.log/20190813/20190813-164254-0322.log",
      "/home/jovyan/data/notebooks/mnagaku/seminar-lc4ri/.log/20190813/20190813-164346-0283.log",
      "/home/jovyan/data/notebooks/mnagaku/seminar-lc4ri/.log/20190813/20190813-164415-0072.log",
      "/home/jovyan/data/notebooks/mnagaku/seminar-lc4ri/.log/20190813/20190813-164518-0583.log",
      "/home/jovyan/data/notebooks/mnagaku/seminar-lc4ri/.log/20190813/20190813-171239-0278.log",
      "/home/jovyan/data/notebooks/mnagaku/seminar-lc4ri/.log/20190814/20190814-102338-0472.log",
      "/home/jovyan/data/notebooks/mnagaku/seminar-lc4ri/.log/20190814/20190814-102550-0929.log",
      "/home/jovyan/data/notebooks/mnagaku/seminar-lc4ri/.log/20190819/20190819-111633-0867.log",
      "/home/jovyan/data/notebooks/mnagaku/seminar-lc4ri/.log/20190820/20190820-141116-0445.log",
      "/home/jovyan/data/notebooks/mnagaku/seminar-lc4ri/.log/20190820/20190820-171735-0213.log",
      "/home/jovyan/data/notebooks/mnagaku/seminar-lc4ri/.log/20190821/20190821-162642-0345.log",
      "/home/jovyan/data/notebooks/mnagaku/seminar-lc4ri/.log/20190821/20190821-165820-0163.log",
      "/home/jovyan/data/notebooks/mnagaku/seminar-lc4ri/.log/20190821/20190821-165947-0885.log",
      "/home/jovyan/data/notebooks/mnagaku/seminar-lc4ri/.log/20190829/20190829-224344-0181.log",
      "/home/jovyan/data/notebooks/mnagaku/seminar-lc4ri/.log/20190830/20190830-134249-0600.log",
      "/home/jovyan/data/notebooks/mnagaku/seminar-lc4ri/.log/20190830/20190830-184311-0820.log",
      "/home/jovyan/data/notebooks/mnagaku/seminar-lc4ri/.log/20190831/20190831-141446-0060.log",
      "/home/jovyan/data/notebooks/mnagaku/seminar-lc4ri/.log/20190831/20190831-172002-0656.log"
     ]
    }
   },
   "outputs": [],
   "source": [
    "!aws ec2 delete-key-pair --key-name {username}\n",
    "row = !aws ec2 create-key-pair --key-name {username} --query 'KeyMaterial' --output text\n",
    "\n",
    "with open(username + '.pem', mode='w') as f:\n",
    "    f.write('\\n'.join(row))\n",
    "\n",
    "import os\n",
    "os.chmod(username + '.pem', 0o600)\n",
    "\n",
    "#!aws ec2 delete-key-pair --key-name {username}"
   ]
  },
  {
   "cell_type": "markdown",
   "metadata": {
    "lc_cell_meme": {
     "current": "8c2ca728-bd79-11e9-897b-0242ac130003",
     "history": [
      {
       "current": "8c2ca728-bd79-11e9-897b-0242ac130003",
       "next": null,
       "previous": "443279ac-bd79-11e9-897b-0242ac130003"
      },
      {
       "current": "8c2ca728-bd79-11e9-897b-0242ac130003",
       "next": "193756c4-bd9b-11e9-897b-0242ac130003",
       "previous": "193755c0-bd9b-11e9-897b-0242ac130003"
      },
      {
       "current": "8c2ca728-bd79-11e9-897b-0242ac130003",
       "next": "0cbeec7a-bdac-11e9-897b-0242ac130003",
       "previous": "193755c0-bd9b-11e9-897b-0242ac130003"
      },
      {
       "current": "8c2ca728-bd79-11e9-897b-0242ac130003",
       "next": "cbbe9e10-c26e-11e9-aed2-0242ac120003",
       "previous": "193755c0-bd9b-11e9-897b-0242ac130003"
      },
      {
       "current": "8c2ca728-bd79-11e9-897b-0242ac130003",
       "next": "0cbeec7a-bdac-11e9-897b-0242ac130003",
       "previous": "193755c0-bd9b-11e9-897b-0242ac130003"
      },
      {
       "current": "8c2ca728-bd79-11e9-897b-0242ac130003",
       "next": "0cbeec7a-bdac-11e9-897b-0242ac130003",
       "previous": "193753ae-bd9b-11e9-897b-0242ac130003"
      }
     ],
     "next": "0b668e08-cb0a-11e9-b4d8-0242ac120002",
     "previous": "193753ae-bd9b-11e9-897b-0242ac130003"
    }
   },
   "source": [
    "## Linuxマシンを起動する\n",
    "\n",
    "ansibleでec2インスタンスを起動します。ディストリビューションはCentOS7とします。"
   ]
  },
  {
   "cell_type": "code",
   "execution_count": null,
   "metadata": {
    "lc_cell_meme": {
     "current": "0b668e08-cb0a-11e9-b4d8-0242ac120002",
     "next": "0cbeec7a-bdac-11e9-897b-0242ac130003",
     "previous": "8c2ca728-bd79-11e9-897b-0242ac130003"
    },
    "lc_wrapper": {
     "log_history": [
      "/home/jovyan/data/notebooks/mnagaku/seminar-lc4ri/.log/20190830/20190830-184325-0290.log",
      "/home/jovyan/data/notebooks/mnagaku/seminar-lc4ri/.log/20190831/20190831-172004-0528.log"
     ]
    }
   },
   "outputs": [],
   "source": [
    "!aws --region ap-northeast-1 ec2 describe-images --owners aws-marketplace \\\n",
    "--filters Name=product-code,Values=aw0evgkw8e5c1q413zgy5pjce"
   ]
  },
  {
   "cell_type": "code",
   "execution_count": null,
   "metadata": {
    "lc_cell_meme": {
     "current": "0cbeec7a-bdac-11e9-897b-0242ac130003",
     "history": [
      {
       "current": "0cbeec7a-bdac-11e9-897b-0242ac130003",
       "next": "0cbef012-bdac-11e9-897b-0242ac130003",
       "previous": "8c2ca728-bd79-11e9-897b-0242ac130003"
      },
      {
       "current": "0cbeec7a-bdac-11e9-897b-0242ac130003",
       "next": "47965d3a-bdb4-11e9-897b-0242ac130003",
       "previous": "8c2ca728-bd79-11e9-897b-0242ac130003"
      },
      {
       "current": "0cbeec7a-bdac-11e9-897b-0242ac130003",
       "next": "47965d3a-bdb4-11e9-897b-0242ac130003",
       "previous": "cbbe9e10-c26e-11e9-aed2-0242ac120003"
      },
      {
       "current": "0cbeec7a-bdac-11e9-897b-0242ac130003",
       "next": "7e26d370-c309-11e9-adb5-0242ac120003",
       "previous": "cbbe9e10-c26e-11e9-aed2-0242ac120003"
      },
      {
       "current": "0cbeec7a-bdac-11e9-897b-0242ac130003",
       "next": "c1ad2982-c318-11e9-adb5-0242ac120003",
       "previous": "cbbe9e10-c26e-11e9-aed2-0242ac120003"
      },
      {
       "current": "0cbeec7a-bdac-11e9-897b-0242ac130003",
       "next": "c1ad2982-c318-11e9-adb5-0242ac120003",
       "previous": "8c2ca728-bd79-11e9-897b-0242ac130003"
      }
     ],
     "next": "c1ad2982-c318-11e9-adb5-0242ac120003",
     "previous": "0b668e08-cb0a-11e9-b4d8-0242ac120002"
    },
    "lc_wrapper": {
     "log_history": [
      "/home/jovyan/data/notebooks/mnagaku/seminar-lc4ri/.log/20190813/20190813-171249-0047.log",
      "/home/jovyan/data/notebooks/mnagaku/seminar-lc4ri/.log/20190813/20190813-171338-0506.log",
      "/home/jovyan/data/notebooks/mnagaku/seminar-lc4ri/.log/20190813/20190813-171434-0687.log",
      "/home/jovyan/data/notebooks/mnagaku/seminar-lc4ri/.log/20190813/20190813-171443-0610.log",
      "/home/jovyan/data/notebooks/mnagaku/seminar-lc4ri/.log/20190813/20190813-171915-0556.log",
      "/home/jovyan/data/notebooks/mnagaku/seminar-lc4ri/.log/20190813/20190813-180904-0592.log",
      "/home/jovyan/data/notebooks/mnagaku/seminar-lc4ri/.log/20190813/20190813-181112-0278.log",
      "/home/jovyan/data/notebooks/mnagaku/seminar-lc4ri/.log/20190813/20190813-181209-0936.log",
      "/home/jovyan/data/notebooks/mnagaku/seminar-lc4ri/.log/20190814/20190814-102558-0654.log",
      "/home/jovyan/data/notebooks/mnagaku/seminar-lc4ri/.log/20190814/20190814-102637-0412.log",
      "/home/jovyan/data/notebooks/mnagaku/seminar-lc4ri/.log/20190814/20190814-150642-0055.log",
      "/home/jovyan/data/notebooks/mnagaku/seminar-lc4ri/.log/20190814/20190814-163703-0206.log",
      "/home/jovyan/data/notebooks/mnagaku/seminar-lc4ri/.log/20190819/20190819-111654-0107.log",
      "/home/jovyan/data/notebooks/mnagaku/seminar-lc4ri/.log/20190819/20190819-121040-0523.log",
      "/home/jovyan/data/notebooks/mnagaku/seminar-lc4ri/.log/20190819/20190819-121151-0935.log",
      "/home/jovyan/data/notebooks/mnagaku/seminar-lc4ri/.log/20190819/20190819-121241-0317.log",
      "/home/jovyan/data/notebooks/mnagaku/seminar-lc4ri/.log/20190819/20190819-121344-0571.log",
      "/home/jovyan/data/notebooks/mnagaku/seminar-lc4ri/.log/20190819/20190819-121425-0853.log",
      "/home/jovyan/data/notebooks/mnagaku/seminar-lc4ri/.log/20190819/20190819-121611-0296.log",
      "/home/jovyan/data/notebooks/mnagaku/seminar-lc4ri/.log/20190819/20190819-121642-0065.log",
      "/home/jovyan/data/notebooks/mnagaku/seminar-lc4ri/.log/20190819/20190819-121747-0657.log",
      "/home/jovyan/data/notebooks/mnagaku/seminar-lc4ri/.log/20190819/20190819-123030-0130.log",
      "/home/jovyan/data/notebooks/mnagaku/seminar-lc4ri/.log/20190819/20190819-123036-0953.log",
      "/home/jovyan/data/notebooks/mnagaku/seminar-lc4ri/.log/20190819/20190819-124510-0372.log",
      "/home/jovyan/data/notebooks/mnagaku/seminar-lc4ri/.log/20190819/20190819-124653-0901.log",
      "/home/jovyan/data/notebooks/mnagaku/seminar-lc4ri/.log/20190819/20190819-132854-0802.log",
      "/home/jovyan/data/notebooks/mnagaku/seminar-lc4ri/.log/20190819/20190819-132936-0370.log",
      "/home/jovyan/data/notebooks/mnagaku/seminar-lc4ri/.log/20190819/20190819-133101-0663.log",
      "/home/jovyan/data/notebooks/mnagaku/seminar-lc4ri/.log/20190819/20190819-133148-0749.log",
      "/home/jovyan/data/notebooks/mnagaku/seminar-lc4ri/.log/20190819/20190819-133412-0375.log",
      "/home/jovyan/data/notebooks/mnagaku/seminar-lc4ri/.log/20190819/20190819-133629-0148.log",
      "/home/jovyan/data/notebooks/mnagaku/seminar-lc4ri/.log/20190819/20190819-133717-0004.log",
      "/home/jovyan/data/notebooks/mnagaku/seminar-lc4ri/.log/20190819/20190819-133922-0072.log",
      "/home/jovyan/data/notebooks/mnagaku/seminar-lc4ri/.log/20190819/20190819-175139-0805.log",
      "/home/jovyan/data/notebooks/mnagaku/seminar-lc4ri/.log/20190819/20190819-175220-0666.log",
      "/home/jovyan/data/notebooks/mnagaku/seminar-lc4ri/.log/20190819/20190819-185334-0835.log",
      "/home/jovyan/data/notebooks/mnagaku/seminar-lc4ri/.log/20190820/20190820-141136-0393.log",
      "/home/jovyan/data/notebooks/mnagaku/seminar-lc4ri/.log/20190820/20190820-142737-0187.log",
      "/home/jovyan/data/notebooks/mnagaku/seminar-lc4ri/.log/20190820/20190820-143723-0879.log",
      "/home/jovyan/data/notebooks/mnagaku/seminar-lc4ri/.log/20190820/20190820-172452-0614.log",
      "/home/jovyan/data/notebooks/mnagaku/seminar-lc4ri/.log/20190820/20190820-175151-0515.log",
      "/home/jovyan/data/notebooks/mnagaku/seminar-lc4ri/.log/20190820/20190820-184654-0882.log",
      "/home/jovyan/data/notebooks/mnagaku/seminar-lc4ri/.log/20190820/20190820-184719-0084.log",
      "/home/jovyan/data/notebooks/mnagaku/seminar-lc4ri/.log/20190820/20190820-184739-0011.log",
      "/home/jovyan/data/notebooks/mnagaku/seminar-lc4ri/.log/20190820/20190820-185010-0821.log",
      "/home/jovyan/data/notebooks/mnagaku/seminar-lc4ri/.log/20190820/20190820-185112-0700.log",
      "/home/jovyan/data/notebooks/mnagaku/seminar-lc4ri/.log/20190820/20190820-185215-0491.log",
      "/home/jovyan/data/notebooks/mnagaku/seminar-lc4ri/.log/20190820/20190820-185648-0606.log",
      "/home/jovyan/data/notebooks/mnagaku/seminar-lc4ri/.log/20190820/20190820-190943-0220.log",
      "/home/jovyan/data/notebooks/mnagaku/seminar-lc4ri/.log/20190820/20190820-191028-0019.log",
      "/home/jovyan/data/notebooks/mnagaku/seminar-lc4ri/.log/20190820/20190820-202322-0017.log",
      "/home/jovyan/data/notebooks/mnagaku/seminar-lc4ri/.log/20190821/20190821-162654-0435.log",
      "/home/jovyan/data/notebooks/mnagaku/seminar-lc4ri/.log/20190821/20190821-165953-0723.log",
      "/home/jovyan/data/notebooks/mnagaku/seminar-lc4ri/.log/20190829/20190829-224358-0184.log",
      "/home/jovyan/data/notebooks/mnagaku/seminar-lc4ri/.log/20190830/20190830-134257-0869.log",
      "/home/jovyan/data/notebooks/mnagaku/seminar-lc4ri/.log/20190830/20190830-184513-0577.log",
      "/home/jovyan/data/notebooks/mnagaku/seminar-lc4ri/.log/20190830/20190830-191028-0664.log",
      "/home/jovyan/data/notebooks/mnagaku/seminar-lc4ri/.log/20190830/20190830-193600-0986.log",
      "/home/jovyan/data/notebooks/mnagaku/seminar-lc4ri/.log/20190831/20190831-141447-0815.log",
      "/home/jovyan/data/notebooks/mnagaku/seminar-lc4ri/.log/20190831/20190831-150146-0515.log",
      "/home/jovyan/data/notebooks/mnagaku/seminar-lc4ri/.log/20190831/20190831-152855-0970.log",
      "/home/jovyan/data/notebooks/mnagaku/seminar-lc4ri/.log/20190831/20190831-172019-0132.log"
     ]
    }
   },
   "outputs": [],
   "source": [
    "image = 'ami-045f38c93733dd48d' # CentOS7\n",
    "instance_type = 't3.medium'\n",
    "subnet = 'subnet-8a6618d1' # 先に作成済みのもの\n",
    "sg = 'seminar-lc4ri' # 先に作成済みのもの\n",
    "\n",
    "import json\n",
    "\n",
    "row = !ansible localhost -m ec2 -a \"region={target_region} key_name={username} \\\n",
    "profile=default wait=yes assign_public_ip=yes \\\n",
    "image={image} instance_type={instance_type} vpc_subnet_id={subnet} group={sg}\"\n",
    "\n",
    "while row[0].find('{') == -1:\n",
    "    del row[0]\n",
    "row[0] = \"{\"\n",
    "linux = json.loads(''.join(row))\n",
    "print(linux)"
   ]
  },
  {
   "cell_type": "markdown",
   "metadata": {
    "lc_cell_meme": {
     "current": "c1ad2982-c318-11e9-adb5-0242ac120003",
     "next": "c1ad2bb2-c318-11e9-adb5-0242ac120003",
     "previous": "0cbeec7a-bdac-11e9-897b-0242ac130003"
    }
   },
   "source": [
    "起動が完了するまで待ちます。"
   ]
  },
  {
   "cell_type": "code",
   "execution_count": null,
   "metadata": {
    "lc_cell_meme": {
     "current": "c1ad2bb2-c318-11e9-adb5-0242ac120003",
     "next": "47965d3a-bdb4-11e9-897b-0242ac130003",
     "previous": "c1ad2982-c318-11e9-adb5-0242ac120003"
    },
    "lc_wrapper": {
     "log_history": [
      "/home/jovyan/data/notebooks/mnagaku/seminar-lc4ri/.log/20190820/20190820-143152-0880.log",
      "/home/jovyan/data/notebooks/mnagaku/seminar-lc4ri/.log/20190820/20190820-143633-0650.log",
      "/home/jovyan/data/notebooks/mnagaku/seminar-lc4ri/.log/20190820/20190820-143737-0642.log",
      "/home/jovyan/data/notebooks/mnagaku/seminar-lc4ri/.log/20190820/20190820-172506-0169.log",
      "/home/jovyan/data/notebooks/mnagaku/seminar-lc4ri/.log/20190820/20190820-175205-0113.log",
      "/home/jovyan/data/notebooks/mnagaku/seminar-lc4ri/.log/20190820/20190820-185312-0855.log",
      "/home/jovyan/data/notebooks/mnagaku/seminar-lc4ri/.log/20190820/20190820-185356-0060.log",
      "/home/jovyan/data/notebooks/mnagaku/seminar-lc4ri/.log/20190820/20190820-185650-0252.log",
      "/home/jovyan/data/notebooks/mnagaku/seminar-lc4ri/.log/20190820/20190820-191120-0311.log",
      "/home/jovyan/data/notebooks/mnagaku/seminar-lc4ri/.log/20190820/20190820-202335-0437.log",
      "/home/jovyan/data/notebooks/mnagaku/seminar-lc4ri/.log/20190821/20190821-162708-0328.log",
      "/home/jovyan/data/notebooks/mnagaku/seminar-lc4ri/.log/20190821/20190821-170007-0300.log",
      "/home/jovyan/data/notebooks/mnagaku/seminar-lc4ri/.log/20190829/20190829-224412-0832.log",
      "/home/jovyan/data/notebooks/mnagaku/seminar-lc4ri/.log/20190830/20190830-134318-0403.log",
      "/home/jovyan/data/notebooks/mnagaku/seminar-lc4ri/.log/20190830/20190830-184527-0749.log",
      "/home/jovyan/data/notebooks/mnagaku/seminar-lc4ri/.log/20190830/20190830-191042-0419.log",
      "/home/jovyan/data/notebooks/mnagaku/seminar-lc4ri/.log/20190830/20190830-193614-0947.log",
      "/home/jovyan/data/notebooks/mnagaku/seminar-lc4ri/.log/20190831/20190831-141501-0986.log",
      "/home/jovyan/data/notebooks/mnagaku/seminar-lc4ri/.log/20190831/20190831-150200-0240.log",
      "/home/jovyan/data/notebooks/mnagaku/seminar-lc4ri/.log/20190831/20190831-152909-0747.log",
      "/home/jovyan/data/notebooks/mnagaku/seminar-lc4ri/.log/20190831/20190831-172033-0491.log"
     ]
    }
   },
   "outputs": [],
   "source": [
    "!aws ec2 wait instance-status-ok --include-all-instances --instance-ids {linux['instance_ids'][0]}"
   ]
  },
  {
   "cell_type": "markdown",
   "metadata": {
    "lc_cell_meme": {
     "current": "47965d3a-bdb4-11e9-897b-0242ac130003",
     "history": [
      {
       "current": "47965d3a-bdb4-11e9-897b-0242ac130003",
       "next": "0cbef012-bdac-11e9-897b-0242ac130003",
       "previous": "0cbeec7a-bdac-11e9-897b-0242ac130003"
      },
      {
       "current": "47965d3a-bdb4-11e9-897b-0242ac130003",
       "next": "0cbef012-bdac-11e9-897b-0242ac130003",
       "previous": "7e26d370-c309-11e9-adb5-0242ac120003"
      }
     ],
     "next": "0cbef012-bdac-11e9-897b-0242ac130003",
     "previous": "c1ad2bb2-c318-11e9-adb5-0242ac120003"
    }
   },
   "source": [
    "起動したLinuxマシンでOSアップデートを実行します。\n",
    "\n",
    "まず、接続情報を作成します。"
   ]
  },
  {
   "cell_type": "code",
   "execution_count": null,
   "metadata": {
    "lc_cell_meme": {
     "current": "0cbef012-bdac-11e9-897b-0242ac130003",
     "history": [
      {
       "current": "0cbef012-bdac-11e9-897b-0242ac130003",
       "next": "0cbef1a2-bdac-11e9-897b-0242ac130003",
       "previous": "0cbeec7a-bdac-11e9-897b-0242ac130003"
      },
      {
       "current": "0cbef012-bdac-11e9-897b-0242ac130003",
       "next": "8548ac2a-bdad-11e9-897b-0242ac130003",
       "previous": "0cbeec7a-bdac-11e9-897b-0242ac130003"
      }
     ],
     "next": "8548ac2a-bdad-11e9-897b-0242ac130003",
     "previous": "47965d3a-bdb4-11e9-897b-0242ac130003"
    },
    "lc_wrapper": {
     "log_history": [
      "/home/jovyan/data/notebooks/mnagaku/seminar-lc4ri/.log/20190813/20190813-182144-0706.log",
      "/home/jovyan/data/notebooks/mnagaku/seminar-lc4ri/.log/20190813/20190813-183420-0260.log",
      "/home/jovyan/data/notebooks/mnagaku/seminar-lc4ri/.log/20190813/20190813-183835-0097.log",
      "/home/jovyan/data/notebooks/mnagaku/seminar-lc4ri/.log/20190814/20190814-102704-0617.log",
      "/home/jovyan/data/notebooks/mnagaku/seminar-lc4ri/.log/20190814/20190814-163738-0034.log",
      "/home/jovyan/data/notebooks/mnagaku/seminar-lc4ri/.log/20190814/20190814-163929-0545.log",
      "/home/jovyan/data/notebooks/mnagaku/seminar-lc4ri/.log/20190814/20190814-173648-0543.log",
      "/home/jovyan/data/notebooks/mnagaku/seminar-lc4ri/.log/20190814/20190814-174000-0736.log",
      "/home/jovyan/data/notebooks/mnagaku/seminar-lc4ri/.log/20190819/20190819-111723-0440.log",
      "/home/jovyan/data/notebooks/mnagaku/seminar-lc4ri/.log/20190819/20190819-134126-0045.log",
      "/home/jovyan/data/notebooks/mnagaku/seminar-lc4ri/.log/20190819/20190819-175310-0357.log",
      "/home/jovyan/data/notebooks/mnagaku/seminar-lc4ri/.log/20190819/20190819-185401-0350.log",
      "/home/jovyan/data/notebooks/mnagaku/seminar-lc4ri/.log/20190820/20190820-141221-0955.log",
      "/home/jovyan/data/notebooks/mnagaku/seminar-lc4ri/.log/20190820/20190820-144113-0345.log",
      "/home/jovyan/data/notebooks/mnagaku/seminar-lc4ri/.log/20190820/20190820-172804-0482.log",
      "/home/jovyan/data/notebooks/mnagaku/seminar-lc4ri/.log/20190820/20190820-173115-0771.log",
      "/home/jovyan/data/notebooks/mnagaku/seminar-lc4ri/.log/20190820/20190820-175452-0407.log",
      "/home/jovyan/data/notebooks/mnagaku/seminar-lc4ri/.log/20190820/20190820-191831-0904.log",
      "/home/jovyan/data/notebooks/mnagaku/seminar-lc4ri/.log/20190820/20190820-191846-0652.log",
      "/home/jovyan/data/notebooks/mnagaku/seminar-lc4ri/.log/20190820/20190820-202547-0197.log",
      "/home/jovyan/data/notebooks/mnagaku/seminar-lc4ri/.log/20190821/20190821-162955-0381.log",
      "/home/jovyan/data/notebooks/mnagaku/seminar-lc4ri/.log/20190821/20190821-170334-0618.log",
      "/home/jovyan/data/notebooks/mnagaku/seminar-lc4ri/.log/20190829/20190829-224902-0325.log",
      "/home/jovyan/data/notebooks/mnagaku/seminar-lc4ri/.log/20190830/20190830-134606-0239.log",
      "/home/jovyan/data/notebooks/mnagaku/seminar-lc4ri/.log/20190830/20190830-184800-0051.log",
      "/home/jovyan/data/notebooks/mnagaku/seminar-lc4ri/.log/20190830/20190830-191259-0261.log",
      "/home/jovyan/data/notebooks/mnagaku/seminar-lc4ri/.log/20190830/20190830-193902-0213.log",
      "/home/jovyan/data/notebooks/mnagaku/seminar-lc4ri/.log/20190831/20190831-141633-0605.log",
      "/home/jovyan/data/notebooks/mnagaku/seminar-lc4ri/.log/20190831/20190831-150447-0411.log",
      "/home/jovyan/data/notebooks/mnagaku/seminar-lc4ri/.log/20190831/20190831-153226-0933.log",
      "/home/jovyan/data/notebooks/mnagaku/seminar-lc4ri/.log/20190831/20190831-172235-0462.log"
     ]
    }
   },
   "outputs": [],
   "source": [
    "host = linux[\"instances\"][0][\"public_ip\"]\n",
    "ansible_user = \"centos\"\n",
    "ansible_ssh_private_key_file = username + \".pem\"\n",
    "\n",
    "with open('hosts', mode='w') as f:\n",
    "    f.write(host + ' ansible_user=' + ansible_user + ' ansible_ssh_private_key_file='\n",
    "            + ansible_ssh_private_key_file)"
   ]
  },
  {
   "cell_type": "markdown",
   "metadata": {
    "lc_cell_meme": {
     "current": "8548ac2a-bdad-11e9-897b-0242ac130003",
     "history": [
      {
       "current": "8548ac2a-bdad-11e9-897b-0242ac130003",
       "next": "0cbef1a2-bdac-11e9-897b-0242ac130003",
       "previous": "0cbef012-bdac-11e9-897b-0242ac130003"
      }
     ],
     "next": "29db25ea-cb11-11e9-b4d8-0242ac120002",
     "previous": "0cbef012-bdac-11e9-897b-0242ac130003"
    }
   },
   "source": [
    "作成した接続情報を使う前に、対象となるLinuxマシンを信頼できるホストとして、fingerprint登録しておきます。JupyterのTerminalを使って、ダミーのssh実行を行うと登録されます。\n",
    "\n",
    "```\n",
    "$ ssh a@（対象となるLinuxマシンのIPアドレス）\n",
    "（中略）\n",
    "Are you sure you want to continue connecting (yes/no)? yes←信頼しますよの意味で入力する\n",
    "（以下略）\n",
    "```\n",
    "\n",
    "ssh接続を成功させたいわけではないので、接続自体は失敗させてしまって構いません。\n",
    "\n",
    "実務では、ansibleの対象となるLinuxマシンが大量だったり不定だったりするかも知れません。その場合は、sshやansibleの設定で、fingerprint登録の有無を確認しないこともできます。\n",
    "\n",
    "ansibleでyum updateを実行します。"
   ]
  },
  {
   "cell_type": "code",
   "execution_count": null,
   "metadata": {
    "lc_cell_meme": {
     "current": "29db25ea-cb11-11e9-b4d8-0242ac120002",
     "history": [
      {
       "current": "29db25ea-cb11-11e9-b4d8-0242ac120002",
       "next": "29db2900-cb11-11e9-b4d8-0242ac120002",
       "previous": "8548ac2a-bdad-11e9-897b-0242ac130003"
      },
      {
       "current": "29db25ea-cb11-11e9-b4d8-0242ac120002",
       "next": "29db2a90-cb11-11e9-b4d8-0242ac120002",
       "previous": "8548ac2a-bdad-11e9-897b-0242ac130003"
      }
     ],
     "next": "f8f805b6-cbbe-11e9-b72d-0242ac120003",
     "previous": "8548ac2a-bdad-11e9-897b-0242ac130003"
    },
    "lc_wrapper": {
     "log_history": [
      "/home/jovyan/data/notebooks/mnagaku/seminar-lc4ri/.log/20190830/20190830-185324-0571.log",
      "/home/jovyan/data/notebooks/mnagaku/seminar-lc4ri/.log/20190830/20190830-185511-0758.log",
      "/home/jovyan/data/notebooks/mnagaku/seminar-lc4ri/.log/20190830/20190830-185546-0260.log",
      "/home/jovyan/data/notebooks/mnagaku/seminar-lc4ri/.log/20190830/20190830-185615-0666.log",
      "/home/jovyan/data/notebooks/mnagaku/seminar-lc4ri/.log/20190830/20190830-191410-0405.log",
      "/home/jovyan/data/notebooks/mnagaku/seminar-lc4ri/.log/20190830/20190830-193930-0263.log",
      "/home/jovyan/data/notebooks/mnagaku/seminar-lc4ri/.log/20190831/20190831-143959-0672.log",
      "/home/jovyan/data/notebooks/mnagaku/seminar-lc4ri/.log/20190831/20190831-150759-0590.log",
      "/home/jovyan/data/notebooks/mnagaku/seminar-lc4ri/.log/20190831/20190831-154007-0618.log",
      "/home/jovyan/data/notebooks/mnagaku/seminar-lc4ri/.log/20190831/20190831-172501-0859.log",
      "/home/jovyan/data/notebooks/mnagaku/seminar-lc4ri/.log/20190831/20190831-172521-0911.log"
     ]
    }
   },
   "outputs": [],
   "source": [
    "!ansible -i hosts all -a \"yum update -y\" --become"
   ]
  },
  {
   "cell_type": "markdown",
   "metadata": {
    "lc_cell_meme": {
     "current": "f8f805b6-cbbe-11e9-b72d-0242ac120003",
     "next": "29db2a90-cb11-11e9-b4d8-0242ac120002",
     "previous": "29db25ea-cb11-11e9-b4d8-0242ac120002"
    }
   },
   "source": [
    "mariadbを入れて、httpdを入れて、php73を入れる準備。"
   ]
  },
  {
   "cell_type": "code",
   "execution_count": null,
   "metadata": {
    "lc_cell_meme": {
     "current": "29db2a90-cb11-11e9-b4d8-0242ac120002",
     "history": [
      {
       "current": "29db2a90-cb11-11e9-b4d8-0242ac120002",
       "next": "29db2bda-cb11-11e9-b4d8-0242ac120002",
       "previous": "29db2900-cb11-11e9-b4d8-0242ac120002"
      },
      {
       "current": "29db2a90-cb11-11e9-b4d8-0242ac120002",
       "next": "29db2bda-cb11-11e9-b4d8-0242ac120002",
       "previous": "29db25ea-cb11-11e9-b4d8-0242ac120002"
      }
     ],
     "next": "29db2bda-cb11-11e9-b4d8-0242ac120002",
     "previous": "f8f805b6-cbbe-11e9-b72d-0242ac120003"
    },
    "lc_wrapper": {
     "log_history": [
      "/home/jovyan/data/notebooks/mnagaku/seminar-lc4ri/.log/20190830/20190830-185707-0940.log",
      "/home/jovyan/data/notebooks/mnagaku/seminar-lc4ri/.log/20190830/20190830-191627-0853.log",
      "/home/jovyan/data/notebooks/mnagaku/seminar-lc4ri/.log/20190830/20190830-194150-0801.log",
      "/home/jovyan/data/notebooks/mnagaku/seminar-lc4ri/.log/20190831/20190831-145420-0313.log",
      "/home/jovyan/data/notebooks/mnagaku/seminar-lc4ri/.log/20190831/20190831-151045-0894.log",
      "/home/jovyan/data/notebooks/mnagaku/seminar-lc4ri/.log/20190831/20190831-154226-0924.log",
      "/home/jovyan/data/notebooks/mnagaku/seminar-lc4ri/.log/20190831/20190831-172956-0595.log"
     ]
    }
   },
   "outputs": [],
   "source": [
    "!ansible -i hosts all -a \"yum install -y mariadb-server httpd-mmn epel-release\" --become"
   ]
  },
  {
   "cell_type": "code",
   "execution_count": null,
   "metadata": {
    "lc_cell_meme": {
     "current": "29db2bda-cb11-11e9-b4d8-0242ac120002",
     "history": [
      {
       "current": "29db2bda-cb11-11e9-b4d8-0242ac120002",
       "next": "29db2d24-cb11-11e9-b4d8-0242ac120002",
       "previous": "29db2a90-cb11-11e9-b4d8-0242ac120002"
      },
      {
       "current": "29db2bda-cb11-11e9-b4d8-0242ac120002",
       "next": "e898371c-cb15-11e9-b4d8-0242ac120002",
       "previous": "29db2a90-cb11-11e9-b4d8-0242ac120002"
      },
      {
       "current": "29db2bda-cb11-11e9-b4d8-0242ac120002",
       "next": "29db2e6e-cb11-11e9-b4d8-0242ac120002",
       "previous": "29db2a90-cb11-11e9-b4d8-0242ac120002"
      }
     ],
     "next": "f8f80822-cbbe-11e9-b72d-0242ac120003",
     "previous": "29db2a90-cb11-11e9-b4d8-0242ac120002"
    },
    "lc_wrapper": {
     "log_history": [
      "/home/jovyan/data/notebooks/mnagaku/seminar-lc4ri/.log/20190830/20190830-185738-0019.log",
      "/home/jovyan/data/notebooks/mnagaku/seminar-lc4ri/.log/20190830/20190830-191630-0722.log",
      "/home/jovyan/data/notebooks/mnagaku/seminar-lc4ri/.log/20190830/20190830-194153-0762.log",
      "/home/jovyan/data/notebooks/mnagaku/seminar-lc4ri/.log/20190831/20190831-145424-0145.log",
      "/home/jovyan/data/notebooks/mnagaku/seminar-lc4ri/.log/20190831/20190831-151048-0963.log",
      "/home/jovyan/data/notebooks/mnagaku/seminar-lc4ri/.log/20190831/20190831-154238-0288.log",
      "/home/jovyan/data/notebooks/mnagaku/seminar-lc4ri/.log/20190831/20190831-173009-0250.log"
     ]
    }
   },
   "outputs": [],
   "source": [
    "!ansible -i hosts all -a \\\n",
    "\"rpm -Uvh http://rpms.famillecollet.com/enterprise/remi-release-7.rpm\" --become"
   ]
  },
  {
   "cell_type": "markdown",
   "metadata": {
    "lc_cell_meme": {
     "current": "f8f80822-cbbe-11e9-b72d-0242ac120003",
     "next": "29db2e6e-cb11-11e9-b4d8-0242ac120002",
     "previous": "29db2bda-cb11-11e9-b4d8-0242ac120002"
    }
   },
   "source": [
    "php73を入れる。"
   ]
  },
  {
   "cell_type": "code",
   "execution_count": null,
   "metadata": {
    "lc_cell_meme": {
     "current": "29db2e6e-cb11-11e9-b4d8-0242ac120002",
     "history": [
      {
       "current": "29db2e6e-cb11-11e9-b4d8-0242ac120002",
       "next": "29db2fae-cb11-11e9-b4d8-0242ac120002",
       "previous": "29db2d24-cb11-11e9-b4d8-0242ac120002"
      },
      {
       "current": "29db2e6e-cb11-11e9-b4d8-0242ac120002",
       "next": "29db2fae-cb11-11e9-b4d8-0242ac120002",
       "previous": "29db2bda-cb11-11e9-b4d8-0242ac120002"
      }
     ],
     "next": "f8f809a8-cbbe-11e9-b72d-0242ac120003",
     "previous": "f8f80822-cbbe-11e9-b72d-0242ac120003"
    },
    "lc_wrapper": {
     "log_history": [
      "/home/jovyan/data/notebooks/mnagaku/seminar-lc4ri/.log/20190830/20190830-190319-0444.log",
      "/home/jovyan/data/notebooks/mnagaku/seminar-lc4ri/.log/20190830/20190830-190455-0309.log",
      "/home/jovyan/data/notebooks/mnagaku/seminar-lc4ri/.log/20190830/20190830-191647-0838.log",
      "/home/jovyan/data/notebooks/mnagaku/seminar-lc4ri/.log/20190830/20190830-195626-0957.log",
      "/home/jovyan/data/notebooks/mnagaku/seminar-lc4ri/.log/20190831/20190831-154242-0713.log",
      "/home/jovyan/data/notebooks/mnagaku/seminar-lc4ri/.log/20190831/20190831-173012-0945.log"
     ]
    }
   },
   "outputs": [],
   "source": [
    "!ansible -i hosts all -a \"yum install -y --disablerepo=* \\\n",
    "--enablerepo=epel,remi,remi-safe,remi-php73 php php-mbstring php-mysqlnd\" --become"
   ]
  },
  {
   "cell_type": "markdown",
   "metadata": {
    "lc_cell_meme": {
     "current": "f8f809a8-cbbe-11e9-b72d-0242ac120003",
     "next": "29db2fae-cb11-11e9-b4d8-0242ac120002",
     "previous": "29db2e6e-cb11-11e9-b4d8-0242ac120002"
    }
   },
   "source": [
    "httpdとmariadbを起動。httpdはenableしないで、トレーニング時に見つける対象にする。"
   ]
  },
  {
   "cell_type": "code",
   "execution_count": null,
   "metadata": {
    "lc_cell_meme": {
     "current": "29db2fae-cb11-11e9-b4d8-0242ac120002",
     "history": [
      {
       "current": "29db2fae-cb11-11e9-b4d8-0242ac120002",
       "next": "29db30ee-cb11-11e9-b4d8-0242ac120002",
       "previous": "29db2e6e-cb11-11e9-b4d8-0242ac120002"
      },
      {
       "current": "29db2fae-cb11-11e9-b4d8-0242ac120002",
       "next": "e8983974-cb15-11e9-b4d8-0242ac120002",
       "previous": "29db2e6e-cb11-11e9-b4d8-0242ac120002"
      },
      {
       "current": "29db2fae-cb11-11e9-b4d8-0242ac120002",
       "next": "29db30ee-cb11-11e9-b4d8-0242ac120002",
       "previous": "29db2e6e-cb11-11e9-b4d8-0242ac120002"
      }
     ],
     "next": "29db30ee-cb11-11e9-b4d8-0242ac120002",
     "previous": "f8f809a8-cbbe-11e9-b72d-0242ac120003"
    },
    "lc_wrapper": {
     "log_history": [
      "/home/jovyan/data/notebooks/mnagaku/seminar-lc4ri/.log/20190830/20190830-192440-0457.log",
      "/home/jovyan/data/notebooks/mnagaku/seminar-lc4ri/.log/20190830/20190830-195636-0382.log",
      "/home/jovyan/data/notebooks/mnagaku/seminar-lc4ri/.log/20190831/20190831-154259-0004.log",
      "/home/jovyan/data/notebooks/mnagaku/seminar-lc4ri/.log/20190831/20190831-173027-0133.log"
     ]
    }
   },
   "outputs": [],
   "source": [
    "!ansible -i hosts all -a \"systemctl start httpd\" --become"
   ]
  },
  {
   "cell_type": "code",
   "execution_count": null,
   "metadata": {
    "lc_cell_meme": {
     "current": "29db30ee-cb11-11e9-b4d8-0242ac120002",
     "history": [
      {
       "current": "29db30ee-cb11-11e9-b4d8-0242ac120002",
       "next": "29db322e-cb11-11e9-b4d8-0242ac120002",
       "previous": "29db2fae-cb11-11e9-b4d8-0242ac120002"
      },
      {
       "current": "29db30ee-cb11-11e9-b4d8-0242ac120002",
       "next": "29db322e-cb11-11e9-b4d8-0242ac120002",
       "previous": "e8983a3c-cb15-11e9-b4d8-0242ac120002"
      }
     ],
     "next": "29db322e-cb11-11e9-b4d8-0242ac120002",
     "previous": "29db2fae-cb11-11e9-b4d8-0242ac120002"
    },
    "lc_wrapper": {
     "log_history": [
      "/home/jovyan/data/notebooks/mnagaku/seminar-lc4ri/.log/20190830/20190830-192504-0460.log",
      "/home/jovyan/data/notebooks/mnagaku/seminar-lc4ri/.log/20190830/20190830-195645-0430.log",
      "/home/jovyan/data/notebooks/mnagaku/seminar-lc4ri/.log/20190831/20190831-154301-0258.log",
      "/home/jovyan/data/notebooks/mnagaku/seminar-lc4ri/.log/20190831/20190831-173029-0321.log"
     ]
    }
   },
   "outputs": [],
   "source": [
    "!ansible -i hosts all -a \"systemctl start mariadb\" --become"
   ]
  },
  {
   "cell_type": "code",
   "execution_count": null,
   "metadata": {
    "lc_cell_meme": {
     "current": "29db322e-cb11-11e9-b4d8-0242ac120002",
     "next": "29db336e-cb11-11e9-b4d8-0242ac120002",
     "previous": "29db30ee-cb11-11e9-b4d8-0242ac120002"
    },
    "lc_wrapper": {
     "log_history": [
      "/home/jovyan/data/notebooks/mnagaku/seminar-lc4ri/.log/20190830/20190830-192511-0543.log",
      "/home/jovyan/data/notebooks/mnagaku/seminar-lc4ri/.log/20190830/20190830-192523-0443.log",
      "/home/jovyan/data/notebooks/mnagaku/seminar-lc4ri/.log/20190830/20190830-195647-0738.log",
      "/home/jovyan/data/notebooks/mnagaku/seminar-lc4ri/.log/20190831/20190831-154306-0689.log",
      "/home/jovyan/data/notebooks/mnagaku/seminar-lc4ri/.log/20190831/20190831-173035-0937.log"
     ]
    }
   },
   "outputs": [],
   "source": [
    "!ansible -i hosts all -a \"systemctl enable mariadb\" --become"
   ]
  },
  {
   "cell_type": "markdown",
   "metadata": {
    "lc_cell_meme": {
     "current": "29db336e-cb11-11e9-b4d8-0242ac120002",
     "next": "29db34a4-cb11-11e9-b4d8-0242ac120002",
     "previous": "29db322e-cb11-11e9-b4d8-0242ac120002"
    },
    "lc_wrapper": {
     "log_history": [
      "/home/jovyan/data/notebooks/mnagaku/seminar-lc4ri/.log/20190830/20190830-192600-0644.log",
      "/home/jovyan/data/notebooks/mnagaku/seminar-lc4ri/.log/20190830/20190830-195654-0864.log"
     ]
    }
   },
   "source": [
    "mariadbを起動したらセキュリティの初期化処理をterminalで実施。rootのパスワードは無しになってるので、そのままにしておく。他はデフォルト値でOK。\n",
    "\n",
    "```\n",
    "$ /usr/bin/mysql_secure_installation\n",
    "```\n",
    "\n",
    "mariadbにwp用のDBとユーザを作る。"
   ]
  },
  {
   "cell_type": "code",
   "execution_count": null,
   "metadata": {
    "lc_cell_meme": {
     "current": "29db34a4-cb11-11e9-b4d8-0242ac120002",
     "history": [
      {
       "current": "29db34a4-cb11-11e9-b4d8-0242ac120002",
       "next": "29db35e4-cb11-11e9-b4d8-0242ac120002",
       "previous": "29db336e-cb11-11e9-b4d8-0242ac120002"
      }
     ],
     "next": "29db34a4-cb11-11e9-b4d8-0242ac120002",
     "previous": "29db336e-cb11-11e9-b4d8-0242ac120002"
    },
    "lc_wrapper": {
     "log_history": [
      "/home/jovyan/data/notebooks/mnagaku/seminar-lc4ri/.log/20190831/20190831-154424-0575.log",
      "/home/jovyan/data/notebooks/mnagaku/seminar-lc4ri/.log/20190831/20190831-173958-0467.log"
     ]
    }
   },
   "outputs": [],
   "source": [
    "!ansible -i hosts all -a \\\n",
    "\"mysql -u root -e 'create database wordpress default character set utf8;'\" --become"
   ]
  },
  {
   "cell_type": "code",
   "execution_count": null,
   "metadata": {
    "lc_cell_meme": {
     "current": "29db34a4-cb11-11e9-b4d8-0242ac120002",
     "history": [
      {
       "current": "29db34a4-cb11-11e9-b4d8-0242ac120002",
       "next": "29db35e4-cb11-11e9-b4d8-0242ac120002",
       "previous": "29db336e-cb11-11e9-b4d8-0242ac120002"
      },
      {
       "current": "29db34a4-cb11-11e9-b4d8-0242ac120002",
       "next": "29db35e4-cb11-11e9-b4d8-0242ac120002",
       "previous": "29db34a4-cb11-11e9-b4d8-0242ac120002"
      }
     ],
     "next": "f8f80afc-cbbe-11e9-b72d-0242ac120003",
     "previous": "29db34a4-cb11-11e9-b4d8-0242ac120002"
    },
    "lc_wrapper": {
     "log_history": [
      "/home/jovyan/data/notebooks/mnagaku/seminar-lc4ri/.log/20190831/20190831-154426-0960.log",
      "/home/jovyan/data/notebooks/mnagaku/seminar-lc4ri/.log/20190831/20190831-174001-0259.log"
     ]
    }
   },
   "outputs": [],
   "source": [
    "!ansible -i hosts all -a \\\n",
    "\"mysql -u root -e \\\"grant all privileges on wordpress.* \\\n",
    "to user@localhost identified by 'password';\\\"\" --become"
   ]
  },
  {
   "cell_type": "markdown",
   "metadata": {
    "lc_cell_meme": {
     "current": "f8f80afc-cbbe-11e9-b72d-0242ac120003",
     "next": "29db35e4-cb11-11e9-b4d8-0242ac120002",
     "previous": "29db34a4-cb11-11e9-b4d8-0242ac120002"
    }
   },
   "source": [
    "wp-cliをインストール。"
   ]
  },
  {
   "cell_type": "code",
   "execution_count": null,
   "metadata": {
    "lc_cell_meme": {
     "current": "29db35e4-cb11-11e9-b4d8-0242ac120002",
     "history": [
      {
       "current": "29db35e4-cb11-11e9-b4d8-0242ac120002",
       "next": "29db3724-cb11-11e9-b4d8-0242ac120002",
       "previous": "29db34a4-cb11-11e9-b4d8-0242ac120002"
      },
      {
       "current": "29db35e4-cb11-11e9-b4d8-0242ac120002",
       "next": "4784c91e-cbbd-11e9-b72d-0242ac120003",
       "previous": "29db34a4-cb11-11e9-b4d8-0242ac120002"
      }
     ],
     "next": "4784c91e-cbbd-11e9-b72d-0242ac120003",
     "previous": "f8f80afc-cbbe-11e9-b72d-0242ac120003"
    },
    "lc_wrapper": {
     "log_history": [
      "/home/jovyan/data/notebooks/mnagaku/seminar-lc4ri/.log/20190831/20190831-154916-0264.log",
      "/home/jovyan/data/notebooks/mnagaku/seminar-lc4ri/.log/20190831/20190831-174006-0618.log"
     ]
    }
   },
   "outputs": [],
   "source": [
    "!ansible -i hosts all -a \\\n",
    "\"curl https://raw.githubusercontent.com/wp-cli/builds/gh-pages/phar/wp-cli.phar \\\n",
    "-o /usr/local/bin/wp\" --become"
   ]
  },
  {
   "cell_type": "code",
   "execution_count": null,
   "metadata": {
    "lc_cell_meme": {
     "current": "4784c91e-cbbd-11e9-b72d-0242ac120003",
     "next": "4784cc5c-cbbd-11e9-b72d-0242ac120003",
     "previous": "29db35e4-cb11-11e9-b4d8-0242ac120002"
    },
    "lc_wrapper": {
     "log_history": [
      "/home/jovyan/data/notebooks/mnagaku/seminar-lc4ri/.log/20190831/20190831-154925-0828.log",
      "/home/jovyan/data/notebooks/mnagaku/seminar-lc4ri/.log/20190831/20190831-174009-0670.log"
     ]
    }
   },
   "outputs": [],
   "source": [
    "!ansible -i hosts all -a \"chmod +x /usr/local/bin/wp\" --become"
   ]
  },
  {
   "cell_type": "code",
   "execution_count": null,
   "metadata": {
    "lc_cell_meme": {
     "current": "4784cc5c-cbbd-11e9-b72d-0242ac120003",
     "history": [
      {
       "current": "4784cc5c-cbbd-11e9-b72d-0242ac120003",
       "next": "4784cdec-cbbd-11e9-b72d-0242ac120003",
       "previous": "4784c91e-cbbd-11e9-b72d-0242ac120003"
      }
     ],
     "next": "f8f80c46-cbbe-11e9-b72d-0242ac120003",
     "previous": "4784c91e-cbbd-11e9-b72d-0242ac120003"
    },
    "lc_wrapper": {
     "log_history": [
      "/home/jovyan/data/notebooks/mnagaku/seminar-lc4ri/.log/20190831/20190831-154934-0037.log",
      "/home/jovyan/data/notebooks/mnagaku/seminar-lc4ri/.log/20190831/20190831-155009-0069.log",
      "/home/jovyan/data/notebooks/mnagaku/seminar-lc4ri/.log/20190831/20190831-174011-0775.log"
     ]
    }
   },
   "outputs": [],
   "source": [
    "!ansible -i hosts all -a \"wp --info\""
   ]
  },
  {
   "cell_type": "markdown",
   "metadata": {
    "lc_cell_meme": {
     "current": "f8f80c46-cbbe-11e9-b72d-0242ac120003",
     "next": "4784cdec-cbbd-11e9-b72d-0242ac120003",
     "previous": "4784cc5c-cbbd-11e9-b72d-0242ac120003"
    }
   },
   "source": [
    "wp-cliを使って、wpをインストール。"
   ]
  },
  {
   "cell_type": "code",
   "execution_count": null,
   "metadata": {
    "lc_cell_meme": {
     "current": "4784cdec-cbbd-11e9-b72d-0242ac120003",
     "history": [
      {
       "current": "4784cdec-cbbd-11e9-b72d-0242ac120003",
       "next": "4784cf40-cbbd-11e9-b72d-0242ac120003",
       "previous": "4784cc5c-cbbd-11e9-b72d-0242ac120003"
      }
     ],
     "next": "4784cf40-cbbd-11e9-b72d-0242ac120003",
     "previous": "f8f80c46-cbbe-11e9-b72d-0242ac120003"
    },
    "lc_wrapper": {
     "log_history": [
      "/home/jovyan/data/notebooks/mnagaku/seminar-lc4ri/.log/20190831/20190831-155140-0178.log",
      "/home/jovyan/data/notebooks/mnagaku/seminar-lc4ri/.log/20190831/20190831-174019-0263.log"
     ]
    }
   },
   "outputs": [],
   "source": [
    "!ansible -i hosts all -a \"chmod 777 /var/www/html\" --become"
   ]
  },
  {
   "cell_type": "code",
   "execution_count": null,
   "metadata": {
    "lc_cell_meme": {
     "current": "4784cf40-cbbd-11e9-b72d-0242ac120003",
     "next": "4784d094-cbbd-11e9-b72d-0242ac120003",
     "previous": "4784cdec-cbbd-11e9-b72d-0242ac120003"
    },
    "lc_wrapper": {
     "log_history": [
      "/home/jovyan/data/notebooks/mnagaku/seminar-lc4ri/.log/20190831/20190831-155144-0845.log",
      "/home/jovyan/data/notebooks/mnagaku/seminar-lc4ri/.log/20190831/20190831-174021-0292.log"
     ]
    }
   },
   "outputs": [],
   "source": [
    "!ansible -i hosts all -a \"wp core download --locale=ja --path=/var/www/html\""
   ]
  },
  {
   "cell_type": "code",
   "execution_count": null,
   "metadata": {
    "lc_cell_meme": {
     "current": "4784d094-cbbd-11e9-b72d-0242ac120003",
     "next": "4784d1de-cbbd-11e9-b72d-0242ac120003",
     "previous": "4784cf40-cbbd-11e9-b72d-0242ac120003"
    },
    "lc_wrapper": {
     "log_history": [
      "/home/jovyan/data/notebooks/mnagaku/seminar-lc4ri/.log/20190831/20190831-155228-0675.log",
      "/home/jovyan/data/notebooks/mnagaku/seminar-lc4ri/.log/20190831/20190831-174028-0425.log"
     ]
    }
   },
   "outputs": [],
   "source": [
    "!ansible -i hosts all -a \"wp core config --dbname=wordpress --dbuser=user --dbpass=password \\\n",
    "--dbhost=localhost --path=/var/www/html\""
   ]
  },
  {
   "cell_type": "code",
   "execution_count": null,
   "metadata": {
    "lc_cell_meme": {
     "current": "4784d1de-cbbd-11e9-b72d-0242ac120003",
     "history": [
      {
       "current": "4784d1de-cbbd-11e9-b72d-0242ac120003",
       "next": "4784d328-cbbd-11e9-b72d-0242ac120003",
       "previous": "4784d094-cbbd-11e9-b72d-0242ac120003"
      }
     ],
     "next": "f8f80d9a-cbbe-11e9-b72d-0242ac120003",
     "previous": "4784d094-cbbd-11e9-b72d-0242ac120003"
    },
    "lc_wrapper": {
     "log_history": [
      "/home/jovyan/data/notebooks/mnagaku/seminar-lc4ri/.log/20190831/20190831-155304-0586.log",
      "/home/jovyan/data/notebooks/mnagaku/seminar-lc4ri/.log/20190831/20190831-174030-0839.log"
     ]
    }
   },
   "outputs": [],
   "source": [
    "!ansible -i hosts all -a \"wp core install --url={host} --title=lc4ri \\\n",
    "--admin_name=admin --admin_password=admin --admin_email=admin@lc4ri.com  --path=/var/www/html\""
   ]
  },
  {
   "cell_type": "code",
   "execution_count": null,
   "metadata": {
    "lc_cell_meme": {
     "current": "f8f80d9a-cbbe-11e9-b72d-0242ac120003",
     "next": "f8f80eee-cbbe-11e9-b72d-0242ac120003",
     "previous": "4784d1de-cbbd-11e9-b72d-0242ac120003"
    },
    "lc_wrapper": {
     "log_history": [
      "/home/jovyan/data/notebooks/mnagaku/seminar-lc4ri/.log/20190831/20190831-174043-0870.log",
      "/home/jovyan/data/notebooks/mnagaku/seminar-lc4ri/.log/20190831/20190831-174126-0541.log"
     ]
    }
   },
   "outputs": [],
   "source": [
    "!ansible -i hosts all -a \"wp config set WP_SITEURL http://{host} --path=/var/www/html\""
   ]
  },
  {
   "cell_type": "code",
   "execution_count": null,
   "metadata": {
    "lc_cell_meme": {
     "current": "f8f80eee-cbbe-11e9-b72d-0242ac120003",
     "next": "4784d328-cbbd-11e9-b72d-0242ac120003",
     "previous": "f8f80d9a-cbbe-11e9-b72d-0242ac120003"
    },
    "lc_wrapper": {
     "log_history": [
      "/home/jovyan/data/notebooks/mnagaku/seminar-lc4ri/.log/20190831/20190831-174129-0041.log"
     ]
    }
   },
   "outputs": [],
   "source": [
    "!ansible -i hosts all -a \"wp config set WP_HOME http://{host} --path=/var/www/html\""
   ]
  },
  {
   "cell_type": "markdown",
   "metadata": {
    "lc_cell_meme": {
     "current": "4784d328-cbbd-11e9-b72d-0242ac120003",
     "history": [
      {
       "current": "4784d328-cbbd-11e9-b72d-0242ac120003",
       "next": "4784d468-cbbd-11e9-b72d-0242ac120003",
       "previous": "4784d1de-cbbd-11e9-b72d-0242ac120003"
      }
     ],
     "next": "4784d468-cbbd-11e9-b72d-0242ac120003",
     "previous": "f8f80eee-cbbe-11e9-b72d-0242ac120003"
    }
   },
   "source": [
    "hostにブラウザでアクセスするとwpを確認できる。admin/adminで入れる。\n",
    "\n",
    "マシンイメージを取る。"
   ]
  },
  {
   "cell_type": "code",
   "execution_count": null,
   "metadata": {
    "lc_cell_meme": {
     "current": "4784d468-cbbd-11e9-b72d-0242ac120003",
     "history": [
      {
       "current": "4784d468-cbbd-11e9-b72d-0242ac120003",
       "next": "be2a3686-c3e2-11e9-a49b-0242ac130003",
       "previous": "4784d328-cbbd-11e9-b72d-0242ac120003"
      }
     ],
     "next": "f8f81038-cbbe-11e9-b72d-0242ac120003",
     "previous": "4784d328-cbbd-11e9-b72d-0242ac120003"
    },
    "lc_wrapper": {
     "log_history": [
      "/home/jovyan/data/notebooks/mnagaku/seminar-lc4ri/.log/20190831/20190831-155957-0209.log",
      "/home/jovyan/data/notebooks/mnagaku/seminar-lc4ri/.log/20190831/20190831-160015-0947.log",
      "/home/jovyan/data/notebooks/mnagaku/seminar-lc4ri/.log/20190831/20190831-174316-0901.log"
     ]
    }
   },
   "outputs": [],
   "source": [
    "!aws ec2 create-image --instance-id {linux['instance_ids'][0]} \\\n",
    "--name \"lc4ri-training\" --description \"wordpress is not running.\""
   ]
  },
  {
   "cell_type": "markdown",
   "metadata": {
    "lc_cell_meme": {
     "current": "f8f81038-cbbe-11e9-b72d-0242ac120003",
     "next": "be2a3686-c3e2-11e9-a49b-0242ac130003",
     "previous": "4784d468-cbbd-11e9-b72d-0242ac120003"
    }
   },
   "source": [
    "このイメージを起動すると、\n",
    "\n",
    "- httpdが動いていない\n",
    "- wp-config.phpのWP_SITEURLとWP_HOMEのIPアドレスが不正\n",
    "- /var/www/html/wp-content/uploadsが書き込めないので写真をupできない\n",
    "\n",
    "という不具合を確認できる。"
   ]
  },
  {
   "cell_type": "markdown",
   "metadata": {
    "lc_cell_meme": {
     "current": "be2a3686-c3e2-11e9-a49b-0242ac130003",
     "history": [
      {
       "current": "be2a3686-c3e2-11e9-a49b-0242ac130003",
       "next": "be2a3898-c3e2-11e9-a49b-0242ac130003",
       "previous": "535aa4fa-c340-11e9-adb5-0242ac120003"
      },
      {
       "current": "be2a3686-c3e2-11e9-a49b-0242ac130003",
       "next": "be2a3898-c3e2-11e9-a49b-0242ac130003",
       "previous": "4784d468-cbbd-11e9-b72d-0242ac120003"
      }
     ],
     "next": "be2a3898-c3e2-11e9-a49b-0242ac130003",
     "previous": "f8f81038-cbbe-11e9-b72d-0242ac120003"
    }
   },
   "source": [
    "## Linuxマシンを破棄する"
   ]
  },
  {
   "cell_type": "code",
   "execution_count": null,
   "metadata": {
    "lc_cell_meme": {
     "current": "be2a3898-c3e2-11e9-a49b-0242ac130003",
     "history": [
      {
       "current": "be2a3898-c3e2-11e9-a49b-0242ac130003",
       "next": null,
       "previous": "be2a3686-c3e2-11e9-a49b-0242ac130003"
      }
     ],
     "next": "9105aafa-c3e7-11e9-a49b-0242ac130003",
     "previous": "be2a3686-c3e2-11e9-a49b-0242ac130003"
    },
    "lc_wrapper": {
     "log_history": [
      "/home/jovyan/data/notebooks/mnagaku/seminar-lc4ri/.log/20190821/20190821-164349-0760.log",
      "/home/jovyan/data/notebooks/mnagaku/seminar-lc4ri/.log/20190821/20190821-170933-0403.log",
      "/home/jovyan/data/notebooks/mnagaku/seminar-lc4ri/.log/20190831/20190831-174613-0180.log"
     ]
    }
   },
   "outputs": [],
   "source": [
    "!aws ec2 terminate-instances --instance-ids {linux['instance_ids'][0]}"
   ]
  },
  {
   "cell_type": "code",
   "execution_count": null,
   "metadata": {
    "lc_cell_meme": {
     "current": "9105aafa-c3e7-11e9-a49b-0242ac130003",
     "next": null,
     "previous": "be2a3898-c3e2-11e9-a49b-0242ac130003"
    }
   },
   "outputs": [],
   "source": []
  }
 ],
 "metadata": {
  "kernelspec": {
   "display_name": "Python 3",
   "language": "python",
   "name": "python3"
  },
  "language_info": {
   "file_extension": ".py",
   "mimetype": "text/x-python",
   "name": "python",
   "nbconvert_exporter": "python",
   "pygments_lexer": "ipython3",
   "version": "3.7.3"
  },
  "lc_notebook_meme": {
   "current": "fd1fbdc2-bd78-11e9-897b-0242ac130003",
   "lc_server_signature": {
    "current": {
     "notebook_dir": "/home/jovyan",
     "notebook_path": "/data/notebooks/mnagaku/seminar-lc4ri",
     "server_url": "http://localhost:8888/",
     "signature_id": "a7e2ef66-cc58-11e9-8d4e-0242ac120003"
    },
    "history": [
     {
      "notebook_dir": "/home/jovyan",
      "notebook_path": "/data/notebooks/mnagaku/seminar-lc4ri",
      "server_url": "http://localhost:8888/",
      "signature_id": "2aeac838-bd78-11e9-897b-0242ac130003"
     },
     {
      "notebook_dir": "/home/jovyan",
      "notebook_path": "/data/notebooks/mnagaku/seminar-lc4ri",
      "server_url": "http://localhost:8888/",
      "signature_id": "fdfd5484-be2c-11e9-bf95-0242ac120003"
     },
     {
      "notebook_dir": "/home/jovyan",
      "notebook_path": "/data/notebooks/mnagaku/seminar-lc4ri",
      "server_url": "http://localhost:8888/",
      "signature_id": "897b9ca0-c224-11e9-aed2-0242ac120003"
     },
     {
      "notebook_dir": "/home/jovyan",
      "notebook_path": "/data/notebooks/mnagaku/seminar-lc4ri",
      "server_url": "http://localhost:8888/",
      "signature_id": "c18ec10c-c306-11e9-adb5-0242ac120003"
     },
     {
      "notebook_dir": "/home/jovyan",
      "notebook_path": "/data/notebooks/mnagaku/seminar-lc4ri",
      "server_url": "http://localhost:8888/",
      "signature_id": "ff9db736-c3d9-11e9-9868-0242ac120003"
     },
     {
      "notebook_dir": "/home/jovyan",
      "notebook_path": "/data/notebooks/mnagaku/seminar-lc4ri",
      "server_url": "http://localhost:8888/",
      "signature_id": "60d2da1a-c3e2-11e9-a49b-0242ac130003"
     },
     {
      "notebook_dir": "/home/jovyan",
      "notebook_path": "/data/notebooks/mnagaku/seminar-lc4ri",
      "server_url": "http://localhost:8888/",
      "signature_id": "8ef05dc0-ca61-11e9-8a1c-0242ac120003"
     },
     {
      "notebook_dir": "/home/jovyan",
      "notebook_path": "/data/notebooks/mnagaku/seminar-lc4ri",
      "server_url": "http://localhost:8888/",
      "signature_id": "d4fd5750-cad9-11e9-9998-0242ac120003"
     },
     {
      "notebook_dir": "/home/jovyan",
      "notebook_path": "/data/notebooks/mnagaku/seminar-lc4ri",
      "server_url": "http://localhost:8888/",
      "signature_id": "9e80cb0e-cb00-11e9-b4d8-0242ac120002"
     },
     {
      "notebook_dir": "/home/jovyan",
      "notebook_path": "/data/notebooks/mnagaku/seminar-lc4ri",
      "server_url": "http://localhost:8888/",
      "signature_id": "4e92ee6e-cbab-11e9-b72d-0242ac120003"
     },
     {
      "notebook_dir": "/home/jovyan",
      "notebook_path": "/data/notebooks/mnagaku/seminar-lc4ri",
      "server_url": "http://localhost:8888/",
      "signature_id": "a933d282-cbe9-11e9-8830-0242ac150003"
     }
    ]
   }
  },
  "toc": {
   "base_numbering": 1,
   "nav_menu": {},
   "number_sections": true,
   "sideBar": true,
   "skip_h1_title": false,
   "title_cell": "Table of Contents",
   "title_sidebar": "Contents",
   "toc_cell": false,
   "toc_position": {
    "height": "calc(100% - 180px)",
    "left": "10px",
    "top": "150px",
    "width": "259.797px"
   },
   "toc_section_display": true,
   "toc_window_display": true
  }
 },
 "nbformat": 4,
 "nbformat_minor": 2
}
