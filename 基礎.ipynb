{
 "cells": [
  {
   "cell_type": "markdown",
   "metadata": {
    "lc_cell_meme": {
     "current": "c7f211e8-b73a-11e9-ae0d-0242ac130003",
     "next": "1a35814e-b743-11e9-ae0d-0242ac130003",
     "previous": null
    }
   },
   "source": [
    "# JupyterNotebookの基礎\n",
    "\n",
    "## 導入\n",
    "\n",
    "[JupyterNotebook入門](JupyterNotebookIntroduction.ipynb)\n",
    "\n",
    "[LC4RI入門](LC4RI_Introduction.ipynb)\n",
    "\n",
    "## 解説\n",
    "\n",
    "\n",
    "\n",
    "\n",
    "## 資料\n",
    "\n",
    "\n"
   ]
  },
  {
   "cell_type": "code",
   "execution_count": 1,
   "metadata": {
    "lc_cell_meme": {
     "current": "1a35814e-b743-11e9-ae0d-0242ac130003",
     "execution_end_time": "2019-08-05T05:33:17.802205Z",
     "next": "1a358310-b743-11e9-ae0d-0242ac130003",
     "previous": "c7f211e8-b73a-11e9-ae0d-0242ac130003"
    },
    "lc_wrapper": {
     "log_history": [
      "/home/jovyan/data/notebooks/mnagaku/nii20190909/.log/20190805/20190805-143317-0788.log"
     ]
    }
   },
   "outputs": [
    {
     "name": "stdout",
     "output_type": "stream",
     "text": [
      "path: /home/jovyan/data/notebooks/mnagaku/nii20190909/.log/20190805/20190805-143317-0788.log (0 logs recorded)\n",
      "start time: 2019-08-05 14:33:17(JST)\n",
      "end time: 2019-08-05 14:33:17(JST)\n",
      "output size: 456 bytes\n",
      "0 chunks with matched keywords or errors\n",
      "----\n"
     ]
    }
   ],
   "source": [
    "import math"
   ]
  },
  {
   "cell_type": "code",
   "execution_count": null,
   "metadata": {
    "lc_cell_meme": {
     "current": "1a358310-b743-11e9-ae0d-0242ac130003",
     "next": null,
     "previous": "1a35814e-b743-11e9-ae0d-0242ac130003"
    }
   },
   "outputs": [],
   "source": [
    "math.tan"
   ]
  }
 ],
 "metadata": {
  "kernelspec": {
   "display_name": "Python 3",
   "language": "python",
   "name": "python3"
  },
  "language_info": {
   "file_extension": ".py",
   "mimetype": "text/x-python",
   "name": "python",
   "nbconvert_exporter": "python",
   "pygments_lexer": "ipython3",
   "version": "3.7.3"
  },
  "lc_notebook_meme": {
   "current": "c7f20ebe-b73a-11e9-ae0d-0242ac130003",
   "lc_server_signature": {
    "current": {
     "notebook_dir": "/home/jovyan",
     "notebook_path": "/data/notebooks/mnagaku/nii20190909",
     "server_url": "http://localhost:8888/",
     "signature_id": "69c94d70-b807-11e9-a792-0242ac120003"
    },
    "history": [
     {
      "notebook_dir": "/home/jovyan",
      "notebook_path": "/data/notebooks/mnagaku/nii20190909",
      "server_url": "http://localhost:8888/",
      "signature_id": "e1681782-b738-11e9-ae0d-0242ac130003"
     },
     {
      "notebook_dir": "/home/jovyan",
      "notebook_path": "/data/notebooks/mnagaku/nii20190909",
      "server_url": "http://localhost:8888/",
      "signature_id": "a2539f90-b74b-11e9-99cd-0242ac140003"
     }
    ]
   }
  },
  "toc": {
   "base_numbering": 1,
   "nav_menu": {},
   "number_sections": true,
   "sideBar": true,
   "skip_h1_title": false,
   "title_cell": "Table of Contents",
   "title_sidebar": "Contents",
   "toc_cell": false,
   "toc_position": {},
   "toc_section_display": true,
   "toc_window_display": true
  }
 },
 "nbformat": 4,
 "nbformat_minor": 2
}
