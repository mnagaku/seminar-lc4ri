{
 "cells": [
  {
   "cell_type": "markdown",
   "metadata": {
    "lc_cell_meme": {
     "current": "fd1fc1be-bd78-11e9-897b-0242ac130003",
     "history": [
      {
       "current": "fd1fc1be-bd78-11e9-897b-0242ac130003",
       "next": "fd1fc524-bd78-11e9-897b-0242ac130003",
       "previous": null
      }
     ],
     "next": "19374dd2-bd9b-11e9-897b-0242ac130003",
     "previous": null
    }
   },
   "source": [
    "# JupyterNotebookによる運用\n",
    "\n",
    "依頼：\n",
    "\n",
    "admin/adminでログインできるはずのWordPressが入ったEC2のマシンイメージあるが、起動してもブラウザで動作を確認できない。調査して復旧させて欲しい。\n",
    "\n",
    "OSはCentOS7で、WordPressはwp-cliというツールでメンテナンスできる状態とのこと。\n",
    "\n",
    "参考情報：\n",
    "\n",
    "[システムサービスの管理](https://access.redhat.com/documentation/ja-jp/red_hat_enterprise_linux/7/html/system_administrators_guide/sect-managing_services_with_systemd-services)\n",
    "\n",
    "[WP-CLI Commands](https://developer.wordpress.org/cli/commands/config/)\n",
    "\n",
    "まずは、起動してみましょう。\n",
    "\n",
    "## ユーザ識別のため、ユーザ名を設定"
   ]
  },
  {
   "cell_type": "code",
   "execution_count": null,
   "metadata": {
    "lc_cell_meme": {
     "current": "19374dd2-bd9b-11e9-897b-0242ac130003",
     "next": "fd1fc1be-bd78-11e9-897b-0242ac130003",
     "previous": "fd1fc1be-bd78-11e9-897b-0242ac130003"
    },
    "lc_wrapper": {
     "log_history": [
      "/home/jovyan/data/notebooks/mnagaku/seminar-lc4ri/.log/20190813/20190813-164011-0376.log",
      "/home/jovyan/data/notebooks/mnagaku/seminar-lc4ri/.log/20190814/20190814-101858-0834.log",
      "/home/jovyan/data/notebooks/mnagaku/seminar-lc4ri/.log/20190819/20190819-111343-0446.log",
      "/home/jovyan/data/notebooks/mnagaku/seminar-lc4ri/.log/20190819/20190819-121503-0194.log",
      "/home/jovyan/data/notebooks/mnagaku/seminar-lc4ri/.log/20190819/20190819-175205-0169.log",
      "/home/jovyan/data/notebooks/mnagaku/seminar-lc4ri/.log/20190820/20190820-140836-0438.log",
      "/home/jovyan/data/notebooks/mnagaku/seminar-lc4ri/.log/20190820/20190820-171654-0270.log",
      "/home/jovyan/data/notebooks/mnagaku/seminar-lc4ri/.log/20190821/20190821-162300-0555.log",
      "/home/jovyan/data/notebooks/mnagaku/seminar-lc4ri/.log/20190821/20190821-165809-0818.log",
      "/home/jovyan/data/notebooks/mnagaku/seminar-lc4ri/.log/20190829/20190829-224037-0723.log",
      "/home/jovyan/data/notebooks/mnagaku/seminar-lc4ri/.log/20190830/20190830-125925-0833.log",
      "/home/jovyan/data/notebooks/mnagaku/seminar-lc4ri/.log/20190831/20190831-215603-0204.log"
     ]
    }
   },
   "outputs": [],
   "source": [
    "username = 'user99@nb12.ecloud.nii.ac.jp'"
   ]
  },
  {
   "cell_type": "markdown",
   "metadata": {
    "lc_cell_meme": {
     "current": "fd1fc1be-bd78-11e9-897b-0242ac130003",
     "history": [
      {
       "current": "fd1fc1be-bd78-11e9-897b-0242ac130003",
       "next": "fd1fc524-bd78-11e9-897b-0242ac130003",
       "previous": null
      }
     ],
     "next": "fd1fc524-bd78-11e9-897b-0242ac130003",
     "previous": "19374dd2-bd9b-11e9-897b-0242ac130003"
    }
   },
   "source": [
    "## awscliの準備\n",
    "\n",
    "### インストール"
   ]
  },
  {
   "cell_type": "code",
   "execution_count": null,
   "metadata": {
    "lc_cell_meme": {
     "current": "fd1fc524-bd78-11e9-897b-0242ac130003",
     "next": "fd1fc786-bd78-11e9-897b-0242ac130003",
     "previous": "fd1fc1be-bd78-11e9-897b-0242ac130003"
    },
    "lc_wrapper": {
     "log_history": [
      "/home/jovyan/data/notebooks/mnagaku/seminar-lc4ri/.log/20190814/20190814-101902-0012.log",
      "/home/jovyan/data/notebooks/mnagaku/seminar-lc4ri/.log/20190814/20190814-102006-0030.log",
      "/home/jovyan/data/notebooks/mnagaku/seminar-lc4ri/.log/20190814/20190814-102053-0174.log",
      "/home/jovyan/data/notebooks/mnagaku/seminar-lc4ri/.log/20190819/20190819-111347-0631.log",
      "/home/jovyan/data/notebooks/mnagaku/seminar-lc4ri/.log/20190819/20190819-121507-0067.log",
      "/home/jovyan/data/notebooks/mnagaku/seminar-lc4ri/.log/20190820/20190820-140837-0813.log",
      "/home/jovyan/data/notebooks/mnagaku/seminar-lc4ri/.log/20190820/20190820-171655-0008.log",
      "/home/jovyan/data/notebooks/mnagaku/seminar-lc4ri/.log/20190821/20190821-162301-0773.log",
      "/home/jovyan/data/notebooks/mnagaku/seminar-lc4ri/.log/20190829/20190829-224039-0770.log",
      "/home/jovyan/data/notebooks/mnagaku/seminar-lc4ri/.log/20190830/20190830-125928-0288.log",
      "/home/jovyan/data/notebooks/mnagaku/seminar-lc4ri/.log/20190831/20190831-215604-0106.log"
     ]
    }
   },
   "outputs": [],
   "source": [
    "!sudo apt-get update && sudo apt-get upgrade -y && sudo apt-get install -y awscli"
   ]
  },
  {
   "cell_type": "code",
   "execution_count": null,
   "metadata": {
    "lc_cell_meme": {
     "current": "fd1fc786-bd78-11e9-897b-0242ac130003",
     "history": [
      {
       "current": "fd1fc786-bd78-11e9-897b-0242ac130003",
       "next": "fd1fcb00-bd78-11e9-897b-0242ac130003",
       "previous": "fd1fc524-bd78-11e9-897b-0242ac130003"
      }
     ],
     "next": "1937505c-bd9b-11e9-897b-0242ac130003",
     "previous": "fd1fc524-bd78-11e9-897b-0242ac130003"
    },
    "lc_wrapper": {
     "log_history": [
      "/home/jovyan/data/notebooks/mnagaku/seminar-lc4ri/.log/20190814/20190814-102235-0212.log",
      "/home/jovyan/data/notebooks/mnagaku/seminar-lc4ri/.log/20190819/20190819-111445-0288.log",
      "/home/jovyan/data/notebooks/mnagaku/seminar-lc4ri/.log/20190819/20190819-121518-0052.log",
      "/home/jovyan/data/notebooks/mnagaku/seminar-lc4ri/.log/20190820/20190820-140933-0284.log",
      "/home/jovyan/data/notebooks/mnagaku/seminar-lc4ri/.log/20190820/20190820-171702-0363.log",
      "/home/jovyan/data/notebooks/mnagaku/seminar-lc4ri/.log/20190821/20190821-162419-0951.log",
      "/home/jovyan/data/notebooks/mnagaku/seminar-lc4ri/.log/20190829/20190829-224159-0110.log",
      "/home/jovyan/data/notebooks/mnagaku/seminar-lc4ri/.log/20190830/20190830-130343-0700.log",
      "/home/jovyan/data/notebooks/mnagaku/seminar-lc4ri/.log/20190831/20190831-215722-0441.log"
     ]
    }
   },
   "outputs": [],
   "source": [
    "!aws --version"
   ]
  },
  {
   "cell_type": "markdown",
   "metadata": {
    "lc_cell_meme": {
     "current": "1937505c-bd9b-11e9-897b-0242ac130003",
     "next": "fd1fcb00-bd78-11e9-897b-0242ac130003",
     "previous": "fd1fc786-bd78-11e9-897b-0242ac130003"
    }
   },
   "source": [
    "### 設定"
   ]
  },
  {
   "cell_type": "code",
   "execution_count": null,
   "metadata": {
    "lc_cell_meme": {
     "current": "fd1fcb00-bd78-11e9-897b-0242ac130003",
     "history": [
      {
       "current": "fd1fcb00-bd78-11e9-897b-0242ac130003",
       "next": null,
       "previous": "fd1fc786-bd78-11e9-897b-0242ac130003"
      },
      {
       "current": "fd1fcb00-bd78-11e9-897b-0242ac130003",
       "next": "443279ac-bd79-11e9-897b-0242ac130003",
       "previous": "fd1fc786-bd78-11e9-897b-0242ac130003"
      }
     ],
     "next": "443279ac-bd79-11e9-897b-0242ac130003",
     "previous": "1937505c-bd9b-11e9-897b-0242ac130003"
    },
    "lc_wrapper": {
     "log_history": [
      "/home/jovyan/data/notebooks/mnagaku/seminar-lc4ri/.log/20190813/20190813-121931-0775.log",
      "/home/jovyan/data/notebooks/mnagaku/seminar-lc4ri/.log/20190814/20190814-102241-0727.log",
      "/home/jovyan/data/notebooks/mnagaku/seminar-lc4ri/.log/20190819/20190819-111450-0333.log",
      "/home/jovyan/data/notebooks/mnagaku/seminar-lc4ri/.log/20190819/20190819-121521-0211.log",
      "/home/jovyan/data/notebooks/mnagaku/seminar-lc4ri/.log/20190819/20190819-175209-0328.log",
      "/home/jovyan/data/notebooks/mnagaku/seminar-lc4ri/.log/20190820/20190820-140934-0180.log",
      "/home/jovyan/data/notebooks/mnagaku/seminar-lc4ri/.log/20190820/20190820-171703-0238.log",
      "/home/jovyan/data/notebooks/mnagaku/seminar-lc4ri/.log/20190821/20190821-162427-0578.log",
      "/home/jovyan/data/notebooks/mnagaku/seminar-lc4ri/.log/20190829/20190829-224204-0974.log",
      "/home/jovyan/data/notebooks/mnagaku/seminar-lc4ri/.log/20190830/20190830-132603-0825.log",
      "/home/jovyan/data/notebooks/mnagaku/seminar-lc4ri/.log/20190831/20190831-215723-0576.log"
     ]
    }
   },
   "outputs": [],
   "source": [
    "target_region = 'ap-northeast-1'\n",
    "!aws configure set default.region {target_region}\n",
    "!aws configure set default.output json"
   ]
  },
  {
   "cell_type": "markdown",
   "metadata": {
    "lc_cell_meme": {
     "current": "443279ac-bd79-11e9-897b-0242ac130003",
     "history": [
      {
       "current": "443279ac-bd79-11e9-897b-0242ac130003",
       "next": null,
       "previous": "fd1fcb00-bd78-11e9-897b-0242ac130003"
      },
      {
       "current": "443279ac-bd79-11e9-897b-0242ac130003",
       "next": "8c2ca728-bd79-11e9-897b-0242ac130003",
       "previous": "fd1fcb00-bd78-11e9-897b-0242ac130003"
      }
     ],
     "next": "19375192-bd9b-11e9-897b-0242ac130003",
     "previous": "fd1fcb00-bd78-11e9-897b-0242ac130003"
    }
   },
   "source": [
    "認証情報としてAccessKeyIdとSecretAccessKeyを設定します。\n",
    "\n",
    "コマンドに対する対話的な操作が必要ですから、JupyterのTerminal(treeページの[New] - [Terminal]から選択できます)から、 `aws configure` を実施してください。\n",
    "\n",
    "`aws configure` の実施例:\n",
    "\n",
    "```\n",
    "$ aws configure\n",
    "AWS Access Key ID [None]: (自身のアカウントのアクセスキー)\n",
    "AWS Secret Access Key [None]: (自身のアカウントのシークレットアクセスキー)\n",
    "Default region name [ap-northeast-1]: (Enter)\n",
    "Default output format [json]: (Enter)\n",
    "```\n",
    "\n",
    "### boto3ライブラリの追加\n",
    "\n",
    "ansibleからawsを触るために、ライブラリを追加しておきます。"
   ]
  },
  {
   "cell_type": "code",
   "execution_count": null,
   "metadata": {
    "lc_cell_meme": {
     "current": "19375192-bd9b-11e9-897b-0242ac130003",
     "next": "193752a0-bd9b-11e9-897b-0242ac130003",
     "previous": "443279ac-bd79-11e9-897b-0242ac130003"
    },
    "lc_wrapper": {
     "log_history": [
      "/home/jovyan/data/notebooks/mnagaku/seminar-lc4ri/.log/20190813/20190813-153450-0306.log",
      "/home/jovyan/data/notebooks/mnagaku/seminar-lc4ri/.log/20190813/20190813-154001-0282.log",
      "/home/jovyan/data/notebooks/mnagaku/seminar-lc4ri/.log/20190813/20190813-171304-0185.log",
      "/home/jovyan/data/notebooks/mnagaku/seminar-lc4ri/.log/20190814/20190814-102256-0712.log",
      "/home/jovyan/data/notebooks/mnagaku/seminar-lc4ri/.log/20190819/20190819-111553-0572.log",
      "/home/jovyan/data/notebooks/mnagaku/seminar-lc4ri/.log/20190819/20190819-121525-0742.log",
      "/home/jovyan/data/notebooks/mnagaku/seminar-lc4ri/.log/20190820/20190820-141038-0393.log",
      "/home/jovyan/data/notebooks/mnagaku/seminar-lc4ri/.log/20190820/20190820-171704-0923.log",
      "/home/jovyan/data/notebooks/mnagaku/seminar-lc4ri/.log/20190821/20190821-162558-0596.log",
      "/home/jovyan/data/notebooks/mnagaku/seminar-lc4ri/.log/20190829/20190829-224303-0116.log",
      "/home/jovyan/data/notebooks/mnagaku/seminar-lc4ri/.log/20190830/20190830-134136-0487.log",
      "/home/jovyan/data/notebooks/mnagaku/seminar-lc4ri/.log/20190831/20190831-215725-0665.log"
     ]
    }
   },
   "outputs": [],
   "source": [
    "!conda install -y boto3 boto"
   ]
  },
  {
   "cell_type": "markdown",
   "metadata": {
    "lc_cell_meme": {
     "current": "193752a0-bd9b-11e9-897b-0242ac130003",
     "next": "193753ae-bd9b-11e9-897b-0242ac130003",
     "previous": "19375192-bd9b-11e9-897b-0242ac130003"
    }
   },
   "source": [
    "## keypairの作成\n",
    "\n",
    "クラウド上でLinuxマシンを起動する前に、ssh接続に必要となるkeypairを作成します。"
   ]
  },
  {
   "cell_type": "code",
   "execution_count": null,
   "metadata": {
    "lc_cell_meme": {
     "current": "193753ae-bd9b-11e9-897b-0242ac130003",
     "history": [
      {
       "current": "193753ae-bd9b-11e9-897b-0242ac130003",
       "next": "193754b2-bd9b-11e9-897b-0242ac130003",
       "previous": "193752a0-bd9b-11e9-897b-0242ac130003"
      },
      {
       "current": "193753ae-bd9b-11e9-897b-0242ac130003",
       "next": "193755c0-bd9b-11e9-897b-0242ac130003",
       "previous": "193752a0-bd9b-11e9-897b-0242ac130003"
      }
     ],
     "next": "8c2ca728-bd79-11e9-897b-0242ac130003",
     "previous": "193752a0-bd9b-11e9-897b-0242ac130003"
    },
    "lc_wrapper": {
     "log_history": [
      "/home/jovyan/data/notebooks/mnagaku/seminar-lc4ri/.log/20190813/20190813-151159-0540.log",
      "/home/jovyan/data/notebooks/mnagaku/seminar-lc4ri/.log/20190813/20190813-151939-0912.log",
      "/home/jovyan/data/notebooks/mnagaku/seminar-lc4ri/.log/20190813/20190813-152159-0990.log",
      "/home/jovyan/data/notebooks/mnagaku/seminar-lc4ri/.log/20190813/20190813-163747-0651.log",
      "/home/jovyan/data/notebooks/mnagaku/seminar-lc4ri/.log/20190813/20190813-163931-0166.log",
      "/home/jovyan/data/notebooks/mnagaku/seminar-lc4ri/.log/20190813/20190813-163942-0604.log",
      "/home/jovyan/data/notebooks/mnagaku/seminar-lc4ri/.log/20190813/20190813-164015-0355.log",
      "/home/jovyan/data/notebooks/mnagaku/seminar-lc4ri/.log/20190813/20190813-164221-0038.log",
      "/home/jovyan/data/notebooks/mnagaku/seminar-lc4ri/.log/20190813/20190813-164254-0322.log",
      "/home/jovyan/data/notebooks/mnagaku/seminar-lc4ri/.log/20190813/20190813-164346-0283.log",
      "/home/jovyan/data/notebooks/mnagaku/seminar-lc4ri/.log/20190813/20190813-164415-0072.log",
      "/home/jovyan/data/notebooks/mnagaku/seminar-lc4ri/.log/20190813/20190813-164518-0583.log",
      "/home/jovyan/data/notebooks/mnagaku/seminar-lc4ri/.log/20190813/20190813-171239-0278.log",
      "/home/jovyan/data/notebooks/mnagaku/seminar-lc4ri/.log/20190814/20190814-102338-0472.log",
      "/home/jovyan/data/notebooks/mnagaku/seminar-lc4ri/.log/20190814/20190814-102550-0929.log",
      "/home/jovyan/data/notebooks/mnagaku/seminar-lc4ri/.log/20190819/20190819-111633-0867.log",
      "/home/jovyan/data/notebooks/mnagaku/seminar-lc4ri/.log/20190820/20190820-141116-0445.log",
      "/home/jovyan/data/notebooks/mnagaku/seminar-lc4ri/.log/20190820/20190820-171735-0213.log",
      "/home/jovyan/data/notebooks/mnagaku/seminar-lc4ri/.log/20190821/20190821-162642-0345.log",
      "/home/jovyan/data/notebooks/mnagaku/seminar-lc4ri/.log/20190821/20190821-165820-0163.log",
      "/home/jovyan/data/notebooks/mnagaku/seminar-lc4ri/.log/20190821/20190821-165947-0885.log",
      "/home/jovyan/data/notebooks/mnagaku/seminar-lc4ri/.log/20190829/20190829-224344-0181.log",
      "/home/jovyan/data/notebooks/mnagaku/seminar-lc4ri/.log/20190830/20190830-134249-0600.log",
      "/home/jovyan/data/notebooks/mnagaku/seminar-lc4ri/.log/20190831/20190831-215947-0592.log"
     ]
    }
   },
   "outputs": [],
   "source": [
    "!aws ec2 delete-key-pair --key-name {username}\n",
    "row = !aws ec2 create-key-pair --key-name {username} --query 'KeyMaterial' --output text\n",
    "\n",
    "with open(username + '.pem', mode='w') as f:\n",
    "    f.write('\\n'.join(row))\n",
    "\n",
    "import os\n",
    "os.chmod(username + '.pem', 0o600)\n",
    "\n",
    "#!aws ec2 delete-key-pair --key-name {username}"
   ]
  },
  {
   "cell_type": "markdown",
   "metadata": {
    "lc_cell_meme": {
     "current": "8c2ca728-bd79-11e9-897b-0242ac130003",
     "history": [
      {
       "current": "8c2ca728-bd79-11e9-897b-0242ac130003",
       "next": null,
       "previous": "443279ac-bd79-11e9-897b-0242ac130003"
      },
      {
       "current": "8c2ca728-bd79-11e9-897b-0242ac130003",
       "next": "193756c4-bd9b-11e9-897b-0242ac130003",
       "previous": "193755c0-bd9b-11e9-897b-0242ac130003"
      },
      {
       "current": "8c2ca728-bd79-11e9-897b-0242ac130003",
       "next": "0cbeec7a-bdac-11e9-897b-0242ac130003",
       "previous": "193755c0-bd9b-11e9-897b-0242ac130003"
      },
      {
       "current": "8c2ca728-bd79-11e9-897b-0242ac130003",
       "next": "cbbe9e10-c26e-11e9-aed2-0242ac120003",
       "previous": "193755c0-bd9b-11e9-897b-0242ac130003"
      },
      {
       "current": "8c2ca728-bd79-11e9-897b-0242ac130003",
       "next": "0cbeec7a-bdac-11e9-897b-0242ac130003",
       "previous": "193755c0-bd9b-11e9-897b-0242ac130003"
      }
     ],
     "next": "0cbeec7a-bdac-11e9-897b-0242ac130003",
     "previous": "193753ae-bd9b-11e9-897b-0242ac130003"
    }
   },
   "source": [
    "## Linuxマシンを起動する\n",
    "\n",
    "ansibleでec2インスタンスを起動します。ディストリビューションはUbuntuとします。"
   ]
  },
  {
   "cell_type": "code",
   "execution_count": null,
   "metadata": {
    "lc_cell_meme": {
     "current": "0cbeec7a-bdac-11e9-897b-0242ac130003",
     "history": [
      {
       "current": "0cbeec7a-bdac-11e9-897b-0242ac130003",
       "next": "0cbef012-bdac-11e9-897b-0242ac130003",
       "previous": "8c2ca728-bd79-11e9-897b-0242ac130003"
      },
      {
       "current": "0cbeec7a-bdac-11e9-897b-0242ac130003",
       "next": "47965d3a-bdb4-11e9-897b-0242ac130003",
       "previous": "8c2ca728-bd79-11e9-897b-0242ac130003"
      },
      {
       "current": "0cbeec7a-bdac-11e9-897b-0242ac130003",
       "next": "47965d3a-bdb4-11e9-897b-0242ac130003",
       "previous": "cbbe9e10-c26e-11e9-aed2-0242ac120003"
      },
      {
       "current": "0cbeec7a-bdac-11e9-897b-0242ac130003",
       "next": "7e26d370-c309-11e9-adb5-0242ac120003",
       "previous": "cbbe9e10-c26e-11e9-aed2-0242ac120003"
      },
      {
       "current": "0cbeec7a-bdac-11e9-897b-0242ac130003",
       "next": "c1ad2982-c318-11e9-adb5-0242ac120003",
       "previous": "cbbe9e10-c26e-11e9-aed2-0242ac120003"
      }
     ],
     "next": "c1ad2982-c318-11e9-adb5-0242ac120003",
     "previous": "8c2ca728-bd79-11e9-897b-0242ac130003"
    },
    "lc_wrapper": {
     "log_history": [
      "/home/jovyan/data/notebooks/mnagaku/seminar-lc4ri/.log/20190813/20190813-171249-0047.log",
      "/home/jovyan/data/notebooks/mnagaku/seminar-lc4ri/.log/20190813/20190813-171338-0506.log",
      "/home/jovyan/data/notebooks/mnagaku/seminar-lc4ri/.log/20190813/20190813-171434-0687.log",
      "/home/jovyan/data/notebooks/mnagaku/seminar-lc4ri/.log/20190813/20190813-171443-0610.log",
      "/home/jovyan/data/notebooks/mnagaku/seminar-lc4ri/.log/20190813/20190813-171915-0556.log",
      "/home/jovyan/data/notebooks/mnagaku/seminar-lc4ri/.log/20190813/20190813-180904-0592.log",
      "/home/jovyan/data/notebooks/mnagaku/seminar-lc4ri/.log/20190813/20190813-181112-0278.log",
      "/home/jovyan/data/notebooks/mnagaku/seminar-lc4ri/.log/20190813/20190813-181209-0936.log",
      "/home/jovyan/data/notebooks/mnagaku/seminar-lc4ri/.log/20190814/20190814-102558-0654.log",
      "/home/jovyan/data/notebooks/mnagaku/seminar-lc4ri/.log/20190814/20190814-102637-0412.log",
      "/home/jovyan/data/notebooks/mnagaku/seminar-lc4ri/.log/20190814/20190814-150642-0055.log",
      "/home/jovyan/data/notebooks/mnagaku/seminar-lc4ri/.log/20190814/20190814-163703-0206.log",
      "/home/jovyan/data/notebooks/mnagaku/seminar-lc4ri/.log/20190819/20190819-111654-0107.log",
      "/home/jovyan/data/notebooks/mnagaku/seminar-lc4ri/.log/20190819/20190819-121040-0523.log",
      "/home/jovyan/data/notebooks/mnagaku/seminar-lc4ri/.log/20190819/20190819-121151-0935.log",
      "/home/jovyan/data/notebooks/mnagaku/seminar-lc4ri/.log/20190819/20190819-121241-0317.log",
      "/home/jovyan/data/notebooks/mnagaku/seminar-lc4ri/.log/20190819/20190819-121344-0571.log",
      "/home/jovyan/data/notebooks/mnagaku/seminar-lc4ri/.log/20190819/20190819-121425-0853.log",
      "/home/jovyan/data/notebooks/mnagaku/seminar-lc4ri/.log/20190819/20190819-121611-0296.log",
      "/home/jovyan/data/notebooks/mnagaku/seminar-lc4ri/.log/20190819/20190819-121642-0065.log",
      "/home/jovyan/data/notebooks/mnagaku/seminar-lc4ri/.log/20190819/20190819-121747-0657.log",
      "/home/jovyan/data/notebooks/mnagaku/seminar-lc4ri/.log/20190819/20190819-123030-0130.log",
      "/home/jovyan/data/notebooks/mnagaku/seminar-lc4ri/.log/20190819/20190819-123036-0953.log",
      "/home/jovyan/data/notebooks/mnagaku/seminar-lc4ri/.log/20190819/20190819-124510-0372.log",
      "/home/jovyan/data/notebooks/mnagaku/seminar-lc4ri/.log/20190819/20190819-124653-0901.log",
      "/home/jovyan/data/notebooks/mnagaku/seminar-lc4ri/.log/20190819/20190819-132854-0802.log",
      "/home/jovyan/data/notebooks/mnagaku/seminar-lc4ri/.log/20190819/20190819-132936-0370.log",
      "/home/jovyan/data/notebooks/mnagaku/seminar-lc4ri/.log/20190819/20190819-133101-0663.log",
      "/home/jovyan/data/notebooks/mnagaku/seminar-lc4ri/.log/20190819/20190819-133148-0749.log",
      "/home/jovyan/data/notebooks/mnagaku/seminar-lc4ri/.log/20190819/20190819-133412-0375.log",
      "/home/jovyan/data/notebooks/mnagaku/seminar-lc4ri/.log/20190819/20190819-133629-0148.log",
      "/home/jovyan/data/notebooks/mnagaku/seminar-lc4ri/.log/20190819/20190819-133717-0004.log",
      "/home/jovyan/data/notebooks/mnagaku/seminar-lc4ri/.log/20190819/20190819-133922-0072.log",
      "/home/jovyan/data/notebooks/mnagaku/seminar-lc4ri/.log/20190819/20190819-175139-0805.log",
      "/home/jovyan/data/notebooks/mnagaku/seminar-lc4ri/.log/20190819/20190819-175220-0666.log",
      "/home/jovyan/data/notebooks/mnagaku/seminar-lc4ri/.log/20190819/20190819-185334-0835.log",
      "/home/jovyan/data/notebooks/mnagaku/seminar-lc4ri/.log/20190820/20190820-141136-0393.log",
      "/home/jovyan/data/notebooks/mnagaku/seminar-lc4ri/.log/20190820/20190820-142737-0187.log",
      "/home/jovyan/data/notebooks/mnagaku/seminar-lc4ri/.log/20190820/20190820-143723-0879.log",
      "/home/jovyan/data/notebooks/mnagaku/seminar-lc4ri/.log/20190820/20190820-172452-0614.log",
      "/home/jovyan/data/notebooks/mnagaku/seminar-lc4ri/.log/20190820/20190820-175151-0515.log",
      "/home/jovyan/data/notebooks/mnagaku/seminar-lc4ri/.log/20190820/20190820-184654-0882.log",
      "/home/jovyan/data/notebooks/mnagaku/seminar-lc4ri/.log/20190820/20190820-184719-0084.log",
      "/home/jovyan/data/notebooks/mnagaku/seminar-lc4ri/.log/20190820/20190820-184739-0011.log",
      "/home/jovyan/data/notebooks/mnagaku/seminar-lc4ri/.log/20190820/20190820-185010-0821.log",
      "/home/jovyan/data/notebooks/mnagaku/seminar-lc4ri/.log/20190820/20190820-185112-0700.log",
      "/home/jovyan/data/notebooks/mnagaku/seminar-lc4ri/.log/20190820/20190820-185215-0491.log",
      "/home/jovyan/data/notebooks/mnagaku/seminar-lc4ri/.log/20190820/20190820-185648-0606.log",
      "/home/jovyan/data/notebooks/mnagaku/seminar-lc4ri/.log/20190820/20190820-190943-0220.log",
      "/home/jovyan/data/notebooks/mnagaku/seminar-lc4ri/.log/20190820/20190820-191028-0019.log",
      "/home/jovyan/data/notebooks/mnagaku/seminar-lc4ri/.log/20190820/20190820-202322-0017.log",
      "/home/jovyan/data/notebooks/mnagaku/seminar-lc4ri/.log/20190821/20190821-162654-0435.log",
      "/home/jovyan/data/notebooks/mnagaku/seminar-lc4ri/.log/20190821/20190821-165953-0723.log",
      "/home/jovyan/data/notebooks/mnagaku/seminar-lc4ri/.log/20190829/20190829-224358-0184.log",
      "/home/jovyan/data/notebooks/mnagaku/seminar-lc4ri/.log/20190830/20190830-134257-0869.log",
      "/home/jovyan/data/notebooks/mnagaku/seminar-lc4ri/.log/20190831/20190831-215949-0851.log"
     ]
    }
   },
   "outputs": [],
   "source": [
    "image = 'ami-0b6f624ac10bbda43' # wp\n",
    "instance_type = 't3.medium'\n",
    "subnet = 'subnet-8a6618d1' # 先に作成済みのもの\n",
    "sg = 'seminar-lc4ri' # 先に作成済みのもの\n",
    "\n",
    "import json\n",
    "\n",
    "row = !ansible localhost -m ec2 -a \"region={target_region} key_name={username} \\\n",
    "profile=default wait=yes assign_public_ip=yes \\\n",
    "image={image} instance_type={instance_type} vpc_subnet_id={subnet} group={sg}\"\n",
    "\n",
    "while row[0].find('{') == -1:\n",
    "    del row[0]\n",
    "row[0] = \"{\"\n",
    "linux = json.loads(''.join(row))\n",
    "print(linux)"
   ]
  },
  {
   "cell_type": "markdown",
   "metadata": {
    "lc_cell_meme": {
     "current": "c1ad2982-c318-11e9-adb5-0242ac120003",
     "next": "c1ad2bb2-c318-11e9-adb5-0242ac120003",
     "previous": "0cbeec7a-bdac-11e9-897b-0242ac130003"
    }
   },
   "source": [
    "起動が完了するまで待ちます。"
   ]
  },
  {
   "cell_type": "code",
   "execution_count": null,
   "metadata": {
    "lc_cell_meme": {
     "current": "c1ad2bb2-c318-11e9-adb5-0242ac120003",
     "next": "47965d3a-bdb4-11e9-897b-0242ac130003",
     "previous": "c1ad2982-c318-11e9-adb5-0242ac120003"
    },
    "lc_wrapper": {
     "log_history": [
      "/home/jovyan/data/notebooks/mnagaku/seminar-lc4ri/.log/20190820/20190820-143152-0880.log",
      "/home/jovyan/data/notebooks/mnagaku/seminar-lc4ri/.log/20190820/20190820-143633-0650.log",
      "/home/jovyan/data/notebooks/mnagaku/seminar-lc4ri/.log/20190820/20190820-143737-0642.log",
      "/home/jovyan/data/notebooks/mnagaku/seminar-lc4ri/.log/20190820/20190820-172506-0169.log",
      "/home/jovyan/data/notebooks/mnagaku/seminar-lc4ri/.log/20190820/20190820-175205-0113.log",
      "/home/jovyan/data/notebooks/mnagaku/seminar-lc4ri/.log/20190820/20190820-185312-0855.log",
      "/home/jovyan/data/notebooks/mnagaku/seminar-lc4ri/.log/20190820/20190820-185356-0060.log",
      "/home/jovyan/data/notebooks/mnagaku/seminar-lc4ri/.log/20190820/20190820-185650-0252.log",
      "/home/jovyan/data/notebooks/mnagaku/seminar-lc4ri/.log/20190820/20190820-191120-0311.log",
      "/home/jovyan/data/notebooks/mnagaku/seminar-lc4ri/.log/20190820/20190820-202335-0437.log",
      "/home/jovyan/data/notebooks/mnagaku/seminar-lc4ri/.log/20190821/20190821-162708-0328.log",
      "/home/jovyan/data/notebooks/mnagaku/seminar-lc4ri/.log/20190821/20190821-170007-0300.log",
      "/home/jovyan/data/notebooks/mnagaku/seminar-lc4ri/.log/20190829/20190829-224412-0832.log",
      "/home/jovyan/data/notebooks/mnagaku/seminar-lc4ri/.log/20190830/20190830-134318-0403.log",
      "/home/jovyan/data/notebooks/mnagaku/seminar-lc4ri/.log/20190831/20190831-220004-0159.log"
     ]
    }
   },
   "outputs": [],
   "source": [
    "!aws ec2 wait instance-status-ok --include-all-instances --instance-ids {linux['instance_ids'][0]}"
   ]
  },
  {
   "cell_type": "markdown",
   "metadata": {
    "lc_cell_meme": {
     "current": "47965d3a-bdb4-11e9-897b-0242ac130003",
     "history": [
      {
       "current": "47965d3a-bdb4-11e9-897b-0242ac130003",
       "next": "0cbef012-bdac-11e9-897b-0242ac130003",
       "previous": "0cbeec7a-bdac-11e9-897b-0242ac130003"
      },
      {
       "current": "47965d3a-bdb4-11e9-897b-0242ac130003",
       "next": "0cbef012-bdac-11e9-897b-0242ac130003",
       "previous": "7e26d370-c309-11e9-adb5-0242ac120003"
      }
     ],
     "next": "0cbef012-bdac-11e9-897b-0242ac130003",
     "previous": "c1ad2bb2-c318-11e9-adb5-0242ac120003"
    }
   },
   "source": [
    "起動したLinuxマシンでOSアップデートを実行します。\n",
    "\n",
    "まず、接続情報を作成します。"
   ]
  },
  {
   "cell_type": "code",
   "execution_count": null,
   "metadata": {
    "lc_cell_meme": {
     "current": "0cbef012-bdac-11e9-897b-0242ac130003",
     "history": [
      {
       "current": "0cbef012-bdac-11e9-897b-0242ac130003",
       "next": "0cbef1a2-bdac-11e9-897b-0242ac130003",
       "previous": "0cbeec7a-bdac-11e9-897b-0242ac130003"
      },
      {
       "current": "0cbef012-bdac-11e9-897b-0242ac130003",
       "next": "8548ac2a-bdad-11e9-897b-0242ac130003",
       "previous": "0cbeec7a-bdac-11e9-897b-0242ac130003"
      }
     ],
     "next": "8548ac2a-bdad-11e9-897b-0242ac130003",
     "previous": "47965d3a-bdb4-11e9-897b-0242ac130003"
    },
    "lc_wrapper": {
     "log_history": [
      "/home/jovyan/data/notebooks/mnagaku/seminar-lc4ri/.log/20190813/20190813-182144-0706.log",
      "/home/jovyan/data/notebooks/mnagaku/seminar-lc4ri/.log/20190813/20190813-183420-0260.log",
      "/home/jovyan/data/notebooks/mnagaku/seminar-lc4ri/.log/20190813/20190813-183835-0097.log",
      "/home/jovyan/data/notebooks/mnagaku/seminar-lc4ri/.log/20190814/20190814-102704-0617.log",
      "/home/jovyan/data/notebooks/mnagaku/seminar-lc4ri/.log/20190814/20190814-163738-0034.log",
      "/home/jovyan/data/notebooks/mnagaku/seminar-lc4ri/.log/20190814/20190814-163929-0545.log",
      "/home/jovyan/data/notebooks/mnagaku/seminar-lc4ri/.log/20190814/20190814-173648-0543.log",
      "/home/jovyan/data/notebooks/mnagaku/seminar-lc4ri/.log/20190814/20190814-174000-0736.log",
      "/home/jovyan/data/notebooks/mnagaku/seminar-lc4ri/.log/20190819/20190819-111723-0440.log",
      "/home/jovyan/data/notebooks/mnagaku/seminar-lc4ri/.log/20190819/20190819-134126-0045.log",
      "/home/jovyan/data/notebooks/mnagaku/seminar-lc4ri/.log/20190819/20190819-175310-0357.log",
      "/home/jovyan/data/notebooks/mnagaku/seminar-lc4ri/.log/20190819/20190819-185401-0350.log",
      "/home/jovyan/data/notebooks/mnagaku/seminar-lc4ri/.log/20190820/20190820-141221-0955.log",
      "/home/jovyan/data/notebooks/mnagaku/seminar-lc4ri/.log/20190820/20190820-144113-0345.log",
      "/home/jovyan/data/notebooks/mnagaku/seminar-lc4ri/.log/20190820/20190820-172804-0482.log",
      "/home/jovyan/data/notebooks/mnagaku/seminar-lc4ri/.log/20190820/20190820-173115-0771.log",
      "/home/jovyan/data/notebooks/mnagaku/seminar-lc4ri/.log/20190820/20190820-175452-0407.log",
      "/home/jovyan/data/notebooks/mnagaku/seminar-lc4ri/.log/20190820/20190820-191831-0904.log",
      "/home/jovyan/data/notebooks/mnagaku/seminar-lc4ri/.log/20190820/20190820-191846-0652.log",
      "/home/jovyan/data/notebooks/mnagaku/seminar-lc4ri/.log/20190820/20190820-202547-0197.log",
      "/home/jovyan/data/notebooks/mnagaku/seminar-lc4ri/.log/20190821/20190821-162955-0381.log",
      "/home/jovyan/data/notebooks/mnagaku/seminar-lc4ri/.log/20190821/20190821-170334-0618.log",
      "/home/jovyan/data/notebooks/mnagaku/seminar-lc4ri/.log/20190829/20190829-224902-0325.log",
      "/home/jovyan/data/notebooks/mnagaku/seminar-lc4ri/.log/20190830/20190830-134606-0239.log",
      "/home/jovyan/data/notebooks/mnagaku/seminar-lc4ri/.log/20190831/20190831-220306-0909.log"
     ]
    }
   },
   "outputs": [],
   "source": [
    "host = linux[\"instances\"][0][\"public_ip\"]\n",
    "ansible_user = \"centos\"\n",
    "ansible_ssh_private_key_file = username + \".pem\"\n",
    "\n",
    "with open('hosts', mode='w') as f:\n",
    "    f.write(host + ' ansible_user=' + ansible_user + ' ansible_ssh_private_key_file='\n",
    "            + ansible_ssh_private_key_file)"
   ]
  },
  {
   "cell_type": "markdown",
   "metadata": {
    "lc_cell_meme": {
     "current": "8548ac2a-bdad-11e9-897b-0242ac130003",
     "history": [
      {
       "current": "8548ac2a-bdad-11e9-897b-0242ac130003",
       "next": "0cbef1a2-bdac-11e9-897b-0242ac130003",
       "previous": "0cbef012-bdac-11e9-897b-0242ac130003"
      }
     ],
     "next": "a33a65ea-cbf2-11e9-8830-0242ac150003",
     "previous": "0cbef012-bdac-11e9-897b-0242ac130003"
    }
   },
   "source": [
    "作成した接続情報を使う前に、対象となるLinuxマシンを信頼できるホストとして、fingerprint登録しておきます。JupyterのTerminalを使って、ダミーのssh実行を行うと登録されます。\n",
    "\n",
    "```\n",
    "$ ssh a@（対象となるLinuxマシンのIPアドレス）\n",
    "（中略）\n",
    "Are you sure you want to continue connecting (yes/no)? yes←信頼しますよの意味で入力する\n",
    "（以下略）\n",
    "```\n",
    "\n",
    "ssh接続を成功させたいわけではないので、接続自体は失敗させてしまって構いません。\n",
    "\n",
    "実務では、ansibleの対象となるLinuxマシンが大量だったり不定だったりするかも知れません。その場合は、sshやansibleの設定で、fingerprint登録の有無を確認しないこともできます。\n",
    "\n",
    "ansibleでコマンドを実行してLinuxマシンの起動を確認します。"
   ]
  },
  {
   "cell_type": "code",
   "execution_count": null,
   "metadata": {
    "lc_cell_meme": {
     "current": "a33a65ea-cbf2-11e9-8830-0242ac150003",
     "next": "a33a67e8-cbf2-11e9-8830-0242ac150003",
     "previous": "8548ac2a-bdad-11e9-897b-0242ac130003"
    },
    "lc_wrapper": {
     "log_history": [
      "/home/jovyan/data/notebooks/mnagaku/seminar-lc4ri/.log/20190831/20190831-220646-0322.log"
     ]
    }
   },
   "outputs": [],
   "source": [
    "!ansible -i hosts all -a \"pwd\""
   ]
  },
  {
   "cell_type": "markdown",
   "metadata": {
    "lc_cell_meme": {
     "current": "a33a67e8-cbf2-11e9-8830-0242ac150003",
     "next": "a33a68e2-cbf2-11e9-8830-0242ac150003",
     "previous": "a33a65ea-cbf2-11e9-8830-0242ac150003"
    }
   },
   "source": [
    "## 運用作業\n",
    "\n",
    "依頼（再掲）：\n",
    "\n",
    "admin/adminでログインできるはずのWordPressが入ったEC2のマシンイメージあるが、起動してもブラウザで動作を確認できない。調査して復旧させて欲しい。\n",
    "\n",
    "OSはCentOS7で、WordPressはwp-cliというツールでメンテナンスできる状態とのこと。\n",
    "\n",
    "参考情報：\n",
    "\n",
    "[システムサービスの管理](https://access.redhat.com/documentation/ja-jp/red_hat_enterprise_linux/7/html/system_administrators_guide/sect-managing_services_with_systemd-services)\n",
    "\n",
    "[WP-CLI Commands](https://developer.wordpress.org/cli/commands/config/)\n"
   ]
  },
  {
   "cell_type": "code",
   "execution_count": null,
   "metadata": {
    "lc_cell_meme": {
     "current": "a33a68e2-cbf2-11e9-8830-0242ac150003",
     "next": "a33a69b4-cbf2-11e9-8830-0242ac150003",
     "previous": "a33a67e8-cbf2-11e9-8830-0242ac150003"
    },
    "lc_wrapper": {
     "log_history": [
      "/home/jovyan/data/notebooks/mnagaku/seminar-lc4ri/.log/20190831/20190831-221307-0269.log"
     ]
    }
   },
   "outputs": [],
   "source": [
    "print(\"http://\" + host)"
   ]
  },
  {
   "cell_type": "markdown",
   "metadata": {
    "lc_cell_meme": {
     "current": "a33a69b4-cbf2-11e9-8830-0242ac150003",
     "next": "a33a6a86-cbf2-11e9-8830-0242ac150003",
     "previous": "a33a68e2-cbf2-11e9-8830-0242ac150003"
    }
   },
   "source": [
    "ブラウザでアクセスして確認してみましょう。\n",
    "\n",
    "webサーバの状態を確認すると..."
   ]
  },
  {
   "cell_type": "code",
   "execution_count": null,
   "metadata": {
    "lc_cell_meme": {
     "current": "a33a6a86-cbf2-11e9-8830-0242ac150003",
     "next": "a33a6b4e-cbf2-11e9-8830-0242ac150003",
     "previous": "a33a69b4-cbf2-11e9-8830-0242ac150003"
    },
    "lc_wrapper": {
     "log_history": [
      "/home/jovyan/data/notebooks/mnagaku/seminar-lc4ri/.log/20190831/20190831-222318-0145.log"
     ]
    },
    "pinned_outputs": [
     {
      "execution_count": 12,
      "outputs": [
       {
        "name": "stdout",
        "output_type": "stream",
        "text": "\u001b[0;33m18.182.17.103 | CHANGED | rc=0 >>\u001b[0m\r\n\u001b[0;33m● httpd.service - The Apache HTTP Server\u001b[0m\r\n\u001b[0;33m   Loaded: loaded (/usr/lib/systemd/system/httpd.service; disabled; vendor preset: disabled)\u001b[0m\r\n\u001b[0;33m   Active: active (running) since Sat 2019-08-31 13:14:41 UTC; 8min ago\u001b[0m\r\n\u001b[0;33m     Docs: man:httpd(8)\u001b[0m\r\n\u001b[0;33m           man:apachectl(8)\u001b[0m\r\n\u001b[0;33m Main PID: 10266 (httpd)\u001b[0m\r\n\u001b[0;33m   Status: \"Total requests: 38; Current requests/sec: 0; Current traffic:   0 B/sec\"\u001b[0m\r\n\u001b[0;33m   CGroup: /system.slice/httpd.service\u001b[0m\r\n\u001b[0;33m           ├─10266 /usr/sbin/httpd -DFOREGROUND\u001b[0m\r\n\u001b[0;33m           ├─10267 /usr/sbin/httpd -DFOREGROUND\u001b[0m\r\n\u001b[0;33m           ├─10268 /usr/sbin/httpd -DFOREGROUND\u001b[0m\r\n\u001b[0;33m           ├─10270 /usr/sbin/httpd -DFOREGROUND\u001b[0m\r\n\u001b[0;33m           ├─10271 /usr/sbin/httpd -DFOREGROUND\u001b[0m\r\n\u001b[0;33m           ├─10288 /usr/sbin/httpd -DFOREGROUND\u001b[0m\r\n\u001b[0;33m           ├─10290 /usr/sbin/httpd -DFOREGROUND\u001b[0m\r\n\u001b[0;33m           ├─10291 /usr/sbin/httpd -DFOREGROUND\u001b[0m\r\n\u001b[0;33m           ├─10292 /usr/sbin/httpd -DFOREGROUND\u001b[0m\r\n\u001b[0;33m           ├─10294 /usr/sbin/httpd -DFOREGROUND\u001b[0m\r\n\u001b[0;33m           └─10302 /usr/sbin/httpd -DFOREGROUND\u001b[0m\r\n\u001b[0;33m\u001b[0m\r\n\u001b[0;33mAug 31 13:14:40 ip-172-31-13-115.ap-northeast-1.compute.internal systemd[1]: Starting The Apache HTTP Server...\u001b[0m\r\n\u001b[0;33mAug 31 13:14:41 ip-172-31-13-115.ap-northeast-1.compute.internal systemd[1]: Started The Apache HTTP Server.\u001b[0m\r\n\u001b[0;33m\u001b[0m\r\n"
       }
      ]
     }
    ]
   },
   "outputs": [],
   "source": [
    "!ansible -i hosts all -a \"systemctl status httpd\" --become"
   ]
  },
  {
   "cell_type": "code",
   "execution_count": null,
   "metadata": {
    "lc_cell_meme": {
     "current": "a33a6b4e-cbf2-11e9-8830-0242ac150003",
     "history": [
      {
       "current": "a33a6b4e-cbf2-11e9-8830-0242ac150003",
       "next": "0cbef1a2-bdac-11e9-897b-0242ac130003",
       "previous": "a33a6a86-cbf2-11e9-8830-0242ac150003"
      }
     ],
     "next": "1e4630ec-cbf9-11e9-8830-0242ac150003",
     "previous": "a33a6a86-cbf2-11e9-8830-0242ac150003"
    }
   },
   "outputs": [],
   "source": []
  },
  {
   "cell_type": "code",
   "execution_count": null,
   "metadata": {
    "lc_cell_meme": {
     "current": "1e4630ec-cbf9-11e9-8830-0242ac150003",
     "next": "1e46360a-cbf9-11e9-8830-0242ac150003",
     "previous": "a33a6b4e-cbf2-11e9-8830-0242ac150003"
    }
   },
   "outputs": [],
   "source": []
  },
  {
   "cell_type": "markdown",
   "metadata": {
    "lc_cell_meme": {
     "current": "1e46360a-cbf9-11e9-8830-0242ac150003",
     "next": "1e463966-cbf9-11e9-8830-0242ac150003",
     "previous": "1e4630ec-cbf9-11e9-8830-0242ac150003"
    }
   },
   "source": [
    "adminでログインしてみましょう。\n",
    "\n",
    "また、wp-config.phpを確認します。"
   ]
  },
  {
   "cell_type": "code",
   "execution_count": null,
   "metadata": {
    "lc_cell_meme": {
     "current": "1e463966-cbf9-11e9-8830-0242ac150003",
     "next": "1e463c68-cbf9-11e9-8830-0242ac150003",
     "previous": "1e46360a-cbf9-11e9-8830-0242ac150003"
    },
    "lc_wrapper": {
     "log_history": [
      "/home/jovyan/data/notebooks/mnagaku/seminar-lc4ri/.log/20190831/20190831-225553-0063.log"
     ]
    },
    "pinned_outputs": [
     {
      "execution_count": 13,
      "outputs": [
       {
        "name": "stdout",
        "output_type": "stream",
        "text": "\u001b[0;33m18.182.17.103 | CHANGED | rc=0 >>\u001b[0m\r\n\u001b[0;33m+-------------------+-----------------------------------------------+----------+\u001b[0m\r\n\u001b[0;33m| name              | value                                         | type     |\u001b[0m\r\n\u001b[0;33m+-------------------+-----------------------------------------------+----------+\u001b[0m\r\n\u001b[0;33m| table_prefix      | wp_                                           | variable |\u001b[0m\r\n\u001b[0;33m| DB_NAME           | wordpress                                     | constant |\u001b[0m\r\n\u001b[0;33m| DB_USER           | user                                          | constant |\u001b[0m\r\n\u001b[0;33m| DB_PASSWORD       | password                                      | constant |\u001b[0m\r\n\u001b[0;33m| DB_HOST           | localhost                                     | constant |\u001b[0m\r\n\u001b[0;33m| DB_CHARSET        | utf8                                          | constant |\u001b[0m\r\n\u001b[0;33m| DB_COLLATE        |                                               | constant |\u001b[0m\r\n\u001b[0;33m| AUTH_KEY          | i0{G/|?H~i4=Rj<5R^DZ42|0qjnXj#2V-|wE,]ca?M(3c | constant |\u001b[0m\r\n\u001b[0;33m|                   | rm`>G;Z52L/f0S5RxM#                           |          |\u001b[0m\r\n\u001b[0;33m| SECURE_AUTH_KEY   | 7U5_fj?/9v#:oJM@d^8r!zLNL7}T2lO<hu[2PY/O(4+=M | constant |\u001b[0m\r\n\u001b[0;33m|                   | l|tgAXs$QLxl}= `W&p                           |          |\u001b[0m\r\n\u001b[0;33m| LOGGED_IN_KEY     | dED$6R7hv~]G_j8bDl{F_jT$|W0hM>Lj?S/T<~HXeE2aN | constant |\u001b[0m\r\n\u001b[0;33m|                   | ;E;%BHly;4n1&Hg}DLl                           |          |\u001b[0m\r\n\u001b[0;33m| NONCE_KEY         | #a;>DLTX5~_eqx!)||Rq?~hxamQxc$r7@hr]UUj,]MRC; | constant |\u001b[0m\r\n\u001b[0;33m|                   | :shst@WB;McIs{Qn~CD                           |          |\u001b[0m\r\n\u001b[0;33m| AUTH_SALT         | XRf)-_%E3q&uG!YcQHRd_[3<j>JK 4u~r&DGxL/d~%Ug$ | constant |\u001b[0m\r\n\u001b[0;33m|                   | ^LvJh-ir+o@bCWv35]u                           |          |\u001b[0m\r\n\u001b[0;33m| SECURE_AUTH_SALT  | .v7!@&rC88bxKy#{%^P-1N=|;}ri>_kReZfw<,y,kv),J | constant |\u001b[0m\r\n\u001b[0;33m|                   | N:-Ngw:LgDgoN)GL!w%                           |          |\u001b[0m\r\n\u001b[0;33m| LOGGED_IN_SALT    | SNEXw7Ai-]*B~Nc| JUze4=:fm}QUNO#BvCEUCbcvHk6M | constant |\u001b[0m\r\n\u001b[0;33m|                   | Pe<pY r;g{<7}5Ph;`R                           |          |\u001b[0m\r\n\u001b[0;33m| NONCE_SALT        | VC?BZT_lU%JC_2:oe0PW3}<x73VUcAL.h6fE9DDx7~Q5O | constant |\u001b[0m\r\n\u001b[0;33m|                   | OhylIi;6*b3P-9FZ`G^                           |          |\u001b[0m\r\n\u001b[0;33m| WP_CACHE_KEY_SALT | txgytgvNaa/mqvX-HN0_hS8aC9?lYMD fYVP5!&%^/{W1 | constant |\u001b[0m\r\n\u001b[0;33m|                   | ,: 5Zm,4wQ,~ecu7u0:                           |          |\u001b[0m\r\n\u001b[0;33m| WP_SITEURL        | http://18.182.17.103                          | constant |\u001b[0m\r\n\u001b[0;33m| WP_HOME           | http://18.182.17.103                          | constant |\u001b[0m\r\n\u001b[0;33m+-------------------+-----------------------------------------------+----------+\u001b[0m\r\n\u001b[0;33m\u001b[0m\r\n"
       }
      ]
     }
    ]
   },
   "outputs": [],
   "source": [
    "!ansible -i hosts all -a \"wp config list --path=/var/www/html\""
   ]
  },
  {
   "cell_type": "code",
   "execution_count": null,
   "metadata": {
    "lc_cell_meme": {
     "current": "1e463c68-cbf9-11e9-8830-0242ac150003",
     "next": "1e463f4c-cbf9-11e9-8830-0242ac150003",
     "previous": "1e463966-cbf9-11e9-8830-0242ac150003"
    }
   },
   "outputs": [],
   "source": []
  },
  {
   "cell_type": "code",
   "execution_count": null,
   "metadata": {
    "lc_cell_meme": {
     "current": "1e463f4c-cbf9-11e9-8830-0242ac150003",
     "next": "1e464226-cbf9-11e9-8830-0242ac150003",
     "previous": "1e463c68-cbf9-11e9-8830-0242ac150003"
    }
   },
   "outputs": [],
   "source": []
  },
  {
   "cell_type": "markdown",
   "metadata": {
    "lc_cell_meme": {
     "current": "1e464226-cbf9-11e9-8830-0242ac150003",
     "next": "1e464500-cbf9-11e9-8830-0242ac150003",
     "previous": "1e463f4c-cbf9-11e9-8830-0242ac150003"
    }
   },
   "source": [
    "記事を投稿してみましょう。写真も付けて。\n",
    "\n",
    "ファイルのアップロード先は /var/www/html/wp-content/uploads"
   ]
  },
  {
   "cell_type": "code",
   "execution_count": null,
   "metadata": {
    "lc_cell_meme": {
     "current": "1e464500-cbf9-11e9-8830-0242ac150003",
     "next": "1e4647d0-cbf9-11e9-8830-0242ac150003",
     "previous": "1e464226-cbf9-11e9-8830-0242ac150003"
    },
    "lc_wrapper": {
     "log_history": [
      "/home/jovyan/data/notebooks/mnagaku/seminar-lc4ri/.log/20190831/20190831-230608-0902.log"
     ]
    },
    "pinned_outputs": [
     {
      "execution_count": 14,
      "outputs": [
       {
        "name": "stdout",
        "output_type": "stream",
        "text": "\u001b[0;33m18.182.17.103 | CHANGED | rc=0 >>\u001b[0m\r\n\u001b[0;33mtotal 12\u001b[0m\r\n\u001b[0;33mdrwxrwxr-x. 6 centos centos   84 Aug 31 08:40 .\u001b[0m\r\n\u001b[0;33mdrwxrwxrwx. 5 root   root   4096 Aug 31 13:16 ..\u001b[0m\r\n\u001b[0;33m-rw-rw-r--. 1 centos centos   28 Aug 31 08:40 index.php\u001b[0m\r\n\u001b[0;33mdrwxrwxr-x. 4 centos centos 4096 Aug 31 08:40 languages\u001b[0m\r\n\u001b[0;33mdrwxrwxr-x. 3 centos centos   55 Aug 31 08:40 plugins\u001b[0m\r\n\u001b[0;33mdrwxrwxr-x. 5 centos centos   89 Aug 31 08:40 themes\u001b[0m\r\n\u001b[0;33mdrwxrwxrwx. 3 centos centos   18 Aug 31 08:40 uploads\u001b[0m\r\n\u001b[0;33m\u001b[0m\r\n"
       }
      ]
     }
    ]
   },
   "outputs": [],
   "source": [
    "!ansible -i hosts all -a \"ls -la /var/www/html/wp-content\""
   ]
  },
  {
   "cell_type": "code",
   "execution_count": null,
   "metadata": {
    "lc_cell_meme": {
     "current": "1e4647d0-cbf9-11e9-8830-0242ac150003",
     "next": "1e464a96-cbf9-11e9-8830-0242ac150003",
     "previous": "1e464500-cbf9-11e9-8830-0242ac150003"
    }
   },
   "outputs": [],
   "source": []
  },
  {
   "cell_type": "code",
   "execution_count": null,
   "metadata": {
    "lc_cell_meme": {
     "current": "1e464a96-cbf9-11e9-8830-0242ac150003",
     "next": "be2a3686-c3e2-11e9-a49b-0242ac130003",
     "previous": "1e4647d0-cbf9-11e9-8830-0242ac150003"
    }
   },
   "outputs": [],
   "source": []
  },
  {
   "cell_type": "markdown",
   "metadata": {
    "lc_cell_meme": {
     "current": "be2a3686-c3e2-11e9-a49b-0242ac130003",
     "history": [
      {
       "current": "be2a3686-c3e2-11e9-a49b-0242ac130003",
       "next": "be2a3898-c3e2-11e9-a49b-0242ac130003",
       "previous": "535aa4fa-c340-11e9-adb5-0242ac120003"
      }
     ],
     "next": "be2a3898-c3e2-11e9-a49b-0242ac130003",
     "previous": "1e464a96-cbf9-11e9-8830-0242ac150003"
    }
   },
   "source": [
    "## Linuxマシンを破棄する"
   ]
  },
  {
   "cell_type": "code",
   "execution_count": null,
   "metadata": {
    "lc_cell_meme": {
     "current": "be2a3898-c3e2-11e9-a49b-0242ac130003",
     "history": [
      {
       "current": "be2a3898-c3e2-11e9-a49b-0242ac130003",
       "next": null,
       "previous": "be2a3686-c3e2-11e9-a49b-0242ac130003"
      }
     ],
     "next": "9105aafa-c3e7-11e9-a49b-0242ac130003",
     "previous": "be2a3686-c3e2-11e9-a49b-0242ac130003"
    },
    "lc_wrapper": {
     "log_history": [
      "/home/jovyan/data/notebooks/mnagaku/seminar-lc4ri/.log/20190821/20190821-164349-0760.log",
      "/home/jovyan/data/notebooks/mnagaku/seminar-lc4ri/.log/20190821/20190821-170933-0403.log"
     ]
    }
   },
   "outputs": [],
   "source": [
    "!aws ec2 terminate-instances --instance-ids {linux['instance_ids'][0]}"
   ]
  },
  {
   "cell_type": "code",
   "execution_count": null,
   "metadata": {
    "lc_cell_meme": {
     "current": "9105aafa-c3e7-11e9-a49b-0242ac130003",
     "next": null,
     "previous": "be2a3898-c3e2-11e9-a49b-0242ac130003"
    }
   },
   "outputs": [],
   "source": []
  }
 ],
 "metadata": {
  "kernelspec": {
   "display_name": "Python 3",
   "language": "python",
   "name": "python3"
  },
  "language_info": {
   "file_extension": ".py",
   "mimetype": "text/x-python",
   "name": "python",
   "nbconvert_exporter": "python",
   "pygments_lexer": "ipython3",
   "version": "3.7.3"
  },
  "lc_notebook_meme": {
   "current": "fd1fbdc2-bd78-11e9-897b-0242ac130003",
   "lc_server_signature": {
    "current": {
     "notebook_dir": "/home/jovyan",
     "notebook_path": "/data/notebooks/mnagaku/seminar-lc4ri",
     "server_url": "http://localhost:8888/",
     "signature_id": "a7e2ef66-cc58-11e9-8d4e-0242ac120003"
    },
    "history": [
     {
      "notebook_dir": "/home/jovyan",
      "notebook_path": "/data/notebooks/mnagaku/seminar-lc4ri",
      "server_url": "http://localhost:8888/",
      "signature_id": "2aeac838-bd78-11e9-897b-0242ac130003"
     },
     {
      "notebook_dir": "/home/jovyan",
      "notebook_path": "/data/notebooks/mnagaku/seminar-lc4ri",
      "server_url": "http://localhost:8888/",
      "signature_id": "fdfd5484-be2c-11e9-bf95-0242ac120003"
     },
     {
      "notebook_dir": "/home/jovyan",
      "notebook_path": "/data/notebooks/mnagaku/seminar-lc4ri",
      "server_url": "http://localhost:8888/",
      "signature_id": "897b9ca0-c224-11e9-aed2-0242ac120003"
     },
     {
      "notebook_dir": "/home/jovyan",
      "notebook_path": "/data/notebooks/mnagaku/seminar-lc4ri",
      "server_url": "http://localhost:8888/",
      "signature_id": "c18ec10c-c306-11e9-adb5-0242ac120003"
     },
     {
      "notebook_dir": "/home/jovyan",
      "notebook_path": "/data/notebooks/mnagaku/seminar-lc4ri",
      "server_url": "http://localhost:8888/",
      "signature_id": "ff9db736-c3d9-11e9-9868-0242ac120003"
     },
     {
      "notebook_dir": "/home/jovyan",
      "notebook_path": "/data/notebooks/mnagaku/seminar-lc4ri",
      "server_url": "http://localhost:8888/",
      "signature_id": "60d2da1a-c3e2-11e9-a49b-0242ac130003"
     },
     {
      "notebook_dir": "/home/jovyan",
      "notebook_path": "/data/notebooks/mnagaku/seminar-lc4ri",
      "server_url": "http://localhost:8888/",
      "signature_id": "8ef05dc0-ca61-11e9-8a1c-0242ac120003"
     },
     {
      "notebook_dir": "/home/jovyan",
      "notebook_path": "/data/notebooks/mnagaku/seminar-lc4ri",
      "server_url": "http://localhost:8888/",
      "signature_id": "d4fd5750-cad9-11e9-9998-0242ac120003"
     },
     {
      "notebook_dir": "/home/jovyan",
      "notebook_path": "/data/notebooks/mnagaku/seminar-lc4ri",
      "server_url": "http://localhost:8888/",
      "signature_id": "a933d282-cbe9-11e9-8830-0242ac150003"
     }
    ]
   }
  },
  "toc": {
   "base_numbering": 1,
   "nav_menu": {},
   "number_sections": true,
   "sideBar": true,
   "skip_h1_title": false,
   "title_cell": "Table of Contents",
   "title_sidebar": "Contents",
   "toc_cell": false,
   "toc_position": {},
   "toc_section_display": true,
   "toc_window_display": true
  }
 },
 "nbformat": 4,
 "nbformat_minor": 2
}
