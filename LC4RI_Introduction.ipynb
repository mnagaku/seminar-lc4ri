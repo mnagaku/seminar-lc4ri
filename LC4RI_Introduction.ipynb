{
 "cells": [
  {
   "cell_type": "markdown",
   "metadata": {
    "lc_cell_meme": {
     "current": "0637cdd6-b718-11e8-94de-0242ac110002",
     "history": [
      {
       "current": "0637cdd6-b718-11e8-94de-0242ac110002",
       "next": "030b8b04-b70c-11e8-94de-0242ac110002",
       "previous": null
      }
     ],
     "next": "4dbdfd60-b718-11e8-94de-0242ac110002",
     "previous": null
    }
   },
   "source": [
    "# LC4RI入門\n",
    "\n",
    "所要時間：30分\n",
    "\n",
    "NIIクラウド運用チームの実践する「LC4RI（Literate Computing for Reproducible Infrastructure）」について、お話します。"
   ]
  },
  {
   "cell_type": "markdown",
   "metadata": {
    "lc_cell_meme": {
     "current": "4dbdfd60-b718-11e8-94de-0242ac110002",
     "history": [
      {
       "current": "4dbdfd60-b718-11e8-94de-0242ac110002",
       "next": "030b8b04-b70c-11e8-94de-0242ac110002",
       "previous": "0637cdd6-b718-11e8-94de-0242ac110002"
      }
     ],
     "next": "4dbdfd60-b718-11e8-94de-0242ac110002",
     "previous": "0637cdd6-b718-11e8-94de-0242ac110002"
    }
   },
   "source": [
    "## Literate Computing とは何か\n",
    "\n",
    "[コンピューティング](https://ja.wikipedia.org/wiki/%E3%82%B3%E3%83%B3%E3%83%94%E3%83%A5%E3%83%BC%E3%83%86%E3%82%A3%E3%83%B3%E3%82%B0)\n",
    "\n",
    "[\"Literate computing\" and computational reproducibility: IPython in the age of data-driven journalism](http://blog.fperez.org/2013/04/literate-computing-and-computational.html)\n",
    "\n",
    "[Notebook interface](https://en.wikipedia.org/wiki/Notebook_interface)\n",
    "\n",
    "コンピュータとインタラクションしながら作業する時、個々の操作と結果の対の列が文脈を構成します。操作だけの列や、一部が欠けた状態では、文脈が保存されているとは言えません。Pythonの対話型シェル「IPython」の作者である Fernando Perez は、IPythonによるコンピューティングの文脈を保存するために Notebook interface を採用した「IPython Notebook（現 Jupyter Notebook）」を作りました。\n",
    "\n",
    "コンピュータの操作の列では、その操作の意図が明確に読み取れない、読み取りにくい場合もあるため、ソースコードに含まれるコメントのように、自然言語による注意書きが効果的です。この注意書きを実現するため、Jupyter Notebook には、マークダウンでドキュメンテーションする機能があります。\n",
    "\n",
    "実際の操作履歴に加え、操作時の背景をメモしておくことで、文脈が保存され、あとから読んだり、再利用したりできるようになります。"
   ]
  },
  {
   "cell_type": "markdown",
   "metadata": {
    "lc_cell_meme": {
     "current": "4dbdfd60-b718-11e8-94de-0242ac110002",
     "history": [
      {
       "current": "4dbdfd60-b718-11e8-94de-0242ac110002",
       "next": "030b8b04-b70c-11e8-94de-0242ac110002",
       "previous": "0637cdd6-b718-11e8-94de-0242ac110002"
      },
      {
       "current": "4dbdfd60-b718-11e8-94de-0242ac110002",
       "next": "4dbdfd60-b718-11e8-94de-0242ac110002",
       "previous": "0637cdd6-b718-11e8-94de-0242ac110002"
      },
      {
       "current": "4dbdfd60-b718-11e8-94de-0242ac110002",
       "next": "4dbdfd60-b718-11e8-94de-0242ac110002",
       "previous": "4dbdfd60-b718-11e8-94de-0242ac110002"
      },
      {
       "current": "4dbdfd60-b718-11e8-94de-0242ac110002",
       "next": "cc37ef22-8119-11e9-9294-0242ac110002",
       "previous": "4dbdfd60-b718-11e8-94de-0242ac110002"
      }
     ],
     "next": "4dbdfd60-b718-11e8-94de-0242ac110002",
     "previous": "4dbdfd60-b718-11e8-94de-0242ac110002"
    }
   },
   "source": [
    "## 情報システムの構築・運用\n",
    "\n",
    "情報システムの構築・運用では、エンジニアがCLIを操作して作業することが多くあります。また、その作業証跡が必要となったり、背景知識を理解してシニアエンジニアと同じ作業をできるようにトレーニングしたり、完全に同じではないが似ている作業を頻繁に行ったりします。情報システムの構築・運用におけるこの特徴が、Literate Computing とマッチすることから、Jupyter Notebook を用いて情報システムの構築・運用を行うアイデアが生まれました。その実践により生まれた手法が「LC4RI」です。\n",
    "\n",
    "また、「[Infrastructure as Code](https://ja.wikipedia.org/wiki/Infrastructure_as_Code)」の流行によって、情報システムの構築・運用に利用できるツール群が整備されたことも、「LC4RI」の取り組みを進めやすくしました。例えば、「[Ansible](https://www.ansible.com/)」です。 "
   ]
  },
  {
   "cell_type": "markdown",
   "metadata": {
    "lc_cell_meme": {
     "current": "4dbdfd60-b718-11e8-94de-0242ac110002",
     "history": [
      {
       "current": "4dbdfd60-b718-11e8-94de-0242ac110002",
       "next": "030b8b04-b70c-11e8-94de-0242ac110002",
       "previous": "0637cdd6-b718-11e8-94de-0242ac110002"
      },
      {
       "current": "4dbdfd60-b718-11e8-94de-0242ac110002",
       "next": "030b8b04-b70c-11e8-94de-0242ac110002",
       "previous": "4dbdfd60-b718-11e8-94de-0242ac110002"
      },
      {
       "current": "4dbdfd60-b718-11e8-94de-0242ac110002",
       "next": "b54a0b82-80f2-11e9-9294-0242ac110002",
       "previous": "4dbdfd60-b718-11e8-94de-0242ac110002"
      },
      {
       "current": "4dbdfd60-b718-11e8-94de-0242ac110002",
       "next": "b54a0b82-80f2-11e9-9294-0242ac110002",
       "previous": "cc37ef22-8119-11e9-9294-0242ac110002"
      },
      {
       "current": "4dbdfd60-b718-11e8-94de-0242ac110002",
       "next": "cc37ef22-8119-11e9-9294-0242ac110002",
       "previous": "4dbdfd60-b718-11e8-94de-0242ac110002"
      },
      {
       "current": "4dbdfd60-b718-11e8-94de-0242ac110002",
       "next": "78e26d78-811b-11e9-9294-0242ac110002",
       "previous": "4dbdfd60-b718-11e8-94de-0242ac110002"
      },
      {
       "current": "4dbdfd60-b718-11e8-94de-0242ac110002",
       "next": "260b2caa-811d-11e9-9294-0242ac110002",
       "previous": "4dbdfd60-b718-11e8-94de-0242ac110002"
      },
      {
       "current": "4dbdfd60-b718-11e8-94de-0242ac110002",
       "next": "a9c7fd14-811f-11e9-9294-0242ac110002",
       "previous": "4dbdfd60-b718-11e8-94de-0242ac110002"
      },
      {
       "current": "4dbdfd60-b718-11e8-94de-0242ac110002",
       "next": "69b0c8d2-8124-11e9-9294-0242ac110002",
       "previous": "4dbdfd60-b718-11e8-94de-0242ac110002"
      },
      {
       "current": "4dbdfd60-b718-11e8-94de-0242ac110002",
       "next": "5e6acdae-8126-11e9-9294-0242ac110002",
       "previous": "4dbdfd60-b718-11e8-94de-0242ac110002"
      }
     ],
     "next": "4568661c-b73c-11e9-ae0d-0242ac130003",
     "previous": "4dbdfd60-b718-11e8-94de-0242ac110002"
    }
   },
   "source": [
    "### 実例：Ansible経由のOSパッケージのアップグレード\n",
    "\n",
    "Jupyter Notebook が動いている\n",
    "まずは、ディストリビューションの確認から。"
   ]
  },
  {
   "cell_type": "code",
   "execution_count": null,
   "metadata": {
    "lc_cell_meme": {
     "current": "4568661c-b73c-11e9-ae0d-0242ac130003",
     "next": "4dbdfd60-b718-11e8-94de-0242ac110002",
     "previous": "4dbdfd60-b718-11e8-94de-0242ac110002"
    },
    "lc_wrapper": {
     "log_history": [
      "/home/jovyan/data/notebooks/mnagaku/nii20190909/.log/20190805/20190805-134910-0718.log"
     ]
    },
    "pinned_outputs": [
     {
      "execution_count": 1,
      "outputs": [
       {
        "name": "stdout",
        "output_type": "stream",
        "text": "path: /home/jovyan/data/notebooks/mnagaku/nii20190909/.log/20190805/20190805-134910-0718.log (1 logs recorded)\nstart time: 2019-08-05 13:49:10(JST)\nend time: 2019-08-05 13:49:11(JST)\noutput size: 575 bytes\n0 chunks with matched keywords or errors\n----\nUbuntu 18.04.2 LTS \\n \\l\n"
       }
      ]
     }
    ]
   },
   "outputs": [],
   "source": [
    "!cat /etc/issue"
   ]
  },
  {
   "cell_type": "markdown",
   "metadata": {
    "lc_cell_meme": {
     "current": "4dbdfd60-b718-11e8-94de-0242ac110002",
     "history": [
      {
       "current": "4dbdfd60-b718-11e8-94de-0242ac110002",
       "next": "030b8b04-b70c-11e8-94de-0242ac110002",
       "previous": "0637cdd6-b718-11e8-94de-0242ac110002"
      },
      {
       "current": "4dbdfd60-b718-11e8-94de-0242ac110002",
       "next": "030b8b04-b70c-11e8-94de-0242ac110002",
       "previous": "4dbdfd60-b718-11e8-94de-0242ac110002"
      },
      {
       "current": "4dbdfd60-b718-11e8-94de-0242ac110002",
       "next": "b54a0b82-80f2-11e9-9294-0242ac110002",
       "previous": "4dbdfd60-b718-11e8-94de-0242ac110002"
      },
      {
       "current": "4dbdfd60-b718-11e8-94de-0242ac110002",
       "next": "b54a0b82-80f2-11e9-9294-0242ac110002",
       "previous": "cc37ef22-8119-11e9-9294-0242ac110002"
      },
      {
       "current": "4dbdfd60-b718-11e8-94de-0242ac110002",
       "next": "cc37ef22-8119-11e9-9294-0242ac110002",
       "previous": "4dbdfd60-b718-11e8-94de-0242ac110002"
      },
      {
       "current": "4dbdfd60-b718-11e8-94de-0242ac110002",
       "next": "78e26d78-811b-11e9-9294-0242ac110002",
       "previous": "4dbdfd60-b718-11e8-94de-0242ac110002"
      },
      {
       "current": "4dbdfd60-b718-11e8-94de-0242ac110002",
       "next": "260b2caa-811d-11e9-9294-0242ac110002",
       "previous": "4dbdfd60-b718-11e8-94de-0242ac110002"
      },
      {
       "current": "4dbdfd60-b718-11e8-94de-0242ac110002",
       "next": "a9c7fd14-811f-11e9-9294-0242ac110002",
       "previous": "4dbdfd60-b718-11e8-94de-0242ac110002"
      },
      {
       "current": "4dbdfd60-b718-11e8-94de-0242ac110002",
       "next": "69b0c8d2-8124-11e9-9294-0242ac110002",
       "previous": "4dbdfd60-b718-11e8-94de-0242ac110002"
      },
      {
       "current": "4dbdfd60-b718-11e8-94de-0242ac110002",
       "next": "5e6acdae-8126-11e9-9294-0242ac110002",
       "previous": "4dbdfd60-b718-11e8-94de-0242ac110002"
      }
     ],
     "next": "5e6acdae-8126-11e9-9294-0242ac110002",
     "previous": "4568661c-b73c-11e9-ae0d-0242ac130003"
    }
   },
   "source": [
    "Ubuntuなので、 apt-get upgrade してみましょう。\n",
    "\n",
    "----\n",
    "\n",
    "まず、操作対象をインベントリファイルに書いておきます。今回の対象は、localhost、1台とします。"
   ]
  },
  {
   "cell_type": "code",
   "execution_count": null,
   "metadata": {
    "lc_cell_meme": {
     "current": "5e6acdae-8126-11e9-9294-0242ac110002",
     "history": [
      {
       "current": "5e6acdae-8126-11e9-9294-0242ac110002",
       "next": "69b0c8d2-8124-11e9-9294-0242ac110002",
       "previous": "4dbdfd60-b718-11e8-94de-0242ac110002"
      }
     ],
     "next": "a5e83130-8126-11e9-9294-0242ac110002",
     "previous": "4dbdfd60-b718-11e8-94de-0242ac110002"
    },
    "lc_wrapper": {
     "log_history": [
      "/home/jovyan/data/notebooks/mnagaku/nii20190909/.log/20190805/20190805-135047-0705.log"
     ]
    }
   },
   "outputs": [],
   "source": [
    "!echo \"localhost\" > hosts"
   ]
  },
  {
   "cell_type": "markdown",
   "metadata": {
    "lc_cell_meme": {
     "current": "a5e83130-8126-11e9-9294-0242ac110002",
     "next": "69b0c8d2-8124-11e9-9294-0242ac110002",
     "previous": "5e6acdae-8126-11e9-9294-0242ac110002"
    }
   },
   "source": [
    "https://docs.ansible.com/ansible/latest/modules/apt_module.html\n",
    "\n",
    "aptモジュールを使ってupgradeを指示します。\n",
    "\n",
    "今回は、対象がローカルなので「-c local」オプションを指定します。これを付けないと、aptモジュールなどLinuxを対象とした操作はssh経由になってしまいます。\n",
    "\n",
    "今回は、aptの実行に管理者権限が必要なので、「--become」オプションを指定します。\n",
    "\n",
    "今回は、update後にupgradeするように「-a \"update_cache=yes upgrade=yes\"」を指定します。"
   ]
  },
  {
   "cell_type": "code",
   "execution_count": null,
   "metadata": {
    "lc_cell_meme": {
     "current": "69b0c8d2-8124-11e9-9294-0242ac110002",
     "history": [
      {
       "current": "69b0c8d2-8124-11e9-9294-0242ac110002",
       "next": "a9c7fd14-811f-11e9-9294-0242ac110002",
       "previous": "4dbdfd60-b718-11e8-94de-0242ac110002"
      },
      {
       "current": "69b0c8d2-8124-11e9-9294-0242ac110002",
       "next": "a9c7fd14-811f-11e9-9294-0242ac110002",
       "previous": "5e6acdae-8126-11e9-9294-0242ac110002"
      },
      {
       "current": "69b0c8d2-8124-11e9-9294-0242ac110002",
       "next": "a9c7fd14-811f-11e9-9294-0242ac110002",
       "previous": "a5e83130-8126-11e9-9294-0242ac110002"
      },
      {
       "current": "69b0c8d2-8124-11e9-9294-0242ac110002",
       "next": "b91e240a-8129-11e9-9294-0242ac110002",
       "previous": "a5e83130-8126-11e9-9294-0242ac110002"
      }
     ],
     "next": "c05f9cc0-811b-11e9-9294-0242ac110002",
     "previous": "a5e83130-8126-11e9-9294-0242ac110002"
    },
    "lc_wrapper": {
     "log_history": [
      "/home/jovyan/data/notebooks/mnagaku/nii20190909/.log/20190805/20190805-135055-0255.log"
     ]
    },
    "pinned_outputs": [
     {
      "execution_count": 3,
      "outputs": [
       {
        "name": "stdout",
        "output_type": "stream",
        "text": "path: /home/jovyan/data/notebooks/mnagaku/nii20190909/.log/20190805/20190805-135055-0255.log (1 logs recorded)\nstart time: 2019-08-05 13:50:55(JST)\nend time: 2019-08-05 13:51:21(JST)\noutput size: 11925 bytes\n4 chunks with matched keywords or errors\n----\n\u001b[1;35m [WARNING]: Updating cache and auto-installing missing dependency: python-apt\u001b[0m\n\u001b[1;35m\u001b[0m\n\u001b[1;35m [WARNING]: Could not find aptitude. Using apt-get instead\u001b[0m\n\u001b[1;35m\u001b[0m\n\u001b[0;35m[DEPRECATION WARNING]: Distribution Ubuntu 18.04 on host localhost should use \u001b[0m\n\u001b[0;35m/usr/bin/python3, but is using /usr/bin/python for backward compatibility with \u001b[0m\n\u001b[0;35mprior Ansible releases. A future Ansible release will default to using the \u001b[0m\n\u001b[0;35mdiscovered platform python for this host. See https://docs.ansible.com/ansible/\u001b[0m\n\u001b[0;35m2.8/reference_appendices/interpreter_discovery.html for more information. This \u001b[0m\n\u001b[0;35mfeature will be removed in version 2.12. Deprecation warnings can be disabled \u001b[0m\n\u001b[0;35mby setting deprecation_warnings=False in ansible.cfg.\u001b[0m\n\u001b[0;33mlocalhost | CHANGED => {\u001b[0m\n\u001b[0;33m    \"ansible_facts\": {\u001b[0m\n\u001b[0;33m        \"discovered_interpreter_python\": \"/usr/bin/python\"\u001b[0m\n\u001b[0;33m    },\u001b[0m\n\u001b[0;33m    \"changed\": true,\u001b[0m\n\u001b[0;33m    \"msg\": \"Reading package lists...\\nBuilding dependency tree...\\nReading state information...\\nCalculating upgrade...\\nThe following packages will be upgraded:\\n  base-files libldap-2.4-2 libldap-common\\n3 upgraded, 0 newly installed, 0 to remove and 0 not upgraded.\\nNeed to get 232 kB of archives.\\nAfter this operation, 0 B of additional disk space will be used.\\nGet:1 http://archive.ubuntu.com/ubuntu bionic-updates/main amd64 base-files amd64 10.1ubuntu2.5 [60.2 kB]\\nGet:2 http://archive.ubuntu.com/ubuntu bionic-updates/main amd64 libldap-common all 2.4.45+dfsg-1ubuntu1.3 [16.9 kB]\\nGet:3 http://archive.ubuntu.com/ubuntu bionic-updates/main amd64 libldap-2.4-2 amd64 2.4.45+dfsg-1ubuntu1.3 [155 kB]\\nFetched 232 kB in 2s (120 kB/s)\\n(Reading database ... \\r(Reading database ... 5%\\r(Reading database ... 10%\\r(Reading database ... 15%\\r(Reading database ... 20%\\r(Reading database ... 25%\\r(Reading database ... 30%\\r(Reading database ... 35%\\r(Reading database ... 40%\\r(Reading database ... 45%\\r(Reading database ... 50%\\r(Reading database ... 55%\\r(Reading database ... 60%\\r(Reading database ... 65%\\r(Reading database ... 70%\\r(Reading database ... 75%\\r(Reading database ... 80%\\r(Reading database ... 85%\\r(Reading database ... 90%\\r(Reading database ... 95%\\r(Reading database ... 100%\\r(Reading database ... 126905 files and directories currently installed.)\\r\\nPreparing to unpack .../base-files_10.1ubuntu2.5_amd64.deb ...\\r\\nUnpacking base-files (10.1ubuntu2.5) over (10.1ubuntu2.4) ...\\r\\nSetting up base-files (10.1ubuntu2.5) ...\\r\\n(Reading database ... \\r(Reading database ... 5%\\r(Reading database ... 10%\\r(Reading database ... 15%\\r(Reading database ... 20%\\r(Reading database ... 25%\\r(Reading database ... 30%\\r(Reading database ... 35%\\r(Reading database ... 40%\\r(Reading database ... 45%\\r(Reading database ... 50%\\r(Reading database ... 55%\\r(Reading database ... 60%\\r(Reading database ... 65%\\r(Reading database ... 70%\\r(Reading database ... 75%\\r(Reading database ... 80%\\r(Reading database ... 85%\\r(Reading database ... 90%\\r(Reading database ... 95%\\r(Reading database ... 100%\\r(Reading database ... 126905 files and directories currently installed.)\\r\\nPreparing to unpack .../libldap-common_2.4.45+dfsg-1ubuntu1.3_all.deb ...\\r\\nUnpacking libldap-common (2.4.45+dfsg-1ubuntu1.3) over (2.4.45+dfsg-1ubuntu1.2) ...\\r\\nPreparing to unpack .../libldap-2.4-2_2.4.45+dfsg-1ubuntu1.3_amd64.deb ...\\r\\nUnpacking libldap-2.4-2:amd64 (2.4.45+dfsg-1ubuntu1.3) over (2.4.45+dfsg-1ubuntu1.2) ...\\r\\nSetting up libldap-common (2.4.45+dfsg-1ubuntu1.3) ...\\r\\nProcessing triggers for install-info (6.5.0.dfsg.1-2) ...\\r\\nProcessing triggers for libc-bin (2.27-3ubuntu1) ...\\r\\nSetting up libldap-2.4-2:amd64 (2.4.45+dfsg-1ubuntu1.3) ...\\r\\nProcessing triggers for libc-bin (2.27-3ubuntu1) ...\\r\\n\",\u001b[0m\n\u001b[0;33m    \"stderr\": \"debconf: delaying package configuration, since apt-utils is not installed\\n\",\u001b[0m\n\u001b[0;33m    \"stderr_lines\": [\u001b[0m\n\u001b[0;33m        \"debconf: delaying package configuration, since apt-utils is not installed\"\u001b[0m\n...\n\u001b[0;35mfeature will be removed in version 2.12. Deprecation \u001b[0;31mwarning\u001b[0ms can be disabled \u001b[0m\n\u001b[0;35mby setting deprecation_\u001b[0;31mwarning\u001b[0ms=False in ansible.cfg.\u001b[0m\n\u001b[0;33m    \"stderr\": \"debconf: delaying package configuration, since apt-utils \u001b[0;31mis not\u001b[0m installed\\n\",\u001b[0m\n\u001b[0;33m        \"debconf: delaying package configuration, since apt-utils \u001b[0;31mis not\u001b[0m installed\"\u001b[0m\n...\n\u001b[0;33m        \"(Reading database ... 65%\",\u001b[0m\n\u001b[0;33m        \"(Reading database ... 70%\",\u001b[0m\n\u001b[0;33m        \"(Reading database ... 75%\",\u001b[0m\n\u001b[0;33m        \"(Reading database ... 80%\",\u001b[0m\n\u001b[0;33m        \"(Reading database ... 85%\",\u001b[0m\n\u001b[0;33m        \"(Reading database ... 90%\",\u001b[0m\n\u001b[0;33m        \"(Reading database ... 95%\",\u001b[0m\n\u001b[0;33m        \"(Reading database ... 100%\",\u001b[0m\n\u001b[0;33m        \"(Reading database ... 126905 files and directories currently installed.)\",\u001b[0m\n\u001b[0;33m        \"Preparing to unpack .../libldap-common_2.4.45+dfsg-1ubuntu1.3_all.deb ...\",\u001b[0m\n\u001b[0;33m        \"Unpacking libldap-common (2.4.45+dfsg-1ubuntu1.3) over (2.4.45+dfsg-1ubuntu1.2) ...\",\u001b[0m\n\u001b[0;33m        \"Preparing to unpack .../libldap-2.4-2_2.4.45+dfsg-1ubuntu1.3_amd64.deb ...\",\u001b[0m\n\u001b[0;33m        \"Unpacking libldap-2.4-2:amd64 (2.4.45+dfsg-1ubuntu1.3) over (2.4.45+dfsg-1ubuntu1.2) ...\",\u001b[0m\n\u001b[0;33m        \"Setting up libldap-common (2.4.45+dfsg-1ubuntu1.3) ...\",\u001b[0m\n\u001b[0;33m        \"Processing triggers for install-info (6.5.0.dfsg.1-2) ...\",\u001b[0m\n\u001b[0;33m        \"Processing triggers for libc-bin (2.27-3ubuntu1) ...\",\u001b[0m\n\u001b[0;33m        \"Setting up libldap-2.4-2:amd64 (2.4.45+dfsg-1ubuntu1.3) ...\",\u001b[0m\n\u001b[0;33m        \"Processing triggers for libc-bin (2.27-3ubuntu1) ...\"\u001b[0m\n\u001b[0;33m    ]\u001b[0m\n\u001b[0;33m}\u001b[0m"
       }
      ]
     }
    ]
   },
   "outputs": [],
   "source": [
    "!ansible -i ./hosts all --become -c local -m apt -a \"update_cache=yes upgrade=yes\""
   ]
  },
  {
   "cell_type": "markdown",
   "metadata": {
    "lc_cell_meme": {
     "current": "c05f9cc0-811b-11e9-9294-0242ac110002",
     "history": [
      {
       "current": "c05f9cc0-811b-11e9-9294-0242ac110002",
       "next": "b54a0b82-80f2-11e9-9294-0242ac110002",
       "previous": "cc37ef22-8119-11e9-9294-0242ac110002"
      },
      {
       "current": "c05f9cc0-811b-11e9-9294-0242ac110002",
       "next": "b54a0b82-80f2-11e9-9294-0242ac110002",
       "previous": "8b9fcbce-811e-11e9-9294-0242ac110002"
      }
     ],
     "next": "b54a0b82-80f2-11e9-9294-0242ac110002",
     "previous": "69b0c8d2-8124-11e9-9294-0242ac110002"
    }
   },
   "source": [
    "（警告はいっぱい出たけど）upgradeに成功した！\n",
    "\n",
    "----\n",
    "\n",
    "みたいなNotebookを使った作業を行います。"
   ]
  },
  {
   "cell_type": "markdown",
   "metadata": {
    "lc_cell_meme": {
     "current": "b54a0b82-80f2-11e9-9294-0242ac110002",
     "history": [
      {
       "current": "b54a0b82-80f2-11e9-9294-0242ac110002",
       "next": "030b8b04-b70c-11e8-94de-0242ac110002",
       "previous": "4dbdfd60-b718-11e8-94de-0242ac110002"
      },
      {
       "current": "b54a0b82-80f2-11e9-9294-0242ac110002",
       "next": "fd3329c4-80f2-11e9-9294-0242ac110002",
       "previous": "4dbdfd60-b718-11e8-94de-0242ac110002"
      },
      {
       "current": "b54a0b82-80f2-11e9-9294-0242ac110002",
       "next": "357fb55a-8101-11e9-9294-0242ac110002",
       "previous": "4dbdfd60-b718-11e8-94de-0242ac110002"
      },
      {
       "current": "b54a0b82-80f2-11e9-9294-0242ac110002",
       "next": "357fb55a-8101-11e9-9294-0242ac110002",
       "previous": "78e26d78-811b-11e9-9294-0242ac110002"
      },
      {
       "current": "b54a0b82-80f2-11e9-9294-0242ac110002",
       "next": null,
       "previous": "c05f9cc0-811b-11e9-9294-0242ac110002"
      },
      {
       "current": "b54a0b82-80f2-11e9-9294-0242ac110002",
       "next": "fc56e5c0-8130-11e9-9294-0242ac110002",
       "previous": "c05f9cc0-811b-11e9-9294-0242ac110002"
      },
      {
       "current": "b54a0b82-80f2-11e9-9294-0242ac110002",
       "next": "f7d9f654-b76d-11e9-99cd-0242ac140003",
       "previous": "c05f9cc0-811b-11e9-9294-0242ac110002"
      }
     ],
     "next": "b54a0b82-80f2-11e9-9294-0242ac110002",
     "previous": "c05f9cc0-811b-11e9-9294-0242ac110002"
    }
   },
   "source": [
    "### 完全に同じではないが似ている作業\n",
    "\n",
    "1.2.1の手順が Notebook として存在している時、操作対象を「localhost、1台」から「192.168.1.11〜192.168.1.19、9台」に変えて apt-get upgrade したい場合、 hosts の内容を9台の指定とし、「-c local」オプションを省いて ansible コマンドを実行すれば良いでしょう。これを、 Notebook のコピーと改変で行うことができます。"
   ]
  },
  {
   "cell_type": "markdown",
   "metadata": {
    "lc_cell_meme": {
     "current": "b54a0b82-80f2-11e9-9294-0242ac110002",
     "history": [
      {
       "current": "b54a0b82-80f2-11e9-9294-0242ac110002",
       "next": "030b8b04-b70c-11e8-94de-0242ac110002",
       "previous": "4dbdfd60-b718-11e8-94de-0242ac110002"
      },
      {
       "current": "b54a0b82-80f2-11e9-9294-0242ac110002",
       "next": "fd3329c4-80f2-11e9-9294-0242ac110002",
       "previous": "4dbdfd60-b718-11e8-94de-0242ac110002"
      },
      {
       "current": "b54a0b82-80f2-11e9-9294-0242ac110002",
       "next": "357fb55a-8101-11e9-9294-0242ac110002",
       "previous": "4dbdfd60-b718-11e8-94de-0242ac110002"
      },
      {
       "current": "b54a0b82-80f2-11e9-9294-0242ac110002",
       "next": "357fb55a-8101-11e9-9294-0242ac110002",
       "previous": "78e26d78-811b-11e9-9294-0242ac110002"
      },
      {
       "current": "b54a0b82-80f2-11e9-9294-0242ac110002",
       "next": null,
       "previous": "c05f9cc0-811b-11e9-9294-0242ac110002"
      },
      {
       "current": "b54a0b82-80f2-11e9-9294-0242ac110002",
       "next": "fc56e5c0-8130-11e9-9294-0242ac110002",
       "previous": "c05f9cc0-811b-11e9-9294-0242ac110002"
      },
      {
       "current": "b54a0b82-80f2-11e9-9294-0242ac110002",
       "next": "f7d9f654-b76d-11e9-99cd-0242ac140003",
       "previous": "c05f9cc0-811b-11e9-9294-0242ac110002"
      },
      {
       "current": "b54a0b82-80f2-11e9-9294-0242ac110002",
       "next": "b54a0b82-80f2-11e9-9294-0242ac110002",
       "previous": "c05f9cc0-811b-11e9-9294-0242ac110002"
      }
     ],
     "next": "b54a0b82-80f2-11e9-9294-0242ac110002",
     "previous": "b54a0b82-80f2-11e9-9294-0242ac110002"
    }
   },
   "source": [
    "### 背景知識を理解してシニアエンジニアと同じ作業をできる\n",
    "\n",
    "シニアエンジニアが、ターミナルを使って、さまざまなコマンドを駆使して作業を行った時、その作業内容を他のメンバと共有しないと、知見が属人化します。技能移転も行えません。\n",
    "\n",
    "シニアエンジニアが、 Notebook を使って、さまざまなコマンドを駆使したり、途中でググったメモを残すなどして作業を行った時、他のメンバと Notebook を共有することで、知見を共有できます。 Notebook を通じて、シニアエンジニアの作業を追体験でき、技能移転が行えます。"
   ]
  },
  {
   "cell_type": "markdown",
   "metadata": {
    "lc_cell_meme": {
     "current": "b54a0b82-80f2-11e9-9294-0242ac110002",
     "history": [
      {
       "current": "b54a0b82-80f2-11e9-9294-0242ac110002",
       "next": "030b8b04-b70c-11e8-94de-0242ac110002",
       "previous": "4dbdfd60-b718-11e8-94de-0242ac110002"
      },
      {
       "current": "b54a0b82-80f2-11e9-9294-0242ac110002",
       "next": "fd3329c4-80f2-11e9-9294-0242ac110002",
       "previous": "4dbdfd60-b718-11e8-94de-0242ac110002"
      },
      {
       "current": "b54a0b82-80f2-11e9-9294-0242ac110002",
       "next": "357fb55a-8101-11e9-9294-0242ac110002",
       "previous": "4dbdfd60-b718-11e8-94de-0242ac110002"
      },
      {
       "current": "b54a0b82-80f2-11e9-9294-0242ac110002",
       "next": "357fb55a-8101-11e9-9294-0242ac110002",
       "previous": "78e26d78-811b-11e9-9294-0242ac110002"
      },
      {
       "current": "b54a0b82-80f2-11e9-9294-0242ac110002",
       "next": null,
       "previous": "c05f9cc0-811b-11e9-9294-0242ac110002"
      },
      {
       "current": "b54a0b82-80f2-11e9-9294-0242ac110002",
       "next": "fc56e5c0-8130-11e9-9294-0242ac110002",
       "previous": "c05f9cc0-811b-11e9-9294-0242ac110002"
      },
      {
       "current": "b54a0b82-80f2-11e9-9294-0242ac110002",
       "next": "f7d9f654-b76d-11e9-99cd-0242ac140003",
       "previous": "c05f9cc0-811b-11e9-9294-0242ac110002"
      }
     ],
     "next": "f7d9f654-b76d-11e9-99cd-0242ac140003",
     "previous": "b54a0b82-80f2-11e9-9294-0242ac110002"
    }
   },
   "source": [
    "### 作業証跡"
   ]
  },
  {
   "cell_type": "code",
   "execution_count": null,
   "metadata": {
    "lc_cell_meme": {
     "current": "f7d9f654-b76d-11e9-99cd-0242ac140003",
     "next": "f7d9f7ee-b76d-11e9-99cd-0242ac140003",
     "previous": "b54a0b82-80f2-11e9-9294-0242ac110002"
    },
    "lc_wrapper": {
     "log_history": [
      "/home/jovyan/data/notebooks/mnagaku/nii20190909/.log/20190805/20190805-193155-0691.log"
     ]
    }
   },
   "outputs": [],
   "source": [
    "!ls -la"
   ]
  },
  {
   "cell_type": "code",
   "execution_count": null,
   "metadata": {
    "lc_cell_meme": {
     "current": "f7d9f7ee-b76d-11e9-99cd-0242ac140003",
     "next": "f7d9f8e8-b76d-11e9-99cd-0242ac140003",
     "previous": "f7d9f654-b76d-11e9-99cd-0242ac140003"
    },
    "lc_wrapper": {
     "log_history": [
      "/home/jovyan/data/notebooks/mnagaku/nii20190909/.log/20190805/20190805-193212-0791.log"
     ]
    }
   },
   "outputs": [],
   "source": [
    "!ls -la .log"
   ]
  },
  {
   "cell_type": "markdown",
   "metadata": {
    "lc_cell_meme": {
     "current": "f7d9f8e8-b76d-11e9-99cd-0242ac140003",
     "next": "f7d9f9ce-b76d-11e9-99cd-0242ac140003",
     "previous": "f7d9f7ee-b76d-11e9-99cd-0242ac140003"
    }
   },
   "source": [
    "今日の日付のディレクトリを覗いてみましょう。"
   ]
  },
  {
   "cell_type": "code",
   "execution_count": null,
   "metadata": {
    "lc_cell_meme": {
     "current": "f7d9f9ce-b76d-11e9-99cd-0242ac140003",
     "next": "f7d9faaa-b76d-11e9-99cd-0242ac140003",
     "previous": "f7d9f8e8-b76d-11e9-99cd-0242ac140003"
    },
    "lc_wrapper": {
     "log_history": [
      "/home/jovyan/data/notebooks/mnagaku/nii20190909/.log/20190805/20190805-193311-0257.log"
     ]
    }
   },
   "outputs": [],
   "source": [
    "!ls -la .log/2019xxxx"
   ]
  },
  {
   "cell_type": "markdown",
   "metadata": {
    "lc_cell_meme": {
     "current": "f7d9faaa-b76d-11e9-99cd-0242ac140003",
     "next": "f7d9fb90-b76d-11e9-99cd-0242ac140003",
     "previous": "f7d9f9ce-b76d-11e9-99cd-0242ac140003"
    }
   },
   "source": [
    "logファイルを1つ覗いてみましょう。"
   ]
  },
  {
   "cell_type": "code",
   "execution_count": null,
   "metadata": {
    "lc_cell_meme": {
     "current": "f7d9fb90-b76d-11e9-99cd-0242ac140003",
     "next": "b54a0b82-80f2-11e9-9294-0242ac110002",
     "previous": "f7d9faaa-b76d-11e9-99cd-0242ac140003"
    },
    "lc_wrapper": {
     "log_history": [
      "/home/jovyan/data/notebooks/mnagaku/nii20190909/.log/20190805/20190805-193601-0966.log"
     ]
    }
   },
   "outputs": [],
   "source": [
    "!cat .log/2019xxxx/2019xxxx-xxxxxx-xxxx.log"
   ]
  },
  {
   "cell_type": "markdown",
   "metadata": {
    "lc_cell_meme": {
     "current": "b54a0b82-80f2-11e9-9294-0242ac110002",
     "history": [
      {
       "current": "b54a0b82-80f2-11e9-9294-0242ac110002",
       "next": "030b8b04-b70c-11e8-94de-0242ac110002",
       "previous": "4dbdfd60-b718-11e8-94de-0242ac110002"
      },
      {
       "current": "b54a0b82-80f2-11e9-9294-0242ac110002",
       "next": "fd3329c4-80f2-11e9-9294-0242ac110002",
       "previous": "4dbdfd60-b718-11e8-94de-0242ac110002"
      },
      {
       "current": "b54a0b82-80f2-11e9-9294-0242ac110002",
       "next": "357fb55a-8101-11e9-9294-0242ac110002",
       "previous": "4dbdfd60-b718-11e8-94de-0242ac110002"
      },
      {
       "current": "b54a0b82-80f2-11e9-9294-0242ac110002",
       "next": "357fb55a-8101-11e9-9294-0242ac110002",
       "previous": "78e26d78-811b-11e9-9294-0242ac110002"
      },
      {
       "current": "b54a0b82-80f2-11e9-9294-0242ac110002",
       "next": null,
       "previous": "c05f9cc0-811b-11e9-9294-0242ac110002"
      },
      {
       "current": "b54a0b82-80f2-11e9-9294-0242ac110002",
       "next": "fc56e5c0-8130-11e9-9294-0242ac110002",
       "previous": "c05f9cc0-811b-11e9-9294-0242ac110002"
      },
      {
       "current": "b54a0b82-80f2-11e9-9294-0242ac110002",
       "next": "fc56e5c0-8130-11e9-9294-0242ac110002",
       "previous": "f7d9fb90-b76d-11e9-99cd-0242ac140003"
      }
     ],
     "next": "b54a0b82-80f2-11e9-9294-0242ac110002",
     "previous": "f7d9fb90-b76d-11e9-99cd-0242ac140003"
    }
   },
   "source": [
    "全てのセルの実行結果を、個々にログファイルに残しています。（プラグイン拡張）\n",
    "\n",
    "ログファイルを生成時に転送する仕組みを用意することで、監査などの目的に使える、作業証跡を残すことができます。"
   ]
  },
  {
   "cell_type": "markdown",
   "metadata": {
    "lc_cell_meme": {
     "current": "b54a0b82-80f2-11e9-9294-0242ac110002",
     "history": [
      {
       "current": "b54a0b82-80f2-11e9-9294-0242ac110002",
       "next": "030b8b04-b70c-11e8-94de-0242ac110002",
       "previous": "4dbdfd60-b718-11e8-94de-0242ac110002"
      },
      {
       "current": "b54a0b82-80f2-11e9-9294-0242ac110002",
       "next": "fd3329c4-80f2-11e9-9294-0242ac110002",
       "previous": "4dbdfd60-b718-11e8-94de-0242ac110002"
      },
      {
       "current": "b54a0b82-80f2-11e9-9294-0242ac110002",
       "next": "357fb55a-8101-11e9-9294-0242ac110002",
       "previous": "4dbdfd60-b718-11e8-94de-0242ac110002"
      },
      {
       "current": "b54a0b82-80f2-11e9-9294-0242ac110002",
       "next": "357fb55a-8101-11e9-9294-0242ac110002",
       "previous": "78e26d78-811b-11e9-9294-0242ac110002"
      },
      {
       "current": "b54a0b82-80f2-11e9-9294-0242ac110002",
       "next": null,
       "previous": "c05f9cc0-811b-11e9-9294-0242ac110002"
      },
      {
       "current": "b54a0b82-80f2-11e9-9294-0242ac110002",
       "next": "fc56e5c0-8130-11e9-9294-0242ac110002",
       "previous": "c05f9cc0-811b-11e9-9294-0242ac110002"
      },
      {
       "current": "b54a0b82-80f2-11e9-9294-0242ac110002",
       "next": "fc56e5c0-8130-11e9-9294-0242ac110002",
       "previous": "f7d9fb90-b76d-11e9-99cd-0242ac140003"
      },
      {
       "current": "b54a0b82-80f2-11e9-9294-0242ac110002",
       "next": "d354071a-8131-11e9-9294-0242ac110002",
       "previous": "b54a0b82-80f2-11e9-9294-0242ac110002"
      }
     ],
     "next": "b54a0b82-80f2-11e9-9294-0242ac110002",
     "previous": "b54a0b82-80f2-11e9-9294-0242ac110002"
    }
   },
   "source": [
    "### 手順のメンテナンス\n",
    "\n",
    "対象システムがアップデートされると、以前の手順が使えなくなる場合があります。このため、以前の手順をコピーし改変して再利用する際には、同様の Notebook の中から、最も直近で動いた実績があるものをコピーするようにします。対象システムの振る舞いが変化し、コピーした手順をそのまま使えない場合、その場で調査などして、 Notebook に修正を施し（当然、その経緯も書き残し）、作業を完了させます。次回には、修正された Notebook がコピー元に使われるため、手順の再利用が行える可能性が高くなります。\n",
    "\n",
    "マスターを管理し、メンテナンスすることも可能ですが、上記のプロセスよりもコストが掛かります。また、マスターは清書した結果を書きがちなので、文脈が消えてしまい、情報を伝える効果が減ってしまう可能性があります。"
   ]
  },
  {
   "cell_type": "markdown",
   "metadata": {
    "lc_cell_meme": {
     "current": "b54a0b82-80f2-11e9-9294-0242ac110002",
     "history": [
      {
       "current": "b54a0b82-80f2-11e9-9294-0242ac110002",
       "next": "030b8b04-b70c-11e8-94de-0242ac110002",
       "previous": "4dbdfd60-b718-11e8-94de-0242ac110002"
      },
      {
       "current": "b54a0b82-80f2-11e9-9294-0242ac110002",
       "next": "fd3329c4-80f2-11e9-9294-0242ac110002",
       "previous": "4dbdfd60-b718-11e8-94de-0242ac110002"
      },
      {
       "current": "b54a0b82-80f2-11e9-9294-0242ac110002",
       "next": "357fb55a-8101-11e9-9294-0242ac110002",
       "previous": "4dbdfd60-b718-11e8-94de-0242ac110002"
      },
      {
       "current": "b54a0b82-80f2-11e9-9294-0242ac110002",
       "next": "357fb55a-8101-11e9-9294-0242ac110002",
       "previous": "78e26d78-811b-11e9-9294-0242ac110002"
      },
      {
       "current": "b54a0b82-80f2-11e9-9294-0242ac110002",
       "next": null,
       "previous": "c05f9cc0-811b-11e9-9294-0242ac110002"
      },
      {
       "current": "b54a0b82-80f2-11e9-9294-0242ac110002",
       "next": "fc56e5c0-8130-11e9-9294-0242ac110002",
       "previous": "c05f9cc0-811b-11e9-9294-0242ac110002"
      },
      {
       "current": "b54a0b82-80f2-11e9-9294-0242ac110002",
       "next": "fc56e5c0-8130-11e9-9294-0242ac110002",
       "previous": "f7d9fb90-b76d-11e9-99cd-0242ac140003"
      },
      {
       "current": "b54a0b82-80f2-11e9-9294-0242ac110002",
       "next": "d354071a-8131-11e9-9294-0242ac110002",
       "previous": "b54a0b82-80f2-11e9-9294-0242ac110002"
      }
     ],
     "next": "b54a0b82-80f2-11e9-9294-0242ac110002",
     "previous": "b54a0b82-80f2-11e9-9294-0242ac110002"
    }
   },
   "source": [
    "### 手順がない作業\n",
    "\n",
    "初めて発生した障害の復旧など、手順が存在しない作業を行う場合があります。この場合も、新規作成した Notebook をターミナルの代わりに使って作業を行います。すると、冗長でメモが少ないかも知れませんが、新しく有用な手順が手に入ります。シニアが作業した Notebook をジュニアの人が流用して作業できたり、メモが分かりにくいければ質問して議論して追記したり、不要な部分を削除して清書したり、想定外だった作業を手順化し、チームで共有することができます。"
   ]
  },
  {
   "cell_type": "markdown",
   "metadata": {
    "lc_cell_meme": {
     "current": "b54a0b82-80f2-11e9-9294-0242ac110002",
     "history": [
      {
       "current": "b54a0b82-80f2-11e9-9294-0242ac110002",
       "next": "030b8b04-b70c-11e8-94de-0242ac110002",
       "previous": "4dbdfd60-b718-11e8-94de-0242ac110002"
      },
      {
       "current": "b54a0b82-80f2-11e9-9294-0242ac110002",
       "next": "fd3329c4-80f2-11e9-9294-0242ac110002",
       "previous": "4dbdfd60-b718-11e8-94de-0242ac110002"
      },
      {
       "current": "b54a0b82-80f2-11e9-9294-0242ac110002",
       "next": "357fb55a-8101-11e9-9294-0242ac110002",
       "previous": "4dbdfd60-b718-11e8-94de-0242ac110002"
      },
      {
       "current": "b54a0b82-80f2-11e9-9294-0242ac110002",
       "next": "357fb55a-8101-11e9-9294-0242ac110002",
       "previous": "78e26d78-811b-11e9-9294-0242ac110002"
      },
      {
       "current": "b54a0b82-80f2-11e9-9294-0242ac110002",
       "next": null,
       "previous": "c05f9cc0-811b-11e9-9294-0242ac110002"
      },
      {
       "current": "b54a0b82-80f2-11e9-9294-0242ac110002",
       "next": "fc56e5c0-8130-11e9-9294-0242ac110002",
       "previous": "c05f9cc0-811b-11e9-9294-0242ac110002"
      },
      {
       "current": "b54a0b82-80f2-11e9-9294-0242ac110002",
       "next": "fc56e5c0-8130-11e9-9294-0242ac110002",
       "previous": "f7d9fb90-b76d-11e9-99cd-0242ac140003"
      }
     ],
     "next": "d354071a-8131-11e9-9294-0242ac110002",
     "previous": "b54a0b82-80f2-11e9-9294-0242ac110002"
    }
   },
   "source": [
    "### Ansibleについての注意\n",
    "\n",
    "Ansibleを使うことで、\n",
    "\n",
    "- Linuxサーバの他にもネットワーク機器を操作することもできます\n",
    "- インベントリを適切に構成することで、複数の操作対象にまとめて操作を行うことができます\n",
    "- 機器台帳からインベントリに切り出してくるフローを考えることもできます\n",
    "- 定番的に使われる手順をplaybook化しても良いかも知れません（ほんとうに適したケースは稀ですが）\n",
    "\n",
    "といった利点がありますが、チームによっては、Ansibleを使いこなすのが難しいというケースもあるでしょう。そうした場合には、\n",
    "\n",
    "[[nornir] Python 製自動化フレームワーク「nornir」かんたんチュートリアル（Ansibleと比較しながら）](https://tekunabe.hatenablog.jp/entry/2018/10/16/nornir_intro)\n",
    "\n",
    "など、他のツールをいろいろ試して、自分たちに合うものを選定すると良いでしょう。"
   ]
  },
  {
   "cell_type": "markdown",
   "metadata": {
    "lc_cell_meme": {
     "current": "d354071a-8131-11e9-9294-0242ac110002",
     "history": [
      {
       "current": "d354071a-8131-11e9-9294-0242ac110002",
       "next": null,
       "previous": "d35406b6-8131-11e9-9294-0242ac110002"
      }
     ],
     "next": null,
     "previous": "b54a0b82-80f2-11e9-9294-0242ac110002"
    }
   },
   "source": [
    "おしまい。"
   ]
  }
 ],
 "metadata": {
  "kernelspec": {
   "display_name": "Python 3",
   "language": "python",
   "name": "python3"
  },
  "language_info": {
   "file_extension": ".py",
   "mimetype": "text/x-python",
   "name": "python",
   "nbconvert_exporter": "python",
   "pygments_lexer": "ipython3",
   "version": "3.7.3"
  },
  "lc_notebook_meme": {
   "current": "030b849c-b70c-11e8-94de-0242ac110002",
   "lc_server_signature": {
    "current": {
     "notebook_dir": "/home/jovyan",
     "notebook_path": "/data/notebooks/mnagaku/seminar-lc4ri",
     "server_url": "http://localhost:8888/",
     "signature_id": "b83b872a-b9a1-11e9-9643-0242ac120003"
    },
    "history": [
     {
      "notebook_dir": "/home/jovyan",
      "notebook_path": "/",
      "server_url": "http://localhost:8888/",
      "signature_id": "62b0ad4c-b70b-11e8-94de-0242ac110002"
     },
     {
      "notebook_dir": "/home/jovyan",
      "notebook_path": "/",
      "server_url": "http://localhost:8888/",
      "signature_id": "7d5c8fe2-bbd1-11e8-8037-0242ac110002"
     },
     {
      "notebook_dir": "/home/jovyan",
      "notebook_path": "/",
      "server_url": "http://localhost:8888/",
      "signature_id": "d3349b02-bc9f-11e8-b446-0242ac110002"
     },
     {
      "notebook_dir": "/notebooks/notebook",
      "notebook_path": "/",
      "server_url": "https://ocs513.vcp-handson.org/handson/",
      "signature_id": "d0c53b60-f9f3-11e8-ad2a-0242ac110002"
     },
     {
      "notebook_dir": "/notebooks/notebook",
      "notebook_path": "/",
      "server_url": "https://ocs521.vcp-handson.org:8443/handson/",
      "signature_id": "66d42ada-77b2-11e9-8cbd-0242ac110002"
     },
     {
      "notebook_dir": "/home/jovyan",
      "notebook_path": "/data/notebooks/mnagaku/nii20190909",
      "server_url": "http://localhost:8888/",
      "signature_id": "e1681782-b738-11e9-ae0d-0242ac130003"
     },
     {
      "notebook_dir": "/home/jovyan",
      "notebook_path": "/data/notebooks/mnagaku/nii20190909",
      "server_url": "http://localhost:8888/",
      "signature_id": "a2539f90-b74b-11e9-99cd-0242ac140003"
     },
     {
      "notebook_dir": "/home/jovyan",
      "notebook_path": "/data/notebooks/mnagaku/nii20190909",
      "server_url": "http://localhost:8888/",
      "signature_id": "69c94d70-b807-11e9-a792-0242ac120003"
     }
    ]
   }
  },
  "toc": {
   "base_numbering": 1,
   "nav_menu": {},
   "number_sections": true,
   "sideBar": true,
   "skip_h1_title": false,
   "title_cell": "Table of Contents",
   "title_sidebar": "Contents",
   "toc_cell": false,
   "toc_position": {
    "height": "calc(100% - 180px)",
    "left": "10px",
    "top": "150px",
    "width": "215.594px"
   },
   "toc_section_display": true,
   "toc_window_display": true
  }
 },
 "nbformat": 4,
 "nbformat_minor": 2
}
